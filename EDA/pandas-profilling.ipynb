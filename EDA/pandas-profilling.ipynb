{
 "cells": [
  {
   "cell_type": "code",
   "execution_count": 2,
   "id": "7c28ff89",
   "metadata": {},
   "outputs": [],
   "source": [
    "import pandas as pd"
   ]
  },
  {
   "cell_type": "code",
   "execution_count": 3,
   "id": "8947e31a",
   "metadata": {},
   "outputs": [],
   "source": [
    "df=pd.read_csv('train.csv',encoding='latin')"
   ]
  },
  {
   "cell_type": "code",
   "execution_count": 17,
   "id": "bd41bb4f",
   "metadata": {},
   "outputs": [
    {
     "name": "stdout",
     "output_type": "stream",
     "text": [
      "Requirement already satisfied: pandas-profiling in /Users/shresthmurarka/opt/anaconda3/lib/python3.9/site-packages (3.2.0)\n",
      "Requirement already satisfied: seaborn>=0.10.1 in /Users/shresthmurarka/opt/anaconda3/lib/python3.9/site-packages (from pandas-profiling) (0.11.2)\n",
      "Requirement already satisfied: visions[type_image_path]==0.7.4 in /Users/shresthmurarka/opt/anaconda3/lib/python3.9/site-packages (from pandas-profiling) (0.7.4)\n",
      "Requirement already satisfied: pydantic>=1.8.1 in /Users/shresthmurarka/opt/anaconda3/lib/python3.9/site-packages (from pandas-profiling) (1.9.2)\n",
      "Requirement already satisfied: PyYAML>=5.0.0 in /Users/shresthmurarka/opt/anaconda3/lib/python3.9/site-packages (from pandas-profiling) (6.0)\n",
      "Requirement already satisfied: tangled-up-in-unicode==0.2.0 in /Users/shresthmurarka/opt/anaconda3/lib/python3.9/site-packages (from pandas-profiling) (0.2.0)\n",
      "Requirement already satisfied: multimethod>=1.4 in /Users/shresthmurarka/opt/anaconda3/lib/python3.9/site-packages (from pandas-profiling) (1.8)\n",
      "Requirement already satisfied: scipy>=1.4.1 in /Users/shresthmurarka/opt/anaconda3/lib/python3.9/site-packages (from pandas-profiling) (1.7.1)\n",
      "Requirement already satisfied: tqdm>=4.48.2 in /Users/shresthmurarka/opt/anaconda3/lib/python3.9/site-packages (from pandas-profiling) (4.62.3)\n",
      "Requirement already satisfied: jinja2>=2.11.1 in /Users/shresthmurarka/opt/anaconda3/lib/python3.9/site-packages (from pandas-profiling) (2.11.3)\n",
      "Requirement already satisfied: numpy>=1.16.0 in /Users/shresthmurarka/opt/anaconda3/lib/python3.9/site-packages (from pandas-profiling) (1.20.3)\n",
      "Requirement already satisfied: pandas!=1.0.0,!=1.0.1,!=1.0.2,!=1.1.0,>=0.25.3 in /Users/shresthmurarka/opt/anaconda3/lib/python3.9/site-packages (from pandas-profiling) (1.3.4)\n",
      "Requirement already satisfied: phik>=0.11.1 in /Users/shresthmurarka/opt/anaconda3/lib/python3.9/site-packages (from pandas-profiling) (0.12.2)\n",
      "Collecting markupsafe~=2.1.1\n",
      "  Using cached MarkupSafe-2.1.1-cp39-cp39-macosx_10_9_x86_64.whl (13 kB)\n",
      "Requirement already satisfied: joblib~=1.1.0 in /Users/shresthmurarka/opt/anaconda3/lib/python3.9/site-packages (from pandas-profiling) (1.1.0)\n",
      "Requirement already satisfied: requests>=2.24.0 in /Users/shresthmurarka/opt/anaconda3/lib/python3.9/site-packages (from pandas-profiling) (2.26.0)\n",
      "Requirement already satisfied: missingno>=0.4.2 in /Users/shresthmurarka/opt/anaconda3/lib/python3.9/site-packages (from pandas-profiling) (0.5.1)\n",
      "Requirement already satisfied: htmlmin>=0.1.12 in /Users/shresthmurarka/opt/anaconda3/lib/python3.9/site-packages (from pandas-profiling) (0.1.12)\n",
      "Requirement already satisfied: matplotlib>=3.2.0 in /Users/shresthmurarka/opt/anaconda3/lib/python3.9/site-packages (from pandas-profiling) (3.4.3)\n",
      "Requirement already satisfied: networkx>=2.4 in /Users/shresthmurarka/opt/anaconda3/lib/python3.9/site-packages (from visions[type_image_path]==0.7.4->pandas-profiling) (2.6.3)\n",
      "Requirement already satisfied: attrs>=19.3.0 in /Users/shresthmurarka/opt/anaconda3/lib/python3.9/site-packages (from visions[type_image_path]==0.7.4->pandas-profiling) (21.2.0)\n",
      "Requirement already satisfied: Pillow in /Users/shresthmurarka/opt/anaconda3/lib/python3.9/site-packages (from visions[type_image_path]==0.7.4->pandas-profiling) (8.4.0)\n",
      "Requirement already satisfied: imagehash in /Users/shresthmurarka/opt/anaconda3/lib/python3.9/site-packages (from visions[type_image_path]==0.7.4->pandas-profiling) (4.2.1)\n",
      "Requirement already satisfied: python-dateutil>=2.7 in /Users/shresthmurarka/opt/anaconda3/lib/python3.9/site-packages (from matplotlib>=3.2.0->pandas-profiling) (2.8.2)\n",
      "Requirement already satisfied: kiwisolver>=1.0.1 in /Users/shresthmurarka/opt/anaconda3/lib/python3.9/site-packages (from matplotlib>=3.2.0->pandas-profiling) (1.3.1)\n",
      "Requirement already satisfied: pyparsing>=2.2.1 in /Users/shresthmurarka/opt/anaconda3/lib/python3.9/site-packages (from matplotlib>=3.2.0->pandas-profiling) (3.0.4)\n",
      "Requirement already satisfied: cycler>=0.10 in /Users/shresthmurarka/opt/anaconda3/lib/python3.9/site-packages (from matplotlib>=3.2.0->pandas-profiling) (0.10.0)\n",
      "Requirement already satisfied: six in /Users/shresthmurarka/opt/anaconda3/lib/python3.9/site-packages (from cycler>=0.10->matplotlib>=3.2.0->pandas-profiling) (1.16.0)\n",
      "Requirement already satisfied: pytz>=2017.3 in /Users/shresthmurarka/opt/anaconda3/lib/python3.9/site-packages (from pandas!=1.0.0,!=1.0.1,!=1.0.2,!=1.1.0,>=0.25.3->pandas-profiling) (2021.3)\n",
      "Requirement already satisfied: typing-extensions>=3.7.4.3 in /Users/shresthmurarka/opt/anaconda3/lib/python3.9/site-packages (from pydantic>=1.8.1->pandas-profiling) (3.10.0.2)\n",
      "Requirement already satisfied: charset-normalizer~=2.0.0 in /Users/shresthmurarka/opt/anaconda3/lib/python3.9/site-packages (from requests>=2.24.0->pandas-profiling) (2.0.4)\n",
      "Requirement already satisfied: certifi>=2017.4.17 in /Users/shresthmurarka/opt/anaconda3/lib/python3.9/site-packages (from requests>=2.24.0->pandas-profiling) (2021.10.8)\n",
      "Requirement already satisfied: idna<4,>=2.5 in /Users/shresthmurarka/opt/anaconda3/lib/python3.9/site-packages (from requests>=2.24.0->pandas-profiling) (3.2)\n",
      "Requirement already satisfied: urllib3<1.27,>=1.21.1 in /Users/shresthmurarka/opt/anaconda3/lib/python3.9/site-packages (from requests>=2.24.0->pandas-profiling) (1.26.7)\n",
      "Requirement already satisfied: PyWavelets in /Users/shresthmurarka/opt/anaconda3/lib/python3.9/site-packages (from imagehash->visions[type_image_path]==0.7.4->pandas-profiling) (1.1.1)\n",
      "Installing collected packages: markupsafe\n",
      "  Attempting uninstall: markupsafe\n",
      "    Found existing installation: MarkupSafe 2.0.1\n",
      "    Uninstalling MarkupSafe-2.0.1:\n",
      "      Successfully uninstalled MarkupSafe-2.0.1\n",
      "\u001b[31mERROR: pip's dependency resolver does not currently take into account all the packages that are installed. This behaviour is the source of the following dependency conflicts.\n",
      "anaconda-project 0.10.1 requires ruamel-yaml, which is not installed.\n",
      "cookiecutter 1.7.2 requires MarkupSafe<2.0.0, but you have markupsafe 2.1.1 which is incompatible.\u001b[0m\n",
      "Successfully installed markupsafe-2.1.1\n",
      "Note: you may need to restart the kernel to use updated packages.\n"
     ]
    }
   ],
   "source": [
    "pip install pandas-profiling "
   ]
  },
  {
   "cell_type": "code",
   "execution_count": null,
   "id": "30af281e",
   "metadata": {},
   "outputs": [],
   "source": []
  },
  {
   "cell_type": "code",
   "execution_count": 1,
   "id": "f8e85fa7",
   "metadata": {},
   "outputs": [
    {
     "name": "stdout",
     "output_type": "stream",
     "text": [
      "Requirement already satisfied: markupsafe==2.0.1 in /Users/shresthmurarka/opt/anaconda3/lib/python3.9/site-packages (2.0.1)\n",
      "Note: you may need to restart the kernel to use updated packages.\n"
     ]
    }
   ],
   "source": [
    "pip install markupsafe==2.0.1"
   ]
  },
  {
   "cell_type": "code",
   "execution_count": 4,
   "id": "31bc3981",
   "metadata": {},
   "outputs": [
    {
     "data": {
      "application/vnd.jupyter.widget-view+json": {
       "model_id": "f5d6417e46b3476da098d4446a1e9014",
       "version_major": 2,
       "version_minor": 0
      },
      "text/plain": [
       "Summarize dataset:   0%|          | 0/5 [00:00<?, ?it/s]"
      ]
     },
     "metadata": {},
     "output_type": "display_data"
    },
    {
     "data": {
      "application/vnd.jupyter.widget-view+json": {
       "model_id": "21c2be60cf9a44e7967113c4a3a679b3",
       "version_major": 2,
       "version_minor": 0
      },
      "text/plain": [
       "Generate report structure:   0%|          | 0/1 [00:00<?, ?it/s]"
      ]
     },
     "metadata": {},
     "output_type": "display_data"
    },
    {
     "data": {
      "application/vnd.jupyter.widget-view+json": {
       "model_id": "f76f31aad3f04dcb9c359710eebb5987",
       "version_major": 2,
       "version_minor": 0
      },
      "text/plain": [
       "Render HTML:   0%|          | 0/1 [00:00<?, ?it/s]"
      ]
     },
     "metadata": {},
     "output_type": "display_data"
    },
    {
     "data": {
      "application/vnd.jupyter.widget-view+json": {
       "model_id": "ebe1865923134b6dafd98cf7fbcffd4f",
       "version_major": 2,
       "version_minor": 0
      },
      "text/plain": [
       "Export report to file:   0%|          | 0/1 [00:00<?, ?it/s]"
      ]
     },
     "metadata": {},
     "output_type": "display_data"
    }
   ],
   "source": [
    "from pandas_profiling import ProfileReport\n",
    "prof=ProfileReport(df)\n",
    "prof.to_file(output_file='output.html')"
   ]
  },
  {
   "cell_type": "code",
   "execution_count": null,
   "id": "a58c3b65",
   "metadata": {},
   "outputs": [],
   "source": []
  }
 ],
 "metadata": {
  "kernelspec": {
   "display_name": "Python 3 (ipykernel)",
   "language": "python",
   "name": "python3"
  },
  "language_info": {
   "codemirror_mode": {
    "name": "ipython",
    "version": 3
   },
   "file_extension": ".py",
   "mimetype": "text/x-python",
   "name": "python",
   "nbconvert_exporter": "python",
   "pygments_lexer": "ipython3",
   "version": "3.9.7"
  }
 },
 "nbformat": 4,
 "nbformat_minor": 5
}
