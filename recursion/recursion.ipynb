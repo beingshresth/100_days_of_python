{
 "cells": [
  {
   "cell_type": "markdown",
   "id": "8316c627",
   "metadata": {},
   "source": [
    "# Recursion"
   ]
  },
  {
   "cell_type": "code",
   "execution_count": 1,
   "id": "42d27b09",
   "metadata": {},
   "outputs": [],
   "source": [
    "#iterative vs recursive"
   ]
  },
  {
   "cell_type": "code",
   "execution_count": 2,
   "id": "177af02e",
   "metadata": {},
   "outputs": [],
   "source": [
    "#a*b"
   ]
  },
  {
   "cell_type": "code",
   "execution_count": 7,
   "id": "5d9a44be",
   "metadata": {},
   "outputs": [
    {
     "name": "stdout",
     "output_type": "stream",
     "text": [
      "8\n"
     ]
    }
   ],
   "source": [
    "#iterative\n",
    "def mult(a,b):\n",
    "    result=0\n",
    "    \n",
    "    for i in range(b):\n",
    "        result = result + a\n",
    "        \n",
    "    print(result)\n",
    "mult(2,4)"
   ]
  },
  {
   "cell_type": "code",
   "execution_count": 10,
   "id": "de8a8346",
   "metadata": {},
   "outputs": [
    {
     "data": {
      "text/plain": [
       "20"
      ]
     },
     "execution_count": 10,
     "metadata": {},
     "output_type": "execute_result"
    }
   ],
   "source": [
    "#recursion #1st step is to find base condition\n",
    "def multi(a,b):\n",
    "    if b==1:\n",
    "        return a\n",
    "    else:\n",
    "        return a + multi(a,b-1)\n",
    "    \n",
    "multi(5,4)"
   ]
  },
  {
   "cell_type": "code",
   "execution_count": 11,
   "id": "6ed625d7",
   "metadata": {},
   "outputs": [
    {
     "name": "stdout",
     "output_type": "stream",
     "text": [
      "120\n"
     ]
    }
   ],
   "source": [
    "#factorial\n",
    "def fact(number):\n",
    "    if number == 1:\n",
    "         return 1\n",
    "    else :\n",
    "        return number * fact(number - 1)\n",
    "        \n",
    "print(fact(5))"
   ]
  },
  {
   "cell_type": "code",
   "execution_count": 17,
   "id": "7f5c0e24",
   "metadata": {},
   "outputs": [
    {
     "name": "stdout",
     "output_type": "stream",
     "text": [
      "palindrome\n",
      "palindrome\n",
      "not a palindrome\n"
     ]
    }
   ],
   "source": [
    "#palindrome \n",
    "#base condition len(s)==1 \n",
    "def palin(text):\n",
    "    if len(text)<=1:\n",
    "        print(\"palindrome\")\n",
    "    else:\n",
    "        if text[0]==text[-1]:\n",
    "            palin(text[1:-1])\n",
    "        else:\n",
    "            print(\"not a palindrome\")\n",
    "palin(\"madam\")\n",
    "palin(\"abba\")\n",
    "palin(\"shresth\")"
   ]
  },
  {
   "cell_type": "code",
   "execution_count": null,
   "id": "43e9ba95",
   "metadata": {},
   "outputs": [],
   "source": [
    "#rabit problem : if 2 newborn rabbits are put in a pen , \n",
    "#how many rabbit will be in the pen after 1 year.\n",
    "#assume that rabbits - always produce one male & one female offspring\n",
    "#can reproduce once every month\n",
    "#can reproduce one they are one month old\n",
    "#they never die\n",
    "#this is fibonacci problem - 1 2 3 5 8 13"
   ]
  },
  {
   "cell_type": "code",
   "execution_count": 18,
   "id": "7c14523b",
   "metadata": {},
   "outputs": [
    {
     "name": "stdout",
     "output_type": "stream",
     "text": [
      "233\n"
     ]
    }
   ],
   "source": [
    "def fib(m):\n",
    "    if m==0 or m==1:\n",
    "        return 1\n",
    "    else:\n",
    "        return fib(m-1)+fib(m-2)\n",
    "print(fib(12))"
   ]
  },
  {
   "cell_type": "code",
   "execution_count": 19,
   "id": "ba4c1e9b",
   "metadata": {},
   "outputs": [
    {
     "name": "stdout",
     "output_type": "stream",
     "text": [
      "75025\n"
     ]
    }
   ],
   "source": [
    "print(fib(24))"
   ]
  },
  {
   "cell_type": "code",
   "execution_count": 20,
   "id": "3dde645c",
   "metadata": {},
   "outputs": [
    {
     "name": "stdout",
     "output_type": "stream",
     "text": [
      "24157817\n"
     ]
    }
   ],
   "source": [
    "print(fib(36))"
   ]
  },
  {
   "cell_type": "code",
   "execution_count": 32,
   "id": "5ee8de34",
   "metadata": {},
   "outputs": [
    {
     "name": "stdout",
     "output_type": "stream",
     "text": [
      "233\n"
     ]
    }
   ],
   "source": [
    "#using dynamic prog\n",
    "#memonization\n",
    "def memo(m,d):\n",
    "    if m in d :\n",
    "        return d[m]\n",
    "    else:\n",
    "       d[m] = memo(m-1,d)+memo(m-2,d)\n",
    "       return d[m]\n",
    " \n",
    "d={0:1,1:1}\n",
    "print(memo(12,d))"
   ]
  },
  {
   "cell_type": "code",
   "execution_count": null,
   "id": "fdd371ae",
   "metadata": {},
   "outputs": [],
   "source": []
  }
 ],
 "metadata": {
  "kernelspec": {
   "display_name": "Python 3 (ipykernel)",
   "language": "python",
   "name": "python3"
  },
  "language_info": {
   "codemirror_mode": {
    "name": "ipython",
    "version": 3
   },
   "file_extension": ".py",
   "mimetype": "text/x-python",
   "name": "python",
   "nbconvert_exporter": "python",
   "pygments_lexer": "ipython3",
   "version": "3.9.7"
  }
 },
 "nbformat": 4,
 "nbformat_minor": 5
}
