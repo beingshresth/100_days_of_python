{
 "cells": [
  {
   "cell_type": "code",
   "execution_count": 1,
   "id": "71b321f2",
   "metadata": {},
   "outputs": [],
   "source": [
    "#tuple"
   ]
  },
  {
   "cell_type": "code",
   "execution_count": 2,
   "id": "801853fb",
   "metadata": {},
   "outputs": [],
   "source": [
    "#create\n",
    "t1=()"
   ]
  },
  {
   "cell_type": "code",
   "execution_count": 4,
   "id": "cf5bae88",
   "metadata": {},
   "outputs": [
    {
     "data": {
      "text/plain": [
       "(1, 2, 3, 4, 5)"
      ]
     },
     "execution_count": 4,
     "metadata": {},
     "output_type": "execute_result"
    }
   ],
   "source": [
    "t2=(1,2,3,4,5)\n",
    "t2"
   ]
  },
  {
   "cell_type": "code",
   "execution_count": 35,
   "id": "2b55f43a",
   "metadata": {},
   "outputs": [
    {
     "data": {
      "text/plain": [
       "(1, 'shretsh', 4.2, 5)"
      ]
     },
     "execution_count": 35,
     "metadata": {},
     "output_type": "execute_result"
    }
   ],
   "source": [
    "t3=(1,\"shretsh\",4.2,5)\n",
    "t3"
   ]
  },
  {
   "cell_type": "code",
   "execution_count": 8,
   "id": "e0d1da5d",
   "metadata": {},
   "outputs": [
    {
     "data": {
      "text/plain": [
       "(1, 2, 3, (4, 5))"
      ]
     },
     "execution_count": 8,
     "metadata": {},
     "output_type": "execute_result"
    }
   ],
   "source": [
    "t4=(1,2,3,(4,5))\n",
    "t4"
   ]
  },
  {
   "cell_type": "code",
   "execution_count": 9,
   "id": "22f10435",
   "metadata": {},
   "outputs": [],
   "source": [
    "  t5=(1)"
   ]
  },
  {
   "cell_type": "code",
   "execution_count": 10,
   "id": "2df931a4",
   "metadata": {},
   "outputs": [
    {
     "data": {
      "text/plain": [
       "int"
      ]
     },
     "execution_count": 10,
     "metadata": {},
     "output_type": "execute_result"
    }
   ],
   "source": [
    "type(t5)"
   ]
  },
  {
   "cell_type": "code",
   "execution_count": 11,
   "id": "3cdcb81b",
   "metadata": {},
   "outputs": [],
   "source": [
    "t5=(\"shresth\")"
   ]
  },
  {
   "cell_type": "code",
   "execution_count": 12,
   "id": "9d34a7e6",
   "metadata": {},
   "outputs": [
    {
     "data": {
      "text/plain": [
       "str"
      ]
     },
     "execution_count": 12,
     "metadata": {},
     "output_type": "execute_result"
    }
   ],
   "source": [
    "type(t5)"
   ]
  },
  {
   "cell_type": "code",
   "execution_count": 13,
   "id": "cf8d6a34",
   "metadata": {},
   "outputs": [
    {
     "data": {
      "text/plain": [
       "('hello',)"
      ]
     },
     "execution_count": 13,
     "metadata": {},
     "output_type": "execute_result"
    }
   ],
   "source": [
    "t5=(\"hello\",) #single item tuple\n",
    "t5"
   ]
  },
  {
   "cell_type": "code",
   "execution_count": 14,
   "id": "b6e65d61",
   "metadata": {},
   "outputs": [
    {
     "data": {
      "text/plain": [
       "tuple"
      ]
     },
     "execution_count": 14,
     "metadata": {},
     "output_type": "execute_result"
    }
   ],
   "source": [
    "type(t5)"
   ]
  },
  {
   "cell_type": "code",
   "execution_count": 15,
   "id": "8d907753",
   "metadata": {},
   "outputs": [],
   "source": [
    "#diff btw list and tuple\n",
    "#list[] & tuple()\n",
    "#singlr item tuple mein ek comma add krna hota h\n",
    "#list are mutable & tuple is immutable "
   ]
  },
  {
   "cell_type": "code",
   "execution_count": 18,
   "id": "aae9b5ac",
   "metadata": {},
   "outputs": [
    {
     "data": {
      "text/plain": [
       "('s', 'h', 'r', 'e', 's', 't', 'h')"
      ]
     },
     "execution_count": 18,
     "metadata": {},
     "output_type": "execute_result"
    }
   ],
   "source": [
    "t6=tuple(\"shresth\")\n",
    "t6"
   ]
  },
  {
   "cell_type": "markdown",
   "id": "f4f9e900",
   "metadata": {},
   "source": [
    "###### "
   ]
  },
  {
   "cell_type": "code",
   "execution_count": 19,
   "id": "72a2747a",
   "metadata": {},
   "outputs": [],
   "source": [
    "#Access"
   ]
  },
  {
   "cell_type": "code",
   "execution_count": 21,
   "id": "1bcbc41b",
   "metadata": {},
   "outputs": [
    {
     "data": {
      "text/plain": [
       "1"
      ]
     },
     "execution_count": 21,
     "metadata": {},
     "output_type": "execute_result"
    }
   ],
   "source": [
    "t2[0]"
   ]
  },
  {
   "cell_type": "code",
   "execution_count": 22,
   "id": "50e1fdac",
   "metadata": {},
   "outputs": [
    {
     "data": {
      "text/plain": [
       "('shretsh',)"
      ]
     },
     "execution_count": 22,
     "metadata": {},
     "output_type": "execute_result"
    }
   ],
   "source": [
    "t3[1:2]"
   ]
  },
  {
   "cell_type": "code",
   "execution_count": 23,
   "id": "f6cb0288",
   "metadata": {},
   "outputs": [
    {
     "data": {
      "text/plain": [
       "(1, 'shretsh', 4.2, 5)"
      ]
     },
     "execution_count": 23,
     "metadata": {},
     "output_type": "execute_result"
    }
   ],
   "source": [
    "t3[0:5]"
   ]
  },
  {
   "cell_type": "code",
   "execution_count": 24,
   "id": "f86ad52c",
   "metadata": {},
   "outputs": [],
   "source": [
    "#edit"
   ]
  },
  {
   "cell_type": "code",
   "execution_count": 26,
   "id": "44e8cd4f",
   "metadata": {},
   "outputs": [
    {
     "data": {
      "text/plain": [
       "[100, 12, 3, 4, 4]"
      ]
     },
     "execution_count": 26,
     "metadata": {},
     "output_type": "execute_result"
    }
   ],
   "source": [
    "L=[1,12,3,4,4]\n",
    "L[0]=100\n",
    "L"
   ]
  },
  {
   "cell_type": "code",
   "execution_count": 27,
   "id": "1aa3c167",
   "metadata": {},
   "outputs": [
    {
     "ename": "TypeError",
     "evalue": "'tuple' object does not support item assignment",
     "output_type": "error",
     "traceback": [
      "\u001b[0;31m---------------------------------------------------------------------------\u001b[0m",
      "\u001b[0;31mTypeError\u001b[0m                                 Traceback (most recent call last)",
      "\u001b[0;32m/var/folders/mx/xq__x0zd52x1vljklz22nsb40000gn/T/ipykernel_21237/192465050.py\u001b[0m in \u001b[0;36m<module>\u001b[0;34m\u001b[0m\n\u001b[0;32m----> 1\u001b[0;31m \u001b[0mt2\u001b[0m\u001b[0;34m[\u001b[0m\u001b[0;36m0\u001b[0m\u001b[0;34m]\u001b[0m\u001b[0;34m=\u001b[0m\u001b[0;36m1000\u001b[0m\u001b[0;34m\u001b[0m\u001b[0;34m\u001b[0m\u001b[0m\n\u001b[0m",
      "\u001b[0;31mTypeError\u001b[0m: 'tuple' object does not support item assignment"
     ]
    }
   ],
   "source": [
    "t2[0]=1000"
   ]
  },
  {
   "cell_type": "code",
   "execution_count": 28,
   "id": "fb9084d8",
   "metadata": {},
   "outputs": [],
   "source": [
    "#tuple doesnot support item assignment / editing . \n",
    "#tuple are just like strings are immutuable"
   ]
  },
  {
   "cell_type": "code",
   "execution_count": 29,
   "id": "a3f31ab4",
   "metadata": {},
   "outputs": [],
   "source": [
    "#delete"
   ]
  },
  {
   "cell_type": "code",
   "execution_count": 30,
   "id": "adb7e1a9",
   "metadata": {},
   "outputs": [],
   "source": [
    "#no single item deletion "
   ]
  },
  {
   "cell_type": "code",
   "execution_count": 31,
   "id": "c6367b3f",
   "metadata": {},
   "outputs": [],
   "source": [
    "del t3"
   ]
  },
  {
   "cell_type": "code",
   "execution_count": 32,
   "id": "72485ea9",
   "metadata": {},
   "outputs": [
    {
     "ename": "NameError",
     "evalue": "name 't3' is not defined",
     "output_type": "error",
     "traceback": [
      "\u001b[0;31m---------------------------------------------------------------------------\u001b[0m",
      "\u001b[0;31mNameError\u001b[0m                                 Traceback (most recent call last)",
      "\u001b[0;32m/var/folders/mx/xq__x0zd52x1vljklz22nsb40000gn/T/ipykernel_21237/2633524244.py\u001b[0m in \u001b[0;36m<module>\u001b[0;34m\u001b[0m\n\u001b[0;32m----> 1\u001b[0;31m \u001b[0mt3\u001b[0m\u001b[0;34m\u001b[0m\u001b[0;34m\u001b[0m\u001b[0m\n\u001b[0m",
      "\u001b[0;31mNameError\u001b[0m: name 't3' is not defined"
     ]
    }
   ],
   "source": [
    "t3"
   ]
  },
  {
   "cell_type": "code",
   "execution_count": 33,
   "id": "9328b989",
   "metadata": {},
   "outputs": [],
   "source": [
    "#operation"
   ]
  },
  {
   "cell_type": "code",
   "execution_count": 36,
   "id": "3213f390",
   "metadata": {},
   "outputs": [
    {
     "data": {
      "text/plain": [
       "(1, 2, 3, 4, 5, 1, 'shretsh', 4.2, 5)"
      ]
     },
     "execution_count": 36,
     "metadata": {},
     "output_type": "execute_result"
    }
   ],
   "source": [
    "t2+t3"
   ]
  },
  {
   "cell_type": "code",
   "execution_count": 37,
   "id": "e66b7603",
   "metadata": {},
   "outputs": [
    {
     "data": {
      "text/plain": [
       "(1, 2, 3, 4, 5, 1, 2, 3, 4, 5, 1, 2, 3, 4, 5, 1, 2, 3, 4, 5)"
      ]
     },
     "execution_count": 37,
     "metadata": {},
     "output_type": "execute_result"
    }
   ],
   "source": [
    "t2*4"
   ]
  },
  {
   "cell_type": "code",
   "execution_count": 39,
   "id": "e4b04ded",
   "metadata": {},
   "outputs": [
    {
     "name": "stdout",
     "output_type": "stream",
     "text": [
      "1\n",
      "shretsh\n",
      "4.2\n",
      "5\n"
     ]
    }
   ],
   "source": [
    "for i in t3:\n",
    "    print(i)"
   ]
  },
  {
   "cell_type": "code",
   "execution_count": 41,
   "id": "1f9c7565",
   "metadata": {},
   "outputs": [
    {
     "data": {
      "text/plain": [
       "True"
      ]
     },
     "execution_count": 41,
     "metadata": {},
     "output_type": "execute_result"
    }
   ],
   "source": [
    "1 in t2"
   ]
  },
  {
   "cell_type": "code",
   "execution_count": 42,
   "id": "b72251cc",
   "metadata": {},
   "outputs": [],
   "source": [
    "#function "
   ]
  },
  {
   "cell_type": "code",
   "execution_count": 43,
   "id": "af4b555b",
   "metadata": {},
   "outputs": [
    {
     "data": {
      "text/plain": [
       "4"
      ]
     },
     "execution_count": 43,
     "metadata": {},
     "output_type": "execute_result"
    }
   ],
   "source": [
    "len(t3)"
   ]
  },
  {
   "cell_type": "code",
   "execution_count": 44,
   "id": "65973adc",
   "metadata": {},
   "outputs": [
    {
     "data": {
      "text/plain": [
       "1"
      ]
     },
     "execution_count": 44,
     "metadata": {},
     "output_type": "execute_result"
    }
   ],
   "source": [
    "min(t2)"
   ]
  },
  {
   "cell_type": "code",
   "execution_count": 50,
   "id": "c4b78596",
   "metadata": {},
   "outputs": [
    {
     "data": {
      "text/plain": [
       "15"
      ]
     },
     "execution_count": 50,
     "metadata": {},
     "output_type": "execute_result"
    }
   ],
   "source": [
    "sum(t2)"
   ]
  },
  {
   "cell_type": "code",
   "execution_count": 51,
   "id": "a7fcea4d",
   "metadata": {},
   "outputs": [
    {
     "data": {
      "text/plain": [
       "[1, 2, 3, 4, 5]"
      ]
     },
     "execution_count": 51,
     "metadata": {},
     "output_type": "execute_result"
    }
   ],
   "source": [
    "sorted(t2)"
   ]
  },
  {
   "cell_type": "code",
   "execution_count": 53,
   "id": "0d3b62c1",
   "metadata": {},
   "outputs": [
    {
     "data": {
      "text/plain": [
       "[5, 4, 3, 2, 1]"
      ]
     },
     "execution_count": 53,
     "metadata": {},
     "output_type": "execute_result"
    }
   ],
   "source": [
    "sorted(t2,reverse=True)"
   ]
  },
  {
   "cell_type": "code",
   "execution_count": 54,
   "id": "da4eb36e",
   "metadata": {},
   "outputs": [],
   "source": [
    "#tuple are read-only data type"
   ]
  },
  {
   "cell_type": "code",
   "execution_count": null,
   "id": "6316a6f8",
   "metadata": {},
   "outputs": [],
   "source": []
  }
 ],
 "metadata": {
  "kernelspec": {
   "display_name": "Python 3 (ipykernel)",
   "language": "python",
   "name": "python3"
  },
  "language_info": {
   "codemirror_mode": {
    "name": "ipython",
    "version": 3
   },
   "file_extension": ".py",
   "mimetype": "text/x-python",
   "name": "python",
   "nbconvert_exporter": "python",
   "pygments_lexer": "ipython3",
   "version": "3.9.7"
  }
 },
 "nbformat": 4,
 "nbformat_minor": 5
}
