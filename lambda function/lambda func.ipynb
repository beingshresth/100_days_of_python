{
 "cells": [
  {
   "cell_type": "markdown",
   "id": "793e4ba3",
   "metadata": {},
   "source": [
    "# Lamda function"
   ]
  },
  {
   "cell_type": "code",
   "execution_count": 1,
   "id": "54202b2b",
   "metadata": {},
   "outputs": [
    {
     "data": {
      "text/plain": [
       "81"
      ]
     },
     "execution_count": 1,
     "metadata": {},
     "output_type": "execute_result"
    }
   ],
   "source": [
    "x = lambda x : x**2\n",
    "x(9)"
   ]
  },
  {
   "cell_type": "code",
   "execution_count": 2,
   "id": "59c33157",
   "metadata": {},
   "outputs": [
    {
     "data": {
      "text/plain": [
       "9"
      ]
     },
     "execution_count": 2,
     "metadata": {},
     "output_type": "execute_result"
    }
   ],
   "source": [
    "a=lambda x,y : x+y\n",
    "a(4,5)\n"
   ]
  },
  {
   "cell_type": "code",
   "execution_count": 4,
   "id": "556e62a8",
   "metadata": {},
   "outputs": [],
   "source": [
    "#difference with lambda and normal func\n",
    "#1.lambda has no return value\n",
    "#2.one line code\n",
    "#3.not used for code reusability\n",
    "#4. no name\n"
   ]
  },
  {
   "cell_type": "code",
   "execution_count": 5,
   "id": "4f9e653b",
   "metadata": {},
   "outputs": [],
   "source": [
    "#why? \n",
    "#along with higher order functions "
   ]
  },
  {
   "cell_type": "code",
   "execution_count": 10,
   "id": "22bdfaf5",
   "metadata": {},
   "outputs": [
    {
     "data": {
      "text/plain": [
       "True"
      ]
     },
     "execution_count": 10,
     "metadata": {},
     "output_type": "execute_result"
    }
   ],
   "source": [
    "b=lambda x : x[0]=='a'\n",
    "b('apple')"
   ]
  },
  {
   "cell_type": "code",
   "execution_count": 9,
   "id": "e98cfa08",
   "metadata": {},
   "outputs": [
    {
     "data": {
      "text/plain": [
       "False"
      ]
     },
     "execution_count": 9,
     "metadata": {},
     "output_type": "execute_result"
    }
   ],
   "source": [
    "b('banana')"
   ]
  },
  {
   "cell_type": "code",
   "execution_count": 11,
   "id": "15d10937",
   "metadata": {},
   "outputs": [
    {
     "data": {
      "text/plain": [
       "'odd'"
      ]
     },
     "execution_count": 11,
     "metadata": {},
     "output_type": "execute_result"
    }
   ],
   "source": [
    "b=lambda x:\"even\" if x%2==0 else \"odd\"\n",
    "b(3)"
   ]
  },
  {
   "cell_type": "code",
   "execution_count": null,
   "id": "defbd691",
   "metadata": {},
   "outputs": [],
   "source": []
  },
  {
   "cell_type": "code",
   "execution_count": 12,
   "id": "3ca31a39",
   "metadata": {},
   "outputs": [],
   "source": [
    "#higher order function"
   ]
  },
  {
   "cell_type": "code",
   "execution_count": 16,
   "id": "9fa9195a",
   "metadata": {},
   "outputs": [
    {
     "name": "stdout",
     "output_type": "stream",
     "text": [
      "176\n",
      "129\n",
      "144\n"
     ]
    }
   ],
   "source": [
    "def return_sum(func,L):\n",
    "    result=0\n",
    "    for i in L:\n",
    "        if func(i):\n",
    "            result=result+i\n",
    "    return result\n",
    "           \n",
    "L=[11,14,21,23,56,78,45,29,28]\n",
    "x=lambda x:x%2==0\n",
    "y=lambda x:x%2!=0\n",
    "z=lambda x:x%3==0\n",
    "\n",
    "print(return_sum(x,L))\n",
    "print(return_sum(y,L))\n",
    "print(return_sum(z,L))"
   ]
  },
  {
   "cell_type": "code",
   "execution_count": 1,
   "id": "b370a998",
   "metadata": {},
   "outputs": [],
   "source": [
    "#map\n",
    "#filter\n",
    "#Reduce"
   ]
  },
  {
   "cell_type": "code",
   "execution_count": 4,
   "id": "4646f451",
   "metadata": {},
   "outputs": [
    {
     "data": {
      "text/plain": [
       "[2, 4, 6, 8, 10, 12, 14]"
      ]
     },
     "execution_count": 4,
     "metadata": {},
     "output_type": "execute_result"
    }
   ],
   "source": [
    "#Map\n",
    "L=[1,2,3,4,5,6,7]\n",
    "list(map(lambda x:x*2,L))"
   ]
  },
  {
   "cell_type": "code",
   "execution_count": 6,
   "id": "c7db188d",
   "metadata": {},
   "outputs": [
    {
     "data": {
      "text/plain": [
       "[False, True, False, True, False, True, False]"
      ]
     },
     "execution_count": 6,
     "metadata": {},
     "output_type": "execute_result"
    }
   ],
   "source": [
    "list(map(lambda x:x%2==0,L))"
   ]
  },
  {
   "cell_type": "code",
   "execution_count": 7,
   "id": "8cae5b66",
   "metadata": {},
   "outputs": [
    {
     "data": {
      "text/plain": [
       "[5, 6, 7]"
      ]
     },
     "execution_count": 7,
     "metadata": {},
     "output_type": "execute_result"
    }
   ],
   "source": [
    "#filter\n",
    "list(filter(lambda x:x>4,L))"
   ]
  },
  {
   "cell_type": "code",
   "execution_count": 25,
   "id": "5ae62849",
   "metadata": {},
   "outputs": [],
   "source": [
    "fruits=['apple','orange','mango','guava']"
   ]
  },
  {
   "cell_type": "code",
   "execution_count": 9,
   "id": "627ba76c",
   "metadata": {},
   "outputs": [
    {
     "data": {
      "text/plain": [
       "['apple', 'orange']"
      ]
     },
     "execution_count": 9,
     "metadata": {},
     "output_type": "execute_result"
    }
   ],
   "source": [
    "list(filter(lambda fruit:'e'in fruit , fruits))"
   ]
  },
  {
   "cell_type": "code",
   "execution_count": 10,
   "id": "15a040b6",
   "metadata": {},
   "outputs": [],
   "source": [
    "#reduce"
   ]
  },
  {
   "cell_type": "code",
   "execution_count": 12,
   "id": "ddae1d71",
   "metadata": {},
   "outputs": [],
   "source": [
    "import functools"
   ]
  },
  {
   "cell_type": "code",
   "execution_count": 13,
   "id": "6e3d0ec6",
   "metadata": {},
   "outputs": [
    {
     "data": {
      "text/plain": [
       "[1, 2, 3, 4, 5, 6, 7]"
      ]
     },
     "execution_count": 13,
     "metadata": {},
     "output_type": "execute_result"
    }
   ],
   "source": [
    "L"
   ]
  },
  {
   "cell_type": "code",
   "execution_count": 14,
   "id": "9e95e833",
   "metadata": {},
   "outputs": [
    {
     "data": {
      "text/plain": [
       "28"
      ]
     },
     "execution_count": 14,
     "metadata": {},
     "output_type": "execute_result"
    }
   ],
   "source": [
    "functools.reduce(lambda x,y:x+y,L)"
   ]
  },
  {
   "cell_type": "code",
   "execution_count": 15,
   "id": "477db298",
   "metadata": {},
   "outputs": [
    {
     "data": {
      "text/plain": [
       "58"
      ]
     },
     "execution_count": 15,
     "metadata": {},
     "output_type": "execute_result"
    }
   ],
   "source": [
    "L1=[12,34,56,11,21,58]\n",
    "functools.reduce(lambda x,y:x if x>y else y , L1)"
   ]
  },
  {
   "cell_type": "code",
   "execution_count": 16,
   "id": "87bf944d",
   "metadata": {},
   "outputs": [],
   "source": [
    "#list comprehension:\n",
    "#it is technique using which you can create a list from another list"
   ]
  },
  {
   "cell_type": "markdown",
   "id": "d9f1afb2",
   "metadata": {},
   "source": [
    "L"
   ]
  },
  {
   "cell_type": "code",
   "execution_count": 18,
   "id": "283b63db",
   "metadata": {},
   "outputs": [],
   "source": [
    "L2=[item*2 for item in L]"
   ]
  },
  {
   "cell_type": "code",
   "execution_count": 19,
   "id": "c1d8c025",
   "metadata": {},
   "outputs": [
    {
     "data": {
      "text/plain": [
       "[2, 4, 6, 8, 10, 12, 14]"
      ]
     },
     "execution_count": 19,
     "metadata": {},
     "output_type": "execute_result"
    }
   ],
   "source": [
    "L2"
   ]
  },
  {
   "cell_type": "code",
   "execution_count": 20,
   "id": "164f7f64",
   "metadata": {},
   "outputs": [],
   "source": [
    "L3=[i**2 for i in range(10)]"
   ]
  },
  {
   "cell_type": "code",
   "execution_count": 21,
   "id": "f362cd8c",
   "metadata": {},
   "outputs": [
    {
     "data": {
      "text/plain": [
       "[0, 1, 4, 9, 16, 25, 36, 49, 64, 81]"
      ]
     },
     "execution_count": 21,
     "metadata": {},
     "output_type": "execute_result"
    }
   ],
   "source": [
    "L3"
   ]
  },
  {
   "cell_type": "code",
   "execution_count": 22,
   "id": "c8731598",
   "metadata": {},
   "outputs": [
    {
     "data": {
      "text/plain": [
       "[1, 9, 25, 49, 81]"
      ]
     },
     "execution_count": 22,
     "metadata": {},
     "output_type": "execute_result"
    }
   ],
   "source": [
    "L4=[i**2 for i in range(10) if i%2!=0]\n",
    "L4"
   ]
  },
  {
   "cell_type": "code",
   "execution_count": 26,
   "id": "20732938",
   "metadata": {},
   "outputs": [
    {
     "data": {
      "text/plain": [
       "['orange']"
      ]
     },
     "execution_count": 26,
     "metadata": {},
     "output_type": "execute_result"
    }
   ],
   "source": [
    "L5=[fruit for fruit in fruits if fruit[0]=='o']\n",
    "L5"
   ]
  },
  {
   "cell_type": "code",
   "execution_count": null,
   "id": "bea88035",
   "metadata": {},
   "outputs": [],
   "source": []
  }
 ],
 "metadata": {
  "kernelspec": {
   "display_name": "Python 3 (ipykernel)",
   "language": "python",
   "name": "python3"
  },
  "language_info": {
   "codemirror_mode": {
    "name": "ipython",
    "version": 3
   },
   "file_extension": ".py",
   "mimetype": "text/x-python",
   "name": "python",
   "nbconvert_exporter": "python",
   "pygments_lexer": "ipython3",
   "version": "3.9.7"
  }
 },
 "nbformat": 4,
 "nbformat_minor": 5
}
