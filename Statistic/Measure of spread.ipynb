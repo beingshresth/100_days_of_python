{
 "cells": [
  {
   "cell_type": "code",
   "execution_count": 1,
   "id": "9ce2d3b5",
   "metadata": {},
   "outputs": [],
   "source": [
    "import numpy as np\n",
    "import pandas as pd\n",
    "import matplotlib.pyplot as plt\n",
    "import seaborn as sns"
   ]
  },
  {
   "cell_type": "code",
   "execution_count": 2,
   "id": "dc5fca76",
   "metadata": {},
   "outputs": [],
   "source": [
    "data=sns.load_dataset('iris')"
   ]
  },
  {
   "cell_type": "code",
   "execution_count": null,
   "id": "d53f9801",
   "metadata": {},
   "outputs": [],
   "source": []
  },
  {
   "cell_type": "code",
   "execution_count": 4,
   "id": "06325deb",
   "metadata": {},
   "outputs": [
    {
     "data": {
      "text/html": [
       "<div>\n",
       "<style scoped>\n",
       "    .dataframe tbody tr th:only-of-type {\n",
       "        vertical-align: middle;\n",
       "    }\n",
       "\n",
       "    .dataframe tbody tr th {\n",
       "        vertical-align: top;\n",
       "    }\n",
       "\n",
       "    .dataframe thead th {\n",
       "        text-align: right;\n",
       "    }\n",
       "</style>\n",
       "<table border=\"1\" class=\"dataframe\">\n",
       "  <thead>\n",
       "    <tr style=\"text-align: right;\">\n",
       "      <th></th>\n",
       "      <th>SL</th>\n",
       "      <th>SW</th>\n",
       "      <th>PL</th>\n",
       "      <th>PW</th>\n",
       "      <th>species</th>\n",
       "    </tr>\n",
       "  </thead>\n",
       "  <tbody>\n",
       "    <tr>\n",
       "      <th>0</th>\n",
       "      <td>5.1</td>\n",
       "      <td>3.5</td>\n",
       "      <td>1.4</td>\n",
       "      <td>0.2</td>\n",
       "      <td>setosa</td>\n",
       "    </tr>\n",
       "    <tr>\n",
       "      <th>1</th>\n",
       "      <td>4.9</td>\n",
       "      <td>3.0</td>\n",
       "      <td>1.4</td>\n",
       "      <td>0.2</td>\n",
       "      <td>setosa</td>\n",
       "    </tr>\n",
       "    <tr>\n",
       "      <th>2</th>\n",
       "      <td>4.7</td>\n",
       "      <td>3.2</td>\n",
       "      <td>1.3</td>\n",
       "      <td>0.2</td>\n",
       "      <td>setosa</td>\n",
       "    </tr>\n",
       "    <tr>\n",
       "      <th>3</th>\n",
       "      <td>4.6</td>\n",
       "      <td>3.1</td>\n",
       "      <td>1.5</td>\n",
       "      <td>0.2</td>\n",
       "      <td>setosa</td>\n",
       "    </tr>\n",
       "    <tr>\n",
       "      <th>4</th>\n",
       "      <td>5.0</td>\n",
       "      <td>3.6</td>\n",
       "      <td>1.4</td>\n",
       "      <td>0.2</td>\n",
       "      <td>setosa</td>\n",
       "    </tr>\n",
       "  </tbody>\n",
       "</table>\n",
       "</div>"
      ],
      "text/plain": [
       "    SL   SW   PL   PW species\n",
       "0  5.1  3.5  1.4  0.2  setosa\n",
       "1  4.9  3.0  1.4  0.2  setosa\n",
       "2  4.7  3.2  1.3  0.2  setosa\n",
       "3  4.6  3.1  1.5  0.2  setosa\n",
       "4  5.0  3.6  1.4  0.2  setosa"
      ]
     },
     "execution_count": 4,
     "metadata": {},
     "output_type": "execute_result"
    }
   ],
   "source": [
    "data.rename(columns={'sepal_length':'SL','sepal_width':'SW','petal_length':'PL','petal_width':'PW'},inplace=True)\n",
    "data.head()"
   ]
  },
  {
   "cell_type": "code",
   "execution_count": 5,
   "id": "86cf3176",
   "metadata": {},
   "outputs": [],
   "source": [
    "iris_setosa=data[data['species']=='setosa']\n",
    "iris_versicolor=data[data['species']=='versicolor']\n",
    "iris_virginica=data[data['species']=='virginica']"
   ]
  },
  {
   "cell_type": "markdown",
   "id": "0dfaf6de",
   "metadata": {},
   "source": [
    "<b> Measure of spread  </b>\n",
    "<p>Measure of spread give us an idea of how much the data is spread or varying. Some Important measures of spread are:</p>\n",
    " 1.Range\n",
    " 2.Interquartile(IQR)\n",
    " 3.Variance\n",
    " 4.Stadard Deviation"
   ]
  },
  {
   "cell_type": "markdown",
   "id": "a19dca2a",
   "metadata": {},
   "source": [
    "<b>1.Range:</b> The range describe the difference between the largest and the smallest point in your data"
   ]
  },
  {
   "cell_type": "code",
   "execution_count": 6,
   "id": "2b887786",
   "metadata": {},
   "outputs": [
    {
     "name": "stdout",
     "output_type": "stream",
     "text": [
      "the range is 0.8999999999999999\n"
     ]
    }
   ],
   "source": [
    "r=np.max(iris_setosa['PL'])-np.min(iris_setosa['PL'])\n",
    "print(\"the range is\",r)"
   ]
  },
  {
   "cell_type": "markdown",
   "id": "0c10eae4",
   "metadata": {},
   "source": [
    "<b>2.Percentiles :</b>It is a measure used in statistic indicating the value below which a given percentage of obvervation in a group of observatiobn falls . For example , the 20th percentile is the value below which 20% of the observation may be found."
   ]
  },
  {
   "cell_type": "code",
   "execution_count": 10,
   "id": "0245b509",
   "metadata": {},
   "outputs": [
    {
     "name": "stdout",
     "output_type": "stream",
     "text": [
      "1.8\n",
      "9.0\n",
      "8.2\n"
     ]
    }
   ],
   "source": [
    "mylist=[1,2,3,4,5,6,7,8,9]\n",
    "print(np.percentile(mylist,10))\n",
    "print(np.percentile(mylist,100))\n",
    "print(np.percentile(mylist,90))"
   ]
  },
  {
   "cell_type": "code",
   "execution_count": 11,
   "id": "b2ed14aa",
   "metadata": {},
   "outputs": [
    {
     "data": {
      "text/plain": [
       "1.7"
      ]
     },
     "execution_count": 11,
     "metadata": {},
     "output_type": "execute_result"
    }
   ],
   "source": [
    "np.percentile(iris_setosa['PL'],94)"
   ]
  },
  {
   "cell_type": "markdown",
   "id": "1448076f",
   "metadata": {},
   "source": [
    "<b>3.Quartiles</b>: they are the value that divide a list of number into quaters:\n",
    "        <p>-Put the list of number in order</p>\n",
    "        <p> -then you cut the list into four equal part </p>\n",
    "         <p>-the quartile are at the 'cuts'</p>"
   ]
  },
  {
   "cell_type": "code",
   "execution_count": 15,
   "id": "3dca9447",
   "metadata": {},
   "outputs": [
    {
     "name": "stdout",
     "output_type": "stream",
     "text": [
      "1.4\n",
      "1.5\n",
      "1.5750000000000002\n",
      "1.9\n"
     ]
    }
   ],
   "source": [
    "print(np.percentile(iris_setosa['PL'],25))\n",
    "print(np.percentile(iris_setosa['PL'],50))\n",
    "print(np.percentile(iris_setosa['PL'],75))\n",
    "print(np.percentile(iris_setosa['PL'],100))"
   ]
  },
  {
   "cell_type": "markdown",
   "id": "c75908f2",
   "metadata": {},
   "source": [
    "<b>4.InterQuatile Range:</b> It is the measure of statistic dispersion b/w upper (75th) and lower (25th)quatiles"
   ]
  },
  {
   "cell_type": "code",
   "execution_count": 23,
   "id": "e75e5ee4",
   "metadata": {},
   "outputs": [
    {
     "name": "stdout",
     "output_type": "stream",
     "text": [
      "0.17500000000000027\n"
     ]
    }
   ],
   "source": [
    "iqr=np.percentile(iris_setosa['PL'],75)-np.percentile(iris_setosa['PL'],25)\n",
    "print(iqr)"
   ]
  },
  {
   "cell_type": "markdown",
   "id": "d2a96668",
   "metadata": {},
   "source": [
    "<b>5.Mean Absolute Deviation</b>:describe the variation in the dataset in sense that it tells the average absolute distance of each data point in the set . it is calculated as 1/N(Xi-X)"
   ]
  },
  {
   "cell_type": "markdown",
   "id": "1a1118fb",
   "metadata": {},
   "source": [
    "<b>6. Variance</b>\n",
    "\n",
    "Variance measures how far are data points spread out from the mean.\n",
    "\n",
    "The variance is computed by finding the difference between every data point and the mean, squaring them, summing them up and then taking the average of those numbers."
   ]
  },
  {
   "cell_type": "code",
   "execution_count": 24,
   "id": "9f654460",
   "metadata": {},
   "outputs": [
    {
     "data": {
      "text/plain": [
       "0.02955600000000001"
      ]
     },
     "execution_count": 24,
     "metadata": {},
     "output_type": "execute_result"
    }
   ],
   "source": [
    "np.var(iris_setosa['PL'])"
   ]
  },
  {
   "cell_type": "markdown",
   "id": "c789a354",
   "metadata": {},
   "source": [
    "The problem with Variance\n",
    "\n",
    "The problem with Variance is that because of the squaring, it is not in the same unit of measurement as the original data.\n",
    "\n",
    "Let’s say you are dealing with a dataset that contains centimeter values. Your variance would be in squared centimeters and therefore not the best measurement."
   ]
  },
  {
   "cell_type": "markdown",
   "id": "83d44c5c",
   "metadata": {},
   "source": [
    "<b>7. Variance Vs Median Absolute Deviation</b>\n",
    "\n",
    "Variance is easy to work with in comparision to MAD as it works on squaring(a smooth function) the deviation in comparison to MAD where we use modulus( a non smooth function).\n",
    "\n",
    "Mathematically speaking smooth functions are easier to work with in comparison to non smooth functions"
   ]
  },
  {
   "cell_type": "markdown",
   "id": "e631d855",
   "metadata": {},
   "source": [
    "<b>8. Standard Deviation</b>\n",
    "\n",
    "The square root of Variance is called the Standard Deviation. It is calculated as:\n",
    "square root of variance\n"
   ]
  },
  {
   "cell_type": "code",
   "execution_count": 26,
   "id": "82c1866f",
   "metadata": {},
   "outputs": [
    {
     "data": {
      "text/plain": [
       "0.17191858538273286"
      ]
     },
     "execution_count": 26,
     "metadata": {},
     "output_type": "execute_result"
    }
   ],
   "source": [
    "np.std(iris_setosa['PL'])"
   ]
  },
  {
   "cell_type": "markdown",
   "id": "d1ed380f",
   "metadata": {},
   "source": [
    "10. Standard Deviation Vs Median Absolute Deviation\n",
    "\n",
    "Just like mean vs median, Median Absolute Deviation is free from the effects of outliers from which Standard Deviation can suffer"
   ]
  },
  {
   "cell_type": "code",
   "execution_count": 28,
   "id": "e5f2000d",
   "metadata": {},
   "outputs": [
    {
     "data": {
      "text/plain": [
       "<AxesSubplot:xlabel='species', ylabel='PL'>"
      ]
     },
     "execution_count": 28,
     "metadata": {},
     "output_type": "execute_result"
    },
    {
     "data": {
      "image/png": "[encoded data removed]",
      "text/plain": [
       "<Figure size 432x288 with 1 Axes>"
      ]
     },
     "metadata": {
      "needs_background": "light"
     },
     "output_type": "display_data"
    }
   ],
   "source": [
    "sns.boxplot(x='species',y='PL',data=data)"
   ]
  },
  {
   "cell_type": "markdown",
   "id": "a3d11c3c",
   "metadata": {},
   "source": [
    "# PDF vs CDF"
   ]
  },
  {
   "cell_type": "code",
   "execution_count": 29,
   "id": "76b03baf",
   "metadata": {},
   "outputs": [
    {
     "name": "stderr",
     "output_type": "stream",
     "text": [
      "/Users/shresthmurarka/opt/anaconda3/lib/python3.9/site-packages/seaborn/distributions.py:2619: FutureWarning: `distplot` is a deprecated function and will be removed in a future version. Please adapt your code to use either `displot` (a figure-level function with similar flexibility) or `histplot` (an axes-level function for histograms).\n",
      "  warnings.warn(msg, FutureWarning)\n"
     ]
    },
    {
     "data": {
      "text/plain": [
       "<AxesSubplot:xlabel='PL', ylabel='Density'>"
      ]
     },
     "execution_count": 29,
     "metadata": {},
     "output_type": "execute_result"
    },
    {
     "data": {
      "image/png": "[encoded data removed]",
      "text/plain": [
       "<Figure size 432x288 with 1 Axes>"
      ]
     },
     "metadata": {
      "needs_background": "light"
     },
     "output_type": "display_data"
    }
   ],
   "source": [
    "sns.distplot(iris_setosa['PL'])"
   ]
  },
  {
   "cell_type": "code",
   "execution_count": 30,
   "id": "1c53754f",
   "metadata": {},
   "outputs": [
    {
     "name": "stderr",
     "output_type": "stream",
     "text": [
      "/Users/shresthmurarka/opt/anaconda3/lib/python3.9/site-packages/seaborn/distributions.py:2619: FutureWarning: `distplot` is a deprecated function and will be removed in a future version. Please adapt your code to use either `displot` (a figure-level function with similar flexibility) or `histplot` (an axes-level function for histograms).\n",
      "  warnings.warn(msg, FutureWarning)\n",
      "/Users/shresthmurarka/opt/anaconda3/lib/python3.9/site-packages/seaborn/distributions.py:2619: FutureWarning: `distplot` is a deprecated function and will be removed in a future version. Please adapt your code to use either `displot` (a figure-level function with similar flexibility) or `histplot` (an axes-level function for histograms).\n",
      "  warnings.warn(msg, FutureWarning)\n",
      "/Users/shresthmurarka/opt/anaconda3/lib/python3.9/site-packages/seaborn/distributions.py:2619: FutureWarning: `distplot` is a deprecated function and will be removed in a future version. Please adapt your code to use either `displot` (a figure-level function with similar flexibility) or `histplot` (an axes-level function for histograms).\n",
      "  warnings.warn(msg, FutureWarning)\n"
     ]
    },
    {
     "data": {
      "text/plain": [
       "<seaborn.axisgrid.FacetGrid at 0x7fd3580acb50>"
      ]
     },
     "execution_count": 30,
     "metadata": {},
     "output_type": "execute_result"
    },
    {
     "data": {
      "image/png": "[encoded data removed]",
      "text/plain": [
       "<Figure size 516.75x432 with 1 Axes>"
      ]
     },
     "metadata": {
      "needs_background": "light"
     },
     "output_type": "display_data"
    }
   ],
   "source": [
    "sns.FacetGrid(data,hue='species',height=6).map(sns.distplot,'PL').add_legend()"
   ]
  },
  {
   "cell_type": "code",
   "execution_count": 31,
   "id": "2beef8ff",
   "metadata": {},
   "outputs": [],
   "source": [
    "counts,bin_edge=np.histogram(iris_setosa['PL'],bins=10)"
   ]
  },
  {
   "cell_type": "code",
   "execution_count": 33,
   "id": "ddf128e3",
   "metadata": {},
   "outputs": [],
   "source": [
    "pdf=counts/sum(counts)\n",
    "cdf=np.cumsum(pdf)"
   ]
  },
  {
   "cell_type": "code",
   "execution_count": 38,
   "id": "ee7b6e36",
   "metadata": {},
   "outputs": [
    {
     "data": {
      "text/plain": [
       "[<matplotlib.lines.Line2D at 0x7fd3587f5fa0>]"
      ]
     },
     "execution_count": 38,
     "metadata": {},
     "output_type": "execute_result"
    },
    {
     "data": {
      "image/png": "[encoded data removed]",
      "text/plain": [
       "<Figure size 432x288 with 1 Axes>"
      ]
     },
     "metadata": {
      "needs_background": "light"
     },
     "output_type": "display_data"
    }
   ],
   "source": [
    "plt.plot(bin_edge[1:],pdf)\n",
    "plt.plot(bin_edge[1:],cdf)"
   ]
  },
  {
   "cell_type": "code",
   "execution_count": 40,
   "id": "ba8ea91d",
   "metadata": {},
   "outputs": [
    {
     "data": {
      "text/plain": [
       "[<matplotlib.lines.Line2D at 0x7fd358a3bd00>]"
      ]
     },
     "execution_count": 40,
     "metadata": {},
     "output_type": "execute_result"
    },
    {
     "data": {
      "image/png": "[encoded data removed]",
      "text/plain": [
       "<Figure size 432x288 with 1 Axes>"
      ]
     },
     "metadata": {},
     "output_type": "display_data"
    }
   ],
   "source": [
    "plt.style.use('fivethirtyeight')\n",
    "counts,bin_edge=np.histogram(iris_setosa['PL'],bins=10)\n",
    "pdf=counts/sum(counts)\n",
    "cdf=np.cumsum(pdf)\n",
    "plt.plot(bin_edge[1:],pdf)\n",
    "plt.plot(bin_edge[1:],cdf)\n",
    "counts,bin_edge=np.histogram(iris_versicolor['PL'],bins=10)\n",
    "pdf=counts/sum(counts)\n",
    "cdf=np.cumsum(pdf)\n",
    "plt.plot(bin_edge[1:],pdf)\n",
    "plt.plot(bin_edge[1:],cdf)\n",
    "counts,bin_edge=np.histogram(iris_virginica['PL'],bins=10)\n",
    "pdf=counts/sum(counts)\n",
    "cdf=np.cumsum(pdf)\n",
    "plt.plot(bin_edge[1:],pdf)\n",
    "plt.plot(bin_edge[1:],cdf)"
   ]
  },
  {
   "cell_type": "code",
   "execution_count": null,
   "id": "574d4e32",
   "metadata": {},
   "outputs": [],
   "source": []
  }
 ],
 "metadata": {
  "kernelspec": {
   "display_name": "Python 3 (ipykernel)",
   "language": "python",
   "name": "python3"
  },
  "language_info": {
   "codemirror_mode": {
    "name": "ipython",
    "version": 3
   },
   "file_extension": ".py",
   "mimetype": "text/x-python",
   "name": "python",
   "nbconvert_exporter": "python",
   "pygments_lexer": "ipython3",
   "version": "3.9.7"
  }
 },
 "nbformat": 4,
 "nbformat_minor": 5
}
