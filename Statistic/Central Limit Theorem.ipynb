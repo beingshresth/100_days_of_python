{
 "cells": [
  {
   "cell_type": "code",
   "execution_count": 1,
   "id": "6b8b6ecf",
   "metadata": {},
   "outputs": [],
   "source": [
    "import numpy as np\n",
    "import pandas as pd\n",
    "import seaborn as sns\n",
    "import matplotlib.pyplot as plt"
   ]
  },
  {
   "cell_type": "code",
   "execution_count": 6,
   "id": "d1e5ae32",
   "metadata": {},
   "outputs": [],
   "source": [
    "delivery=pd.read_csv('deliveries.csv')"
   ]
  },
  {
   "cell_type": "code",
   "execution_count": 9,
   "id": "f872696b",
   "metadata": {},
   "outputs": [],
   "source": [
    "runs=delivery.groupby('batsman').sum()['batsman_runs']"
   ]
  },
  {
   "cell_type": "code",
   "execution_count": 10,
   "id": "a87923d2",
   "metadata": {},
   "outputs": [
    {
     "data": {
      "text/plain": [
       "batsman\n",
       "A Ashish Reddy     280\n",
       "A Chandila           4\n",
       "A Chopra            53\n",
       "A Choudhary         25\n",
       "A Flintoff          62\n",
       "                  ... \n",
       "YV Takawale        192\n",
       "Yashpal Singh       47\n",
       "Younis Khan          3\n",
       "Yuvraj Singh      2591\n",
       "Z Khan             117\n",
       "Name: batsman_runs, Length: 461, dtype: int64"
      ]
     },
     "execution_count": 10,
     "metadata": {},
     "output_type": "execute_result"
    }
   ],
   "source": [
    "runs"
   ]
  },
  {
   "cell_type": "code",
   "execution_count": 11,
   "id": "6f442ca1",
   "metadata": {},
   "outputs": [
    {
     "name": "stdout",
     "output_type": "stream",
     "text": [
      "[ 280    4   53   25   62   35  340   34   19   41    2  974    4    5\n",
      "   69   12  217    9  179   42   26  123 3486  120 2069   20  181   79\n",
      "  724   20  574    7   10   49 1604   53  401  672 3057   36    7   34\n",
      "   87  339   12  606    6  194   49 2416   39    0   63   87    7   33\n",
      "  388   76  280  158    4  124   35    6  316    3 2755  125    4  124\n",
      "    1   18 1400  193   23   40   28  187   15   30    0  126   21  384\n",
      "  390 3651  439  521   98    3    8   16    8  971  169   95   46    4\n",
      "    3   33  127   10 1563 4014   12  304  375   21  170 1262  111  373\n",
      " 1322   92    1   39  295   14  121    6   11    4    1 1808   19 2385\n",
      "   90   18  420   13  166  854   24   14 1295    4  183 4132   22  739\n",
      "    4  280  663 1229   15  342    2  886  406  577   47  799   18   20\n",
      "    7   45    0 1150   76   18   88  319   23  409   48   29   10    6\n",
      "  975  528  604    5  106   42    3  327 2427   25   59   18   26   38\n",
      " 1993  527  417    8   36  218   55   12 2354   10   51   15 1687 2903\n",
      "  480   13  116 1158  725  893    5    2 1001  411  317   36  128    3\n",
      "   12   20    0   36   34   81  302    1  106 1079   40  405 1017    0\n",
      "  259  113   73  514  126   20   11   55 2511  957    1  814   24   96\n",
      "  969  125  237   14 1977  177  151   98  189  278   63 2223 1648 1107\n",
      "   39  112  161  167  163  225  798 3560   99   22  394 1112    2  117\n",
      "    2    3   64    2   46  437  140    0   20    1   26  424   52   23\n",
      " 1553  121  506    5  127  340  353    1   19 2322  164  505  203   77\n",
      "   24    1  515   16   92    6   18    7   17  726  231  342   19  153\n",
      " 2174  159    3   51  270   66   19   35  304 1732  391    3   83  159\n",
      "    2 4207  117   32  103  326   52    0  564   67   20   53   73  531\n",
      "    2    4   91   50 3778   11  136   59   13 1441   25 3561   14    9\n",
      "    0    0   26   37   91    2  368   34   31    3  145   15  423  608\n",
      "   49   28    6  131    2 1349   99    1 2489    5 4548   42  198   88\n",
      "    9  241  147   10  177    7  196  241   38  271 1713 2334 2628  807\n",
      "    6 1276  768  766 1426  226   23  137  193   26   81  500    5    1\n",
      "    2   52   36    0   43   12   11   11   31   12    5   10   54  676\n",
      " 1153  205    8   75    8    0    7  300  127   94   39 4423    0 2728\n",
      "  101   29   46    4    7    2  282   15   19  130   56   63 1557   81\n",
      "    9   10   19  285  985    0 2922   15  192   47    3 2591  117]\n"
     ]
    }
   ],
   "source": [
    "runs=runs.values\n",
    "print(runs)"
   ]
  },
  {
   "cell_type": "code",
   "execution_count": 12,
   "id": "02918d40",
   "metadata": {
    "scrolled": true
   },
   "outputs": [
    {
     "name": "stderr",
     "output_type": "stream",
     "text": [
      "/Users/shresthmurarka/opt/anaconda3/lib/python3.9/site-packages/seaborn/distributions.py:2619: FutureWarning: `distplot` is a deprecated function and will be removed in a future version. Please adapt your code to use either `displot` (a figure-level function with similar flexibility) or `histplot` (an axes-level function for histograms).\n",
      "  warnings.warn(msg, FutureWarning)\n"
     ]
    },
    {
     "data": {
      "text/plain": [
       "<AxesSubplot:ylabel='Density'>"
      ]
     },
     "execution_count": 12,
     "metadata": {},
     "output_type": "execute_result"
    },
    {
     "data": {
      "image/png": "[encoded data removed]",
      "text/plain": [
       "<Figure size 432x288 with 1 Axes>"
      ]
     },
     "metadata": {
      "needs_background": "light"
     },
     "output_type": "display_data"
    }
   ],
   "source": [
    "sns.distplot(runs)"
   ]
  },
  {
   "cell_type": "code",
   "execution_count": 14,
   "id": "6519a2af",
   "metadata": {},
   "outputs": [],
   "source": [
    "#n=50/461 batsmen taken per sample\n",
    "#m=1000 number of item of sampling"
   ]
  },
  {
   "cell_type": "code",
   "execution_count": 17,
   "id": "e500d1a7",
   "metadata": {},
   "outputs": [
    {
     "data": {
      "text/plain": [
       "array([  0,  55, 799,  79,   4])"
      ]
     },
     "execution_count": 17,
     "metadata": {},
     "output_type": "execute_result"
    }
   ],
   "source": [
    "np.random.choice(runs,size=5)"
   ]
  },
  {
   "cell_type": "code",
   "execution_count": 18,
   "id": "3dd14f7d",
   "metadata": {},
   "outputs": [],
   "source": [
    "m=1000\n",
    "n=50\n",
    "new=[]\n",
    "for i in range(m):\n",
    "    x=np.random.choice(runs,size=n)\n",
    "    new.append(x.mean())\n",
    "    "
   ]
  },
  {
   "cell_type": "code",
   "execution_count": 19,
   "id": "f6a2456f",
   "metadata": {},
   "outputs": [
    {
     "data": {
      "text/plain": [
       "1000"
      ]
     },
     "execution_count": 19,
     "metadata": {},
     "output_type": "execute_result"
    }
   ],
   "source": [
    "len(new)"
   ]
  },
  {
   "cell_type": "code",
   "execution_count": 20,
   "id": "4adfc799",
   "metadata": {},
   "outputs": [],
   "source": [
    "new=np.array(new)"
   ]
  },
  {
   "cell_type": "code",
   "execution_count": 21,
   "id": "1f31e7d5",
   "metadata": {},
   "outputs": [
    {
     "name": "stderr",
     "output_type": "stream",
     "text": [
      "/Users/shresthmurarka/opt/anaconda3/lib/python3.9/site-packages/seaborn/distributions.py:2619: FutureWarning: `distplot` is a deprecated function and will be removed in a future version. Please adapt your code to use either `displot` (a figure-level function with similar flexibility) or `histplot` (an axes-level function for histograms).\n",
      "  warnings.warn(msg, FutureWarning)\n"
     ]
    },
    {
     "data": {
      "text/plain": [
       "<AxesSubplot:ylabel='Density'>"
      ]
     },
     "execution_count": 21,
     "metadata": {},
     "output_type": "execute_result"
    },
    {
     "data": {
      "image/png": "[encoded data removed]",
      "text/plain": [
       "<Figure size 432x288 with 1 Axes>"
      ]
     },
     "metadata": {
      "needs_background": "light"
     },
     "output_type": "display_data"
    }
   ],
   "source": [
    "sns.distplot(new)"
   ]
  },
  {
   "cell_type": "code",
   "execution_count": 22,
   "id": "80698b78",
   "metadata": {},
   "outputs": [
    {
     "data": {
      "text/plain": [
       "398.9783080260304"
      ]
     },
     "execution_count": 22,
     "metadata": {},
     "output_type": "execute_result"
    }
   ],
   "source": [
    "runs.mean()"
   ]
  },
  {
   "cell_type": "code",
   "execution_count": 23,
   "id": "27c1f654",
   "metadata": {},
   "outputs": [
    {
     "data": {
      "text/plain": [
       "398.23743999999994"
      ]
     },
     "execution_count": 23,
     "metadata": {},
     "output_type": "execute_result"
    }
   ],
   "source": [
    "new.mean()"
   ]
  },
  {
   "cell_type": "code",
   "execution_count": 25,
   "id": "67dd0e4d",
   "metadata": {},
   "outputs": [
    {
     "data": {
      "text/plain": [
       "12311.660901652069"
      ]
     },
     "execution_count": 25,
     "metadata": {},
     "output_type": "execute_result"
    }
   ],
   "source": [
    "runs.var()/50"
   ]
  },
  {
   "cell_type": "code",
   "execution_count": 26,
   "id": "b081e10b",
   "metadata": {},
   "outputs": [
    {
     "data": {
      "text/plain": [
       "12562.954151846398"
      ]
     },
     "execution_count": 26,
     "metadata": {},
     "output_type": "execute_result"
    }
   ],
   "source": [
    "new.var()"
   ]
  },
  {
   "cell_type": "code",
   "execution_count": null,
   "id": "031ab0b7",
   "metadata": {},
   "outputs": [],
   "source": []
  }
 ],
 "metadata": {
  "kernelspec": {
   "display_name": "Python 3 (ipykernel)",
   "language": "python",
   "name": "python3"
  },
  "language_info": {
   "codemirror_mode": {
    "name": "ipython",
    "version": 3
   },
   "file_extension": ".py",
   "mimetype": "text/x-python",
   "name": "python",
   "nbconvert_exporter": "python",
   "pygments_lexer": "ipython3",
   "version": "3.9.7"
  }
 },
 "nbformat": 4,
 "nbformat_minor": 5
}
