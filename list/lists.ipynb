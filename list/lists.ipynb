{
 "cells": [
  {
   "cell_type": "markdown",
   "id": "ced2b8a3",
   "metadata": {},
   "source": [
    "# LISTS"
   ]
  },
  {
   "cell_type": "markdown",
   "id": "2777a683",
   "metadata": {},
   "source": [
    "arrays and list are fundamentally same"
   ]
  },
  {
   "cell_type": "raw",
   "id": "fd676d9c",
   "metadata": {},
   "source": [
    "  main difference btw array and list are :\n",
    "    1.Array homogenous & List hetrogenous\n",
    "    2.continuos memory allocation in array\n",
    "    3.array are much faster\n",
    "    4.list are more programmer friendly"
   ]
  },
  {
   "cell_type": "code",
   "execution_count": 2,
   "id": "e1bd001a",
   "metadata": {},
   "outputs": [
    {
     "data": {
      "text/plain": [
       "[]"
      ]
     },
     "execution_count": 2,
     "metadata": {},
     "output_type": "execute_result"
    }
   ],
   "source": [
    "L=[]\n",
    "L"
   ]
  },
  {
   "cell_type": "code",
   "execution_count": 5,
   "id": "a4b6a44a",
   "metadata": {},
   "outputs": [
    {
     "data": {
      "text/plain": [
       "[1, 2, 3, 4, 5]"
      ]
     },
     "execution_count": 5,
     "metadata": {},
     "output_type": "execute_result"
    }
   ],
   "source": [
    "L=[1,2,3,4,5]\n",
    "L"
   ]
  },
  {
   "cell_type": "code",
   "execution_count": 7,
   "id": "01f841c8",
   "metadata": {},
   "outputs": [
    {
     "data": {
      "text/plain": [
       "[1, 'shresth', True, 7, 9, (6+9j)]"
      ]
     },
     "execution_count": 7,
     "metadata": {},
     "output_type": "execute_result"
    }
   ],
   "source": [
    "L2=[1,\"shresth\",True,7,9,6+9j]\n",
    "L2"
   ]
  },
  {
   "cell_type": "code",
   "execution_count": 8,
   "id": "aaf9859c",
   "metadata": {},
   "outputs": [
    {
     "data": {
      "text/plain": [
       "[1, 2, 3, [4, 5]]"
      ]
     },
     "execution_count": 8,
     "metadata": {},
     "output_type": "execute_result"
    }
   ],
   "source": [
    "#2D list\n",
    "L3=[1,2,3,[4,5]]\n",
    "L3"
   ]
  },
  {
   "cell_type": "code",
   "execution_count": 32,
   "id": "03f30cb9",
   "metadata": {},
   "outputs": [
    {
     "data": {
      "text/plain": [
       "[[[1, 2], [6, 8]], [[7, 9], [9, 10]]]"
      ]
     },
     "execution_count": 32,
     "metadata": {},
     "output_type": "execute_result"
    }
   ],
   "source": [
    "#3d lists\n",
    "L4=[[[1,2],[6,8]],[[7,9],[9,10]]]\n",
    "L4"
   ]
  },
  {
   "cell_type": "code",
   "execution_count": 12,
   "id": "94253994",
   "metadata": {},
   "outputs": [
    {
     "data": {
      "text/plain": [
       "['S', 'h', 'r', 'e', 's', 't', 'h']"
      ]
     },
     "execution_count": 12,
     "metadata": {},
     "output_type": "execute_result"
    }
   ],
   "source": [
    " L5=list(\"Shresth\")\n",
    "L5"
   ]
  },
  {
   "cell_type": "code",
   "execution_count": 14,
   "id": "e3f0f83a",
   "metadata": {},
   "outputs": [
    {
     "data": {
      "text/plain": [
       "[]"
      ]
     },
     "execution_count": 14,
     "metadata": {},
     "output_type": "execute_result"
    }
   ],
   "source": [
    "L6=list()\n",
    "L6"
   ]
  },
  {
   "cell_type": "code",
   "execution_count": 15,
   "id": "dec8c11b",
   "metadata": {},
   "outputs": [],
   "source": [
    "#Access List"
   ]
  },
  {
   "cell_type": "code",
   "execution_count": 16,
   "id": "f1d6f438",
   "metadata": {},
   "outputs": [
    {
     "data": {
      "text/plain": [
       "[1, 2, 3, 4, 5]"
      ]
     },
     "execution_count": 16,
     "metadata": {},
     "output_type": "execute_result"
    }
   ],
   "source": [
    "L"
   ]
  },
  {
   "cell_type": "code",
   "execution_count": 17,
   "id": "6230934c",
   "metadata": {},
   "outputs": [
    {
     "data": {
      "text/plain": [
       "1"
      ]
     },
     "execution_count": 17,
     "metadata": {},
     "output_type": "execute_result"
    }
   ],
   "source": [
    "L[0]"
   ]
  },
  {
   "cell_type": "code",
   "execution_count": 19,
   "id": "45615c68",
   "metadata": {},
   "outputs": [
    {
     "data": {
      "text/plain": [
       "5"
      ]
     },
     "execution_count": 19,
     "metadata": {},
     "output_type": "execute_result"
    }
   ],
   "source": [
    "L[-1]"
   ]
  },
  {
   "cell_type": "code",
   "execution_count": 20,
   "id": "cdbac044",
   "metadata": {},
   "outputs": [
    {
     "data": {
      "text/plain": [
       "[5, 4, 3, 2, 1]"
      ]
     },
     "execution_count": 20,
     "metadata": {},
     "output_type": "execute_result"
    }
   ],
   "source": [
    "L[::-1]"
   ]
  },
  {
   "cell_type": "code",
   "execution_count": 21,
   "id": "fb85f107",
   "metadata": {},
   "outputs": [
    {
     "data": {
      "text/plain": [
       "[2, 4]"
      ]
     },
     "execution_count": 21,
     "metadata": {},
     "output_type": "execute_result"
    }
   ],
   "source": [
    "L[1:4:2]"
   ]
  },
  {
   "cell_type": "code",
   "execution_count": 22,
   "id": "b5a5e7ea",
   "metadata": {},
   "outputs": [
    {
     "data": {
      "text/plain": [
       "[1, 2, 3, [4, 5]]"
      ]
     },
     "execution_count": 22,
     "metadata": {},
     "output_type": "execute_result"
    }
   ],
   "source": [
    "L3"
   ]
  },
  {
   "cell_type": "code",
   "execution_count": 24,
   "id": "e419922a",
   "metadata": {},
   "outputs": [
    {
     "data": {
      "text/plain": [
       "[4, 5]"
      ]
     },
     "execution_count": 24,
     "metadata": {},
     "output_type": "execute_result"
    }
   ],
   "source": [
    "L3[-1]"
   ]
  },
  {
   "cell_type": "code",
   "execution_count": 25,
   "id": "47687905",
   "metadata": {},
   "outputs": [],
   "source": [
    "x=L3[-1]"
   ]
  },
  {
   "cell_type": "code",
   "execution_count": 26,
   "id": "56549115",
   "metadata": {},
   "outputs": [
    {
     "data": {
      "text/plain": [
       "4"
      ]
     },
     "execution_count": 26,
     "metadata": {},
     "output_type": "execute_result"
    }
   ],
   "source": [
    "x[0]"
   ]
  },
  {
   "cell_type": "code",
   "execution_count": 27,
   "id": "95093c0c",
   "metadata": {},
   "outputs": [
    {
     "data": {
      "text/plain": [
       "4"
      ]
     },
     "execution_count": 27,
     "metadata": {},
     "output_type": "execute_result"
    }
   ],
   "source": [
    "L3[-1][0]"
   ]
  },
  {
   "cell_type": "code",
   "execution_count": 33,
   "id": "2b027a93",
   "metadata": {},
   "outputs": [
    {
     "data": {
      "text/plain": [
       "[[[1, 2], [6, 8]], [[7, 9], [9, 10]]]"
      ]
     },
     "execution_count": 33,
     "metadata": {},
     "output_type": "execute_result"
    }
   ],
   "source": [
    "L4 "
   ]
  },
  {
   "cell_type": "code",
   "execution_count": 35,
   "id": "97eecf33",
   "metadata": {},
   "outputs": [
    {
     "data": {
      "text/plain": [
       "9"
      ]
     },
     "execution_count": 35,
     "metadata": {},
     "output_type": "execute_result"
    }
   ],
   "source": [
    "L4[1][1][0]"
   ]
  },
  {
   "cell_type": "code",
   "execution_count": 37,
   "id": "521d456c",
   "metadata": {},
   "outputs": [],
   "source": [
    "#edit list"
   ]
  },
  {
   "cell_type": "code",
   "execution_count": 39,
   "id": "ca6cb504",
   "metadata": {},
   "outputs": [
    {
     "data": {
      "text/plain": [
       "[100, 2, 3, 4, 5]"
      ]
     },
     "execution_count": 39,
     "metadata": {},
     "output_type": "execute_result"
    }
   ],
   "source": [
    "L[0]=100\n",
    "L"
   ]
  },
  {
   "cell_type": "code",
   "execution_count": 40,
   "id": "533f1c99",
   "metadata": {},
   "outputs": [],
   "source": [
    "#list in pytjon are mutable"
   ]
  },
  {
   "cell_type": "code",
   "execution_count": 42,
   "id": "f1a77bf6",
   "metadata": {},
   "outputs": [
    {
     "data": {
      "text/plain": [
       "[100, 200, 900, 0, 5]"
      ]
     },
     "execution_count": 42,
     "metadata": {},
     "output_type": "execute_result"
    }
   ],
   "source": [
    "L[1:4]=[200,900,00]\n",
    "L"
   ]
  },
  {
   "cell_type": "code",
   "execution_count": 43,
   "id": "f394bb80",
   "metadata": {},
   "outputs": [],
   "source": [
    "#add\n",
    "#append\n",
    "#extend\n",
    "#insert"
   ]
  },
  {
   "cell_type": "code",
   "execution_count": 49,
   "id": "685207c1",
   "metadata": {},
   "outputs": [
    {
     "data": {
      "text/plain": [
       "[100, 200, 900, 0, 5, 1000, 1000, 1000, 1000]"
      ]
     },
     "execution_count": 49,
     "metadata": {},
     "output_type": "execute_result"
    }
   ],
   "source": [
    "L.append(1000)\n",
    "L"
   ]
  },
  {
   "cell_type": "code",
   "execution_count": 50,
   "id": "a6f465e9",
   "metadata": {},
   "outputs": [
    {
     "data": {
      "text/plain": [
       "[100, 200, 900, 0, 5, 1000, 1000, 1000, 1000, 'hello']"
      ]
     },
     "execution_count": 50,
     "metadata": {},
     "output_type": "execute_result"
    }
   ],
   "source": [
    "L.append(\"hello\")\n",
    "L"
   ]
  },
  {
   "cell_type": "code",
   "execution_count": 53,
   "id": "ebe360f6",
   "metadata": {},
   "outputs": [
    {
     "data": {
      "text/plain": [
       "[100, 200, 900, 0, 5, 1000, 1000, 1000, 1000, 'hello', 500, 800, 900]"
      ]
     },
     "execution_count": 53,
     "metadata": {},
     "output_type": "execute_result"
    }
   ],
   "source": [
    "L.extend([500,800,900])\n",
    "L"
   ]
  },
  {
   "cell_type": "code",
   "execution_count": 54,
   "id": "24a42b23",
   "metadata": {},
   "outputs": [
    {
     "data": {
      "text/plain": [
       "[100, 200, 900, 0, 5, 1000, 1000, 1000, 1000, 'hello', 500, 800, 900, [5, 7]]"
      ]
     },
     "execution_count": 54,
     "metadata": {},
     "output_type": "execute_result"
    }
   ],
   "source": [
    "L.append([5,7])\n",
    "L"
   ]
  },
  {
   "cell_type": "code",
   "execution_count": 55,
   "id": "9187feb0",
   "metadata": {},
   "outputs": [
    {
     "data": {
      "text/plain": [
       "[100,\n",
       " 200,\n",
       " 900,\n",
       " 0,\n",
       " 5,\n",
       " 1000,\n",
       " 1000,\n",
       " 1000,\n",
       " 1000,\n",
       " 'hello',\n",
       " 500,\n",
       " 800,\n",
       " 900,\n",
       " [5, 7],\n",
       " 'G',\n",
       " 'o',\n",
       " 'a']"
      ]
     },
     "execution_count": 55,
     "metadata": {},
     "output_type": "execute_result"
    }
   ],
   "source": [
    "L.extend(\"Goa\")\n",
    "L"
   ]
  },
  {
   "cell_type": "code",
   "execution_count": 57,
   "id": "bac94b4d",
   "metadata": {},
   "outputs": [],
   "source": [
    "L.insert(0,\"hello\")"
   ]
  },
  {
   "cell_type": "code",
   "execution_count": 58,
   "id": "3a99ac45",
   "metadata": {},
   "outputs": [
    {
     "data": {
      "text/plain": [
       "['hello',\n",
       " 100,\n",
       " 200,\n",
       " 900,\n",
       " 0,\n",
       " 5,\n",
       " 1000,\n",
       " 1000,\n",
       " 1000,\n",
       " 1000,\n",
       " 'hello',\n",
       " 500,\n",
       " 800,\n",
       " 900,\n",
       " [5, 7],\n",
       " 'G',\n",
       " 'o',\n",
       " 'a']"
      ]
     },
     "execution_count": 58,
     "metadata": {},
     "output_type": "execute_result"
    }
   ],
   "source": [
    "L"
   ]
  },
  {
   "cell_type": "code",
   "execution_count": 60,
   "id": "da6a283d",
   "metadata": {},
   "outputs": [],
   "source": [
    "#delete\n",
    "#del\n",
    "#pop\n",
    "#remove"
   ]
  },
  {
   "cell_type": "code",
   "execution_count": 64,
   "id": "78e6ec35",
   "metadata": {},
   "outputs": [],
   "source": [
    "del L2[2:3]"
   ]
  },
  {
   "cell_type": "markdown",
   "id": "17981299",
   "metadata": {},
   "source": [
    "## "
   ]
  },
  {
   "cell_type": "code",
   "execution_count": 65,
   "id": "908b5954",
   "metadata": {},
   "outputs": [
    {
     "data": {
      "text/plain": [
       "[1, 'shresth', 7, 9, (6+9j)]"
      ]
     },
     "execution_count": 65,
     "metadata": {},
     "output_type": "execute_result"
    }
   ],
   "source": [
    "L2"
   ]
  },
  {
   "cell_type": "code",
   "execution_count": 67,
   "id": "2a71f34c",
   "metadata": {},
   "outputs": [],
   "source": [
    "L2.remove(\"shresth\")"
   ]
  },
  {
   "cell_type": "code",
   "execution_count": 68,
   "id": "e4c10178",
   "metadata": {},
   "outputs": [
    {
     "data": {
      "text/plain": [
       "[1, 7, 9, (6+9j)]"
      ]
     },
     "execution_count": 68,
     "metadata": {},
     "output_type": "execute_result"
    }
   ],
   "source": [
    "L2 "
   ]
  },
  {
   "cell_type": "code",
   "execution_count": 69,
   "id": "aed80ab4",
   "metadata": {},
   "outputs": [
    {
     "data": {
      "text/plain": [
       "[1, 7, 9]"
      ]
     },
     "execution_count": 69,
     "metadata": {},
     "output_type": "execute_result"
    }
   ],
   "source": [
    "L2.pop()\n",
    "L2"
   ]
  },
  {
   "cell_type": "code",
   "execution_count": 71,
   "id": "813cd31d",
   "metadata": {},
   "outputs": [],
   "source": [
    "L2.clear()"
   ]
  },
  {
   "cell_type": "code",
   "execution_count": 72,
   "id": "8f586e4a",
   "metadata": {},
   "outputs": [
    {
     "data": {
      "text/plain": [
       "[]"
      ]
     },
     "execution_count": 72,
     "metadata": {},
     "output_type": "execute_result"
    }
   ],
   "source": [
    "L2"
   ]
  },
  {
   "cell_type": "code",
   "execution_count": 73,
   "id": "e3209971",
   "metadata": {},
   "outputs": [],
   "source": [
    "#OPERATIONS"
   ]
  },
  {
   "cell_type": "code",
   "execution_count": 74,
   "id": "75ab3a58",
   "metadata": {},
   "outputs": [
    {
     "data": {
      "text/plain": [
       "[1, 23, 4, 5, 6, 7, 23, 4, 5, 6, 0]"
      ]
     },
     "execution_count": 74,
     "metadata": {},
     "output_type": "execute_result"
    }
   ],
   "source": [
    "L=[1,23,4,5,6,7]\n",
    "L1=[23,4,5,6,0]\n",
    "L+L1"
   ]
  },
  {
   "cell_type": "code",
   "execution_count": 75,
   "id": "03e930b1",
   "metadata": {},
   "outputs": [
    {
     "data": {
      "text/plain": [
       "[1, 23, 4, 5, 6, 7, 1, 23, 4, 5, 6, 7, 1, 23, 4, 5, 6, 7]"
      ]
     },
     "execution_count": 75,
     "metadata": {},
     "output_type": "execute_result"
    }
   ],
   "source": [
    "L*3"
   ]
  },
  {
   "cell_type": "code",
   "execution_count": 77,
   "id": "44cd3d4d",
   "metadata": {},
   "outputs": [
    {
     "name": "stdout",
     "output_type": "stream",
     "text": [
      "1\n",
      "23\n",
      "4\n",
      "5\n",
      "6\n",
      "7\n"
     ]
    }
   ],
   "source": [
    " for i in L:\n",
    "        print(i)"
   ]
  },
  {
   "cell_type": "code",
   "execution_count": 78,
   "id": "56b55106",
   "metadata": {},
   "outputs": [
    {
     "data": {
      "text/plain": [
       "True"
      ]
     },
     "execution_count": 78,
     "metadata": {},
     "output_type": "execute_result"
    }
   ],
   "source": [
    "4 in L1"
   ]
  },
  {
   "cell_type": "code",
   "execution_count": 79,
   "id": "2c06fd07",
   "metadata": {},
   "outputs": [],
   "source": [
    "#Functions"
   ]
  },
  {
   "cell_type": "code",
   "execution_count": 80,
   "id": "ef646ec0",
   "metadata": {},
   "outputs": [
    {
     "data": {
      "text/plain": [
       "[1, 23, 4, 5, 6, 7]"
      ]
     },
     "execution_count": 80,
     "metadata": {},
     "output_type": "execute_result"
    }
   ],
   "source": [
    "L"
   ]
  },
  {
   "cell_type": "code",
   "execution_count": 82,
   "id": "74e3b895",
   "metadata": {},
   "outputs": [
    {
     "data": {
      "text/plain": [
       "6"
      ]
     },
     "execution_count": 82,
     "metadata": {},
     "output_type": "execute_result"
    }
   ],
   "source": [
    "len(L)"
   ]
  },
  {
   "cell_type": "code",
   "execution_count": 83,
   "id": "8c023109",
   "metadata": {},
   "outputs": [
    {
     "data": {
      "text/plain": [
       "1"
      ]
     },
     "execution_count": 83,
     "metadata": {},
     "output_type": "execute_result"
    }
   ],
   "source": [
    "min(L)"
   ]
  },
  {
   "cell_type": "code",
   "execution_count": 85,
   "id": "be3e264e",
   "metadata": {},
   "outputs": [
    {
     "data": {
      "text/plain": [
       "23"
      ]
     },
     "execution_count": 85,
     "metadata": {},
     "output_type": "execute_result"
    }
   ],
   "source": [
    "max(L)"
   ]
  },
  {
   "cell_type": "code",
   "execution_count": 86,
   "id": "6542c1d5",
   "metadata": {},
   "outputs": [
    {
     "data": {
      "text/plain": [
       "[1, 4, 5, 6, 7, 23]"
      ]
     },
     "execution_count": 86,
     "metadata": {},
     "output_type": "execute_result"
    }
   ],
   "source": [
    "sorted(L) #temporary change"
   ]
  },
  {
   "cell_type": "code",
   "execution_count": 87,
   "id": "bf67bc9f",
   "metadata": {},
   "outputs": [
    {
     "data": {
      "text/plain": [
       "[23, 7, 6, 5, 4, 1]"
      ]
     },
     "execution_count": 87,
     "metadata": {},
     "output_type": "execute_result"
    }
   ],
   "source": [
    "sorted(L,reverse=True)"
   ]
  },
  {
   "cell_type": "code",
   "execution_count": 92,
   "id": "5171babd",
   "metadata": {},
   "outputs": [
    {
     "data": {
      "text/plain": [
       "[1, 4, 5, 6, 7, 23]"
      ]
     },
     "execution_count": 92,
     "metadata": {},
     "output_type": "execute_result"
    }
   ],
   "source": [
    "L.sort() #permanent change\n",
    "L"
   ]
  },
  {
   "cell_type": "code",
   "execution_count": 90,
   "id": "b038690d",
   "metadata": {},
   "outputs": [],
   "source": [
    "L.sort(reverse = True)"
   ]
  },
  {
   "cell_type": "code",
   "execution_count": 91,
   "id": "4cc9ef01",
   "metadata": {},
   "outputs": [
    {
     "data": {
      "text/plain": [
       "[23, 7, 6, 5, 4, 1]"
      ]
     },
     "execution_count": 91,
     "metadata": {},
     "output_type": "execute_result"
    }
   ],
   "source": [
    "L"
   ]
  },
  {
   "cell_type": "code",
   "execution_count": 96,
   "id": "5c97da7d",
   "metadata": {},
   "outputs": [
    {
     "data": {
      "text/plain": [
       "1"
      ]
     },
     "execution_count": 96,
     "metadata": {},
     "output_type": "execute_result"
    }
   ],
   "source": [
    "L.index(4)"
   ]
  },
  {
   "cell_type": "code",
   "execution_count": 101,
   "id": "1ff033af",
   "metadata": {},
   "outputs": [
    {
     "name": "stdout",
     "output_type": "stream",
     "text": [
      "['hello', 'how', 'are', 'you']\n"
     ]
    }
   ],
   "source": [
    "sample=\"hello how are you\"\n",
    "print(sample.split())"
   ]
  },
  {
   "cell_type": "code",
   "execution_count": 107,
   "id": "c6a6f68a",
   "metadata": {},
   "outputs": [
    {
     "name": "stdout",
     "output_type": "stream",
     "text": [
      "Hello\n",
      "How\n",
      "Are\n",
      "You\n",
      "['hello how are you', 'Hello', 'How', 'Are', 'You', 'Hello', 'How', 'Are', 'You']\n"
     ]
    }
   ],
   "source": [
    "for i in sample.split():\n",
    "    print(i.capitalize())\n",
    "    L.append(i.capitalize())\n",
    "print(L)    \n"
   ]
  },
  {
   "cell_type": "code",
   "execution_count": 108,
   "id": "5e1b6e03",
   "metadata": {},
   "outputs": [
    {
     "name": "stdout",
     "output_type": "stream",
     "text": [
      "hello how are you Hello How Are You Hello How Are You\n"
     ]
    }
   ],
   "source": [
    "print(\" \".join(L))"
   ]
  },
  {
   "cell_type": "code",
   "execution_count": null,
   "id": "10b194b9",
   "metadata": {},
   "outputs": [],
   "source": [
    "\n"
   ]
  },
  {
   "cell_type": "code",
   "execution_count": 109,
   "id": "6ea174d7",
   "metadata": {},
   "outputs": [
    {
     "name": "stdout",
     "output_type": "stream",
     "text": [
      "abc\n"
     ]
    }
   ],
   "source": [
    "a=\"abc@gmail.com\"\n",
    "print(a[:a.find(\"@\")])"
   ]
  },
  {
   "cell_type": "code",
   "execution_count": 117,
   "id": "bf6ddf54",
   "metadata": {},
   "outputs": [],
   "source": [
    "L1=[1,1,2,2,3,3,4,4]\n",
    "L2=[1,2,3,1]"
   ]
  },
  {
   "cell_type": "code",
   "execution_count": 118,
   "id": "bd9c691b",
   "metadata": {},
   "outputs": [],
   "source": [
    "L=[]"
   ]
  },
  {
   "cell_type": "code",
   "execution_count": 124,
   "id": "162c9d19",
   "metadata": {},
   "outputs": [
    {
     "name": "stdout",
     "output_type": "stream",
     "text": [
      "[1, 2, 3, 4]\n"
     ]
    }
   ],
   "source": [
    "for i in L1:\n",
    "    if i not in L :\n",
    "        L.append(i)\n",
    "print (L)   "
   ]
  },
  {
   "cell_type": "markdown",
   "id": "b95e71be",
   "metadata": {},
   "source": []
  },
  {
   "cell_type": "code",
   "execution_count": null,
   "id": "7b12ab20",
   "metadata": {},
   "outputs": [],
   "source": []
  }
 ],
 "metadata": {
  "kernelspec": {
   "display_name": "Python 3 (ipykernel)",
   "language": "python",
   "name": "python3"
  },
  "language_info": {
   "codemirror_mode": {
    "name": "ipython",
    "version": 3
   },
   "file_extension": ".py",
   "mimetype": "text/x-python",
   "name": "python",
   "nbconvert_exporter": "python",
   "pygments_lexer": "ipython3",
   "version": "3.9.7"
  }
 },
 "nbformat": 4,
 "nbformat_minor": 5
}
