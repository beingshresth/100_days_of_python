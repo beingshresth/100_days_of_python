{
 "cells": [
  {
   "cell_type": "code",
   "execution_count": 1,
   "id": "2eeca2f5",
   "metadata": {},
   "outputs": [],
   "source": [
    "#dictionary"
   ]
  },
  {
   "cell_type": "code",
   "execution_count": 2,
   "id": "f2f2c9c5",
   "metadata": {},
   "outputs": [
    {
     "data": {
      "text/plain": [
       "{'name': 'shresth', 'gender': 'male'}"
      ]
     },
     "execution_count": 2,
     "metadata": {},
     "output_type": "execute_result"
    }
   ],
   "source": [
    "{\"name\":\"shresth\",\"gender\":\"male\"}"
   ]
  },
  {
   "cell_type": "code",
   "execution_count": 3,
   "id": "8045fe54",
   "metadata": {},
   "outputs": [],
   "source": [
    "#rules\n",
    "#1. DICT HAS NO INDEXING\n",
    "#2. DICT IS A MUTABLE TYPES\n",
    "#3. KEYS--> IMMUTABLE & VALUES --> THEY CAN BE MUTABLE\n",
    "#4. KEYS SHOULD BE UNIQUE "
   ]
  },
  {
   "cell_type": "code",
   "execution_count": 4,
   "id": "65f21c5a",
   "metadata": {},
   "outputs": [],
   "source": [
    "#MUTABLE --> LISTS / SETS / DICTIONARY\n",
    "#IMMUTABLE --> STRINGS / TUPLES / INT / FLOAT / COMPLEX"
   ]
  },
  {
   "cell_type": "code",
   "execution_count": 5,
   "id": "aecc2bf7",
   "metadata": {},
   "outputs": [],
   "source": [
    "#CREATE DICT"
   ]
  },
  {
   "cell_type": "code",
   "execution_count": 6,
   "id": "e7684b16",
   "metadata": {},
   "outputs": [
    {
     "data": {
      "text/plain": [
       "{}"
      ]
     },
     "execution_count": 6,
     "metadata": {},
     "output_type": "execute_result"
    }
   ],
   "source": [
    "d={}\n",
    "d"
   ]
  },
  {
   "cell_type": "code",
   "execution_count": 7,
   "id": "559ce80a",
   "metadata": {},
   "outputs": [
    {
     "data": {
      "text/plain": [
       "{'name': 'shresth', 'gender': 'male'}"
      ]
     },
     "execution_count": 7,
     "metadata": {},
     "output_type": "execute_result"
    }
   ],
   "source": [
    "d={\"name\":\"shresth\",\"gender\":\"male\"}\n",
    "d"
   ]
  },
  {
   "cell_type": "code",
   "execution_count": 10,
   "id": "0f16c1f3",
   "metadata": {},
   "outputs": [
    {
     "ename": "TypeError",
     "evalue": "unhashable type: 'list'",
     "output_type": "error",
     "traceback": [
      "\u001b[0;31m---------------------------------------------------------------------------\u001b[0m",
      "\u001b[0;31mTypeError\u001b[0m                                 Traceback (most recent call last)",
      "\u001b[0;32m/var/folders/mx/xq__x0zd52x1vljklz22nsb40000gn/T/ipykernel_21493/1312853366.py\u001b[0m in \u001b[0;36m<module>\u001b[0;34m\u001b[0m\n\u001b[0;32m----> 1\u001b[0;31m \u001b[0md1\u001b[0m\u001b[0;34m=\u001b[0m\u001b[0;34m{\u001b[0m\u001b[0;34m[\u001b[0m\u001b[0;36m1\u001b[0m\u001b[0;34m,\u001b[0m\u001b[0;36m2\u001b[0m\u001b[0;34m,\u001b[0m\u001b[0;36m3\u001b[0m\u001b[0;34m]\u001b[0m\u001b[0;34m:\u001b[0m\u001b[0;34m\"shresth\"\u001b[0m\u001b[0;34m}\u001b[0m\u001b[0;34m\u001b[0m\u001b[0;34m\u001b[0m\u001b[0m\n\u001b[0m\u001b[1;32m      2\u001b[0m \u001b[0md1\u001b[0m\u001b[0;34m\u001b[0m\u001b[0;34m\u001b[0m\u001b[0m\n",
      "\u001b[0;31mTypeError\u001b[0m: unhashable type: 'list'"
     ]
    }
   ],
   "source": [
    "d1={[1,2,3]:\"shresth\"}\n",
    "d1"
   ]
  },
  {
   "cell_type": "code",
   "execution_count": 11,
   "id": "50efa7b1",
   "metadata": {},
   "outputs": [
    {
     "data": {
      "text/plain": [
       "{(1, 2, 3): 'shresth'}"
      ]
     },
     "execution_count": 11,
     "metadata": {},
     "output_type": "execute_result"
    }
   ],
   "source": [
    "d1={(1,2,3):\"shresth\"}\n",
    "d1"
   ]
  },
  {
   "cell_type": "code",
   "execution_count": 12,
   "id": "3524c16b",
   "metadata": {},
   "outputs": [
    {
     "data": {
      "text/plain": [
       "{'name': 'kashish'}"
      ]
     },
     "execution_count": 12,
     "metadata": {},
     "output_type": "execute_result"
    }
   ],
   "source": [
    "d3={\"name\":\"shresth\",\"name\":\"kashish\"}\n",
    "d3"
   ]
  },
  {
   "cell_type": "code",
   "execution_count": 14,
   "id": "16d7f936",
   "metadata": {},
   "outputs": [],
   "source": [
    "d3={\"name\":\"shresth\",\"college\":\"BIT\",\"marks\":{\"M1\":20,\"DS\":15,\"eng\":20}}"
   ]
  },
  {
   "cell_type": "code",
   "execution_count": 15,
   "id": "4a6454ff",
   "metadata": {},
   "outputs": [
    {
     "data": {
      "text/plain": [
       "{'name': 'shresth', 'college': 'BIT', 'marks': {'M1': 20, 'DS': 15, 'eng': 20}}"
      ]
     },
     "execution_count": 15,
     "metadata": {},
     "output_type": "execute_result"
    }
   ],
   "source": [
    "d3\n"
   ]
  },
  {
   "cell_type": "code",
   "execution_count": null,
   "id": "7160d39c",
   "metadata": {},
   "outputs": [],
   "source": []
  },
  {
   "cell_type": "code",
   "execution_count": 16,
   "id": "b8394e82",
   "metadata": {},
   "outputs": [],
   "source": [
    "#accessing item from dict"
   ]
  },
  {
   "cell_type": "code",
   "execution_count": 17,
   "id": "c12a192e",
   "metadata": {},
   "outputs": [
    {
     "data": {
      "text/plain": [
       "'shresth'"
      ]
     },
     "execution_count": 17,
     "metadata": {},
     "output_type": "execute_result"
    }
   ],
   "source": [
    "d['name']"
   ]
  },
  {
   "cell_type": "code",
   "execution_count": 18,
   "id": "f7556876",
   "metadata": {},
   "outputs": [
    {
     "data": {
      "text/plain": [
       "'male'"
      ]
     },
     "execution_count": 18,
     "metadata": {},
     "output_type": "execute_result"
    }
   ],
   "source": [
    "d['gender']"
   ]
  },
  {
   "cell_type": "code",
   "execution_count": 19,
   "id": "131b5a71",
   "metadata": {},
   "outputs": [],
   "source": []
  },
  {
   "cell_type": "code",
   "execution_count": 20,
   "id": "f50e2834",
   "metadata": {},
   "outputs": [
    {
     "data": {
      "text/plain": [
       "{'M1': 20, 'DS': 15, 'eng': 20}"
      ]
     },
     "execution_count": 20,
     "metadata": {},
     "output_type": "execute_result"
    }
   ],
   "source": [
    "d3['marks']"
   ]
  },
  {
   "cell_type": "code",
   "execution_count": 21,
   "id": "dd8218ee",
   "metadata": {},
   "outputs": [
    {
     "data": {
      "text/plain": [
       "15"
      ]
     },
     "execution_count": 21,
     "metadata": {},
     "output_type": "execute_result"
    }
   ],
   "source": [
    "d3['marks']['DS']"
   ]
  },
  {
   "cell_type": "code",
   "execution_count": 22,
   "id": "0a8ffbdc",
   "metadata": {},
   "outputs": [],
   "source": [
    "#Edit"
   ]
  },
  {
   "cell_type": "code",
   "execution_count": 23,
   "id": "af40bc44",
   "metadata": {},
   "outputs": [
    {
     "data": {
      "text/plain": [
       "{'name': 'kashish', 'gender': 'male'}"
      ]
     },
     "execution_count": 23,
     "metadata": {},
     "output_type": "execute_result"
    }
   ],
   "source": [
    "d['name']='kashish'\n",
    "d"
   ]
  },
  {
   "cell_type": "code",
   "execution_count": 25,
   "id": "3b3d874e",
   "metadata": {},
   "outputs": [
    {
     "data": {
      "text/plain": [
       "{'name': 'shresth', 'college': 'BIT', 'marks': {'M1': 20, 'DS': 19, 'eng': 20}}"
      ]
     },
     "execution_count": 25,
     "metadata": {},
     "output_type": "execute_result"
    }
   ],
   "source": [
    "d3['marks']['DS']=19\n",
    "d3"
   ]
  },
  {
   "cell_type": "code",
   "execution_count": 26,
   "id": "0e213066",
   "metadata": {},
   "outputs": [
    {
     "data": {
      "text/plain": [
       "'kashish'"
      ]
     },
     "execution_count": 26,
     "metadata": {},
     "output_type": "execute_result"
    }
   ],
   "source": [
    "d.get('name')"
   ]
  },
  {
   "cell_type": "code",
   "execution_count": null,
   "id": "45a1efae",
   "metadata": {},
   "outputs": [],
   "source": []
  },
  {
   "cell_type": "code",
   "execution_count": null,
   "id": "05696897",
   "metadata": {},
   "outputs": [],
   "source": [
    "#add new key-value pairs"
   ]
  },
  {
   "cell_type": "code",
   "execution_count": 27,
   "id": "3667c49e",
   "metadata": {},
   "outputs": [
    {
     "data": {
      "text/plain": [
       "{'name': 'kashish', 'gender': 'male', 'age': 21}"
      ]
     },
     "execution_count": 27,
     "metadata": {},
     "output_type": "execute_result"
    }
   ],
   "source": [
    "d['age']=21\n",
    "d"
   ]
  },
  {
   "cell_type": "code",
   "execution_count": 29,
   "id": "0b8012d6",
   "metadata": {},
   "outputs": [
    {
     "data": {
      "text/plain": [
       "{'name': 'shresth',\n",
       " 'college': 'BIT',\n",
       " 'marks': {'M1': 20, 'DS': 19, 'eng': 20, 'm2': 20}}"
      ]
     },
     "execution_count": 29,
     "metadata": {},
     "output_type": "execute_result"
    }
   ],
   "source": [
    "d3['marks']['m2']=20\n",
    "d3"
   ]
  },
  {
   "cell_type": "code",
   "execution_count": 30,
   "id": "f738e4c2",
   "metadata": {},
   "outputs": [],
   "source": [
    "#delete "
   ]
  },
  {
   "cell_type": "code",
   "execution_count": 33,
   "id": "81629a34",
   "metadata": {},
   "outputs": [],
   "source": [
    "d5={\"name\":\"shresth\",\"college\":\"BIT\",\"marks\":{\"M1\":20,\"DS\":15,\"eng\":20}}\n",
    "del d5"
   ]
  },
  {
   "cell_type": "code",
   "execution_count": 34,
   "id": "95281a62",
   "metadata": {},
   "outputs": [
    {
     "name": "stdout",
     "output_type": "stream",
     "text": [
      "name\n",
      "college\n",
      "marks\n"
     ]
    }
   ],
   "source": [
    "for i in d3:\n",
    "    print (i)"
   ]
  },
  {
   "cell_type": "code",
   "execution_count": 35,
   "id": "f555a61f",
   "metadata": {},
   "outputs": [
    {
     "name": "stdout",
     "output_type": "stream",
     "text": [
      "name shresth\n",
      "college BIT\n",
      "marks {'M1': 20, 'DS': 19, 'eng': 20, 'm2': 20}\n"
     ]
    }
   ],
   "source": [
    "for i in d3:\n",
    "    print (i,d3[i])"
   ]
  },
  {
   "cell_type": "code",
   "execution_count": 38,
   "id": "0d57cbe8",
   "metadata": {},
   "outputs": [
    {
     "data": {
      "text/plain": [
       "False"
      ]
     },
     "execution_count": 38,
     "metadata": {},
     "output_type": "execute_result"
    }
   ],
   "source": [
    "'shresth' in d3"
   ]
  },
  {
   "cell_type": "code",
   "execution_count": 39,
   "id": "a28f959e",
   "metadata": {},
   "outputs": [
    {
     "data": {
      "text/plain": [
       "True"
      ]
     },
     "execution_count": 39,
     "metadata": {},
     "output_type": "execute_result"
    }
   ],
   "source": [
    "'name' in d3"
   ]
  },
  {
   "cell_type": "code",
   "execution_count": null,
   "id": "fb10f3a2",
   "metadata": {},
   "outputs": [],
   "source": []
  }
 ],
 "metadata": {
  "kernelspec": {
   "display_name": "Python 3 (ipykernel)",
   "language": "python",
   "name": "python3"
  },
  "language_info": {
   "codemirror_mode": {
    "name": "ipython",
    "version": 3
   },
   "file_extension": ".py",
   "mimetype": "text/x-python",
   "name": "python",
   "nbconvert_exporter": "python",
   "pygments_lexer": "ipython3",
   "version": "3.9.7"
  }
 },
 "nbformat": 4,
 "nbformat_minor": 5
}
