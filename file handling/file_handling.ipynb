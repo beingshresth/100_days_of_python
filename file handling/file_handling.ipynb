{
 "cells": [
  {
   "cell_type": "code",
   "execution_count": 1,
   "id": "d0ecc9a7",
   "metadata": {},
   "outputs": [],
   "source": [
    "import os"
   ]
  },
  {
   "cell_type": "code",
   "execution_count": 4,
   "id": "fb9de5e5",
   "metadata": {},
   "outputs": [],
   "source": [
    "file=open(\"demofile.txt\",'w')"
   ]
  },
  {
   "cell_type": "code",
   "execution_count": 6,
   "id": "fcda888a",
   "metadata": {},
   "outputs": [],
   "source": [
    "file.close()"
   ]
  },
  {
   "cell_type": "code",
   "execution_count": 7,
   "id": "d27f2d64",
   "metadata": {},
   "outputs": [
    {
     "name": "stdout",
     "output_type": "stream",
     "text": [
      "Lorem45Lorem ipsum dolor sit amet, consectetuer adipiscing elit. Aenean commodo ligula eget dolor. Aenean massa. Cum sociis natoque penatibus et magnis dis parturient montes, nascetur ridiculus mus. Donec quam felis, ultricies nec, pellentesque eu, pretium quis, sem. Nulla consequat massa quis enim. Donec pede justo, fringilla vel, aliquet nec, vulputate eget, arcu. In enim justo, rhoncus ut, imperdiet a, venenatis vitae, justo. Nullam dictum felis eu pede mollis pretium. Integer tincidunt. Cras dapibus. Vivamus elementum semper nisi. Aenean vulputate eleifend tellus. Aenean leo ligula, porttitor eu, consequat vitae, eleifend ac, enim. Aliquam lorem ante, dapibus in, viverra quis, feugiat a, tellus. Phasellus viverra nulla ut metus varius laoreet. Quisque rutrum. Aenean imperdiet. Etiam ultricies nisi vel augue. Curabitur ullamcorper ultricies nisi. Nam eget dui. Etiam rhoncus. Maecenas tempus, tellus eget condimentum rhoncus, sem quam semper libero, sit amet adipiscing sem neque sed ipsum. Nam quam nunc, blandit vel, luctus pulvinar, hendrerit id, lorem. Maecenas nec odio et ante tincidunt tempus. Donec vitae sapien ut libero venenatis faucibus. Nullam quis ante. Etiam sit amet orci eget eros faucibus tincidunt. Duis leo. Sed fringilla mauris sit amet nibh. Donec sodales sagittis magna. Sed consequat, leo eget bibendum sodales, augue velit cursus nunc,\n"
     ]
    },
    {
     "data": {
      "text/plain": [
       "<function TextIOWrapper.close()>"
      ]
     },
     "execution_count": 7,
     "metadata": {},
     "output_type": "execute_result"
    }
   ],
   "source": [
    "file=open(\"demofile.txt\",'r')\n",
    "print(file.read())\n",
    "file.close"
   ]
  },
  {
   "cell_type": "code",
   "execution_count": 8,
   "id": "c46902f1",
   "metadata": {},
   "outputs": [
    {
     "name": "stdout",
     "output_type": "stream",
     "text": [
      "Lorem45Lor\n"
     ]
    },
    {
     "data": {
      "text/plain": [
       "<function TextIOWrapper.close()>"
      ]
     },
     "execution_count": 8,
     "metadata": {},
     "output_type": "execute_result"
    }
   ],
   "source": [
    "file=open(\"demofile.txt\",'r')\n",
    "print(file.read(10))\n",
    "file.close"
   ]
  },
  {
   "cell_type": "code",
   "execution_count": 16,
   "id": "1813fca6",
   "metadata": {},
   "outputs": [
    {
     "name": "stdout",
     "output_type": "stream",
     "text": [
      "['Lorem45Lorem ipsum dolor sit amet, consectetuer adipiscing elit. \\n', 'Aenean commodo ligula eget dolor. Aenean massa. \\n', 'Cum sociis natoque penatibus et magnis dis parturient montes, nascetur ridiculus mus.\\n', ' Donec quam felis, ultricies nec, pellentesque eu, pretium quis, sem. Nulla consequat massa quis enim. Donec pede justo, fringilla vel, aliquet nec, vulputate eget, arcu. \\n', 'In enim justo, rhoncus ut, imperdiet a, venenatis vitae, justo.\\n', ' Nullam dictum felis eu pede mollis pretium. Integer tincidunt. \\n', 'Cras dapibus. Vivamus elementum semper nisi. \\n', 'Aenean vulputate eleifend tellus.\\n', ' Aenean leo ligula, porttitor eu, consequat vitae, eleifend ac, enim. Aliquam lorem ante, dapibus in, viverra quis, feugiat a, tellus. Phasellus viverra nulla ut metus varius laoreet. Quisque rutrum. Aenean imperdiet. Etiam ultricies nisi vel augue. Curabitur ullamcorper ultricies nisi. Nam eget dui. Etiam rhoncus. Maecenas tempus, tellus eget condimentum rhoncus, sem quam semper libero, sit amet adipiscing sem neque sed ipsum. Nam quam nunc, blandit vel, luctus pulvinar, hendrerit id, lorem. Maecenas nec odio et ante tincidunt tempus. Donec vitae sapien ut libero venenatis faucibus. Nullam quis ante. Etiam sit amet orci eget eros faucibus tincidunt. Duis leo. Sed fringilla mauris sit amet nibh. Donec sodales sagittis magna. Sed consequat, leo eget bibendum sodales, augue velit cursus nunc,']\n"
     ]
    }
   ],
   "source": [
    "file=open(\"demofile.txt\",'r')\n",
    "print(file.readlines())\n",
    "file.close()"
   ]
  },
  {
   "cell_type": "code",
   "execution_count": 19,
   "id": "d5b2ea88",
   "metadata": {},
   "outputs": [
    {
     "name": "stdout",
     "output_type": "stream",
     "text": [
      "Aenean commodo ligula eget dolor. Aenean massa. \n",
      "\n",
      " Donec quam felis, ultricies nec, pellentesque eu, pretium quis, sem. Nulla consequat massa quis enim. Donec pede justo, fringilla vel, aliquet nec, vulputate eget, arcu. \n",
      "\n",
      " Nullam dictum felis eu pede mollis pretium. Integer tincidunt. \n",
      "\n",
      "Aenean vulputate eleifend tellus.\n",
      "\n",
      "\n"
     ]
    }
   ],
   "source": [
    "file=open(\"demofile.txt\",'r')\n",
    "for line in file:\n",
    "    print(file.readline())\n",
    "file.close()"
   ]
  },
  {
   "cell_type": "code",
   "execution_count": 20,
   "id": "9dbb8725",
   "metadata": {},
   "outputs": [],
   "source": [
    "#append \n",
    "#will append to the end of the file\n",
    "f=open(\"demofile.txt\",'a')\n",
    "f.write(\"i love you\")\n",
    "file.close()"
   ]
  },
  {
   "cell_type": "code",
   "execution_count": 21,
   "id": "caad45e2",
   "metadata": {},
   "outputs": [
    {
     "name": "stdout",
     "output_type": "stream",
     "text": [
      "Lorem45Lorem ipsum dolor sit amet, consectetuer adipiscing elit. \n",
      "Aenean commodo ligula eget dolor. Aenean massa. \n",
      "Cum sociis natoque penatibus et magnis dis parturient montes, nascetur ridiculus mus.\n",
      " Donec quam felis, ultricies nec, pellentesque eu, pretium quis, sem. Nulla consequat massa quis enim. Donec pede justo, fringilla vel, aliquet nec, vulputate eget, arcu. \n",
      "In enim justo, rhoncus ut, imperdiet a, venenatis vitae, justo.\n",
      " Nullam dictum felis eu pede mollis pretium. Integer tincidunt. \n",
      "Cras dapibus. Vivamus elementum semper nisi. \n",
      "Aenean vulputate eleifend tellus.\n",
      " Aenean leo ligula, porttitor eu, consequat vitae, eleifend ac, enim. Aliquam lorem ante, dapibus in, viverra quis, feugiat a, tellus. Phasellus viverra nulla ut metus varius laoreet. Quisque rutrum. Aenean imperdiet. Etiam ultricies nisi vel augue. Curabitur ullamcorper ultricies nisi. Nam eget dui. Etiam rhoncus. Maecenas tempus, tellus eget condimentum rhoncus, sem quam semper libero, sit amet adipiscing sem neque sed ipsum. Nam quam nunc, blandit vel, luctus pulvinar, hendrerit id, lorem. Maecenas nec odio et ante tincidunt tempus. Donec vitae sapien ut libero venenatis faucibus. Nullam quis ante. Etiam sit amet orci eget eros faucibus tincidunt. Duis leo. Sed fringilla mauris sit amet nibh. Donec sodales sagittis magna. Sed consequat, leo eget bibendum sodales, augue velit cursus nunc,i love you\n"
     ]
    },
    {
     "data": {
      "text/plain": [
       "<function TextIOWrapper.close()>"
      ]
     },
     "execution_count": 21,
     "metadata": {},
     "output_type": "execute_result"
    }
   ],
   "source": [
    "f=open(\"demofile.txt\",'r')\n",
    "print(f.read())\n",
    "file.close"
   ]
  },
  {
   "cell_type": "code",
   "execution_count": 22,
   "id": "28af8b96",
   "metadata": {},
   "outputs": [],
   "source": [
    "#write\n",
    "#will overwrite any existing content\n",
    "f=open(\"demofile.txt\",'w')\n",
    "f.write(\"i love you\")\n",
    "file.close()"
   ]
  },
  {
   "cell_type": "code",
   "execution_count": 23,
   "id": "64702beb",
   "metadata": {},
   "outputs": [
    {
     "name": "stdout",
     "output_type": "stream",
     "text": [
      "i love you\n"
     ]
    },
    {
     "data": {
      "text/plain": [
       "<function TextIOWrapper.close()>"
      ]
     },
     "execution_count": 23,
     "metadata": {},
     "output_type": "execute_result"
    }
   ],
   "source": [
    "f=open(\"demofile.txt\",'r')\n",
    "print(f.read())\n",
    "file.close"
   ]
  },
  {
   "cell_type": "code",
   "execution_count": 24,
   "id": "0b520ca8",
   "metadata": {},
   "outputs": [],
   "source": [
    "f=open(\"testfile.txt\",'x')"
   ]
  },
  {
   "cell_type": "code",
   "execution_count": 25,
   "id": "aedf4542",
   "metadata": {},
   "outputs": [],
   "source": [
    "f=open(\"testfile.txt\",'w')"
   ]
  },
  {
   "cell_type": "code",
   "execution_count": 26,
   "id": "d972926d",
   "metadata": {},
   "outputs": [
    {
     "data": {
      "text/plain": [
       "15"
      ]
     },
     "execution_count": 26,
     "metadata": {},
     "output_type": "execute_result"
    }
   ],
   "source": [
    "f.write(\"i love you 3000\")"
   ]
  },
  {
   "cell_type": "code",
   "execution_count": 27,
   "id": "69338298",
   "metadata": {},
   "outputs": [
    {
     "name": "stdout",
     "output_type": "stream",
     "text": [
      "i love you 3000\n"
     ]
    },
    {
     "data": {
      "text/plain": [
       "<function TextIOWrapper.close()>"
      ]
     },
     "execution_count": 27,
     "metadata": {},
     "output_type": "execute_result"
    }
   ],
   "source": [
    "f=open(\"testfile.txt\",'r')\n",
    "print(f.read())\n",
    "file.close"
   ]
  },
  {
   "cell_type": "code",
   "execution_count": 28,
   "id": "4c1e6cda",
   "metadata": {},
   "outputs": [],
   "source": [
    "os.remove(\"demofile.txt\")"
   ]
  },
  {
   "cell_type": "code",
   "execution_count": null,
   "id": "e31b28b2",
   "metadata": {},
   "outputs": [],
   "source": [
    "#os.rmdir(\"my folder\")\n",
    "#to delete folder"
   ]
  }
 ],
 "metadata": {
  "kernelspec": {
   "display_name": "Python 3 (ipykernel)",
   "language": "python",
   "name": "python3"
  },
  "language_info": {
   "codemirror_mode": {
    "name": "ipython",
    "version": 3
   },
   "file_extension": ".py",
   "mimetype": "text/x-python",
   "name": "python",
   "nbconvert_exporter": "python",
   "pygments_lexer": "ipython3",
   "version": "3.9.7"
  }
 },
 "nbformat": 4,
 "nbformat_minor": 5
}
