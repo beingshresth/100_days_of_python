{
 "cells": [
  {
   "cell_type": "markdown",
   "id": "428252f0",
   "metadata": {},
   "source": [
    "## indentation"
   ]
  },
  {
   "cell_type": "code",
   "execution_count": null,
   "id": "638731f0",
   "metadata": {},
   "outputs": [],
   "source": [
    "    if(name==xyz):\n",
    "             line 1\n",
    "             line 2\n",
    "\n",
    "    else:\n",
    "        line 1\n",
    "        line 2\n",
    "        line 3\n",
    "\n",
    "#tab press krne se indentation thik ho jata ha"
   ]
  }
 ],
 "metadata": {
  "kernelspec": {
   "display_name": "Python 3 (ipykernel)",
   "language": "python",
   "name": "python3"
  },
  "language_info": {
   "codemirror_mode": {
    "name": "ipython",
    "version": 3
   },
   "file_extension": ".py",
   "mimetype": "text/x-python",
   "name": "python",
   "nbconvert_exporter": "python",
   "pygments_lexer": "ipython3",
   "version": "3.9.7"
  }
 },
 "nbformat": 4,
 "nbformat_minor": 5
}
