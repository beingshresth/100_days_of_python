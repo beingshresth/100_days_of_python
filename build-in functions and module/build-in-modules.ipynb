{
 "cells": [
  {
   "cell_type": "markdown",
   "id": "ccf4fba8",
   "metadata": {},
   "source": [
    "## What are modules ?\n"
   ]
  },
  {
   "cell_type": "raw",
   "id": "5a87dc84",
   "metadata": {},
   "source": [
    "Consider a module to be the same as a code library.\n",
    "A file containing a set of function you want to include in your application.\n",
    "\n",
    "Example of pyhton modules:\n",
    "- Math\n",
    "- random\n",
    "- os\n",
    "- time\n"
   ]
  },
  {
   "cell_type": "code",
   "execution_count": 1,
   "id": "4bfc1e91",
   "metadata": {},
   "outputs": [
    {
     "name": "stdout",
     "output_type": "stream",
     "text": [
      "\n",
      "Please wait a moment while I gather a list of all available modules...\n",
      "\n"
     ]
    },
    {
     "name": "stderr",
     "output_type": "stream",
     "text": [
      "/Users/shresthmurarka/opt/anaconda3/lib/python3.9/site-packages/IPython/kernel/__init__.py:12: ShimWarning: The `IPython.kernel` package has been deprecated since IPython 4.0.You should import from ipykernel or jupyter_client instead.\n",
      "  warn(\"The `IPython.kernel` package has been deprecated since IPython 4.0.\"\n",
      "WARNING: AstropyDeprecationWarning: The private astropy._erfa module has been made into its own package, pyerfa, which is a dependency of astropy and can be imported directly using \"import erfa\" [astropy._erfa]\n",
      "/Users/shresthmurarka/opt/anaconda3/lib/python3.9/pkgutil.py:93: MatplotlibDeprecationWarning: \n",
      "The matplotlib.compat module was deprecated in Matplotlib 3.3 and will be removed two minor releases later.\n",
      "  __import__(info.name)\n",
      "/Users/shresthmurarka/opt/anaconda3/lib/python3.9/site-packages/nltk/twitter/__init__.py:20: UserWarning: The twython library has not been installed. Some functionality from the twitter package will not be available.\n",
      "  warnings.warn(\n",
      "QSS file sucessfuly loaded.\n",
      "Found OS patches to be applied.\n",
      "Found application patches to be applied.\n",
      "No QCoreApplication instance found. Application patches not applied. You have to call load_stylesheet function after instantiation of QApplication to take effect. \n"
     ]
    },
    {
     "name": "stdout",
     "output_type": "stream",
     "text": [
      "Cython              bs4                 kiwisolver          scipy\n",
      "IPython             builtins            lazy_object_proxy   scripts\n",
      "OpenSSL             bz2                 lib2to3             seaborn\n",
      "PIL                 cProfile            libarchive          secrets\n",
      "PyQt5               cached_property     libfuturize         select\n",
      "TBB                 cachetools          libpasteurize       selectors\n",
      "__future__          calendar            lief                semver\n",
      "_abc                certifi             linecache           send2trash\n",
      "_aix_support        cffi                llvmlite            setuptools\n",
      "_ast                cgi                 locale              shelve\n",
      "_asyncio            cgitb               locket              shlex\n",
      "_bisect             chardet             logging             shutil\n",
      "_black_version      charset_normalizer  lxml                signal\n",
      "_blake2             chunk               lzma                simplegeneric\n",
      "_bootlocale         click               mactypes            singledispatch\n",
      "_bootsubprocess     cloudpickle         mailbox             sip\n",
      "_bz2                clyent              mailcap             sipconfig\n",
      "_cffi_backend       cmath               markupsafe          sipdistutils\n",
      "_codecs             cmd                 marshal             site\n",
      "_codecs_cn          code                math                six\n",
      "_codecs_hk          codecs              matplotlib          skimage\n",
      "_codecs_iso2022     codeop              matplotlib_inline   sklearn\n",
      "_codecs_jp          collections         mccabe              sklearnex\n",
      "_codecs_kr          colorama            mimetypes           slugify\n",
      "_codecs_tw          colorsys            mistune             smmap\n",
      "_collections        compileall          mkl                 smtpd\n",
      "_collections_abc    concurrent          mkl_fft             smtplib\n",
      "_compat_pickle      conda               mkl_random          sndhdr\n",
      "_compression        conda_build         mmap                sniffio\n",
      "_contextvars        conda_content_trust mock                snowballstemmer\n",
      "_crypt              conda_env           modulefinder        socket\n",
      "_csv                conda_pack          more_itertools      socketserver\n",
      "_ctypes             conda_package_handling mpi_transceiver     socks\n",
      "_ctypes_test        conda_token         mpmath              sockshandler\n",
      "_curses             conda_verify        msgpack             sortedcollections\n",
      "_curses_panel       configparser        multipledispatch    sortedcontainers\n",
      "_daal4py            contextlib          multiprocessing     soupsieve\n",
      "_datetime           contextlib2         munkres             sphinx\n",
      "_dbm                contextvars         mypy_extensions     sphinxcontrib\n",
      "_decimal            cookiecutter        navigator_updater   spyder\n",
      "_distutils_hack     copy                nbclassic           spyder_kernels\n",
      "_elementtree        copyreg             nbclient            sqlalchemy\n",
      "_functools          crypt               nbconvert           sqlite3\n",
      "_hashlib            cryptography        nbformat            sre_compile\n",
      "_heapq              csv                 nest_asyncio        sre_constants\n",
      "_imp                ctypes              netrc               sre_parse\n",
      "_io                 curl                networkx            ssl\n",
      "_json               curses              nis                 stat\n",
      "_locale             cycler              nltk                statistics\n",
      "_lsprof             cython              nntplib             statsmodels\n",
      "_lzma               cythonmagic         nose                storemagic\n",
      "_markupbase         cytoolz             notebook            streamlit\n",
      "_md5                daal4py             ntpath              string\n",
      "_multibytecodec     dask                nturl2path          stringprep\n",
      "_multiprocessing    dataclasses         numba               struct\n",
      "_onedal4py_host     datetime            numbers             subprocess\n",
      "_opcode             dateutil            numexpr             sunau\n",
      "_operator           dbm                 numpy               symbol\n",
      "_osx_support        debugpy             numpydoc            sympy\n",
      "_peg_parser         decimal             olefile             sympyprinting\n",
      "_pickle             decorator           onedal              symtable\n",
      "_posixshmem         defusedxml          opcode              sys\n",
      "_posixsubprocess    diff_match_patch    openpyxl            sysconfig\n",
      "_py_abc             difflib             operator            syslog\n",
      "_pydecimal          dis                 optparse            tables\n",
      "_pyio               distributed         os                  tabnanny\n",
      "_pyrsistent_version distutils           osax                tarfile\n",
      "_pytest             doctest             packaging           tbb\n",
      "_queue              docutils            pandas              tblib\n",
      "_random             email               pandocfilters       telnetlib\n",
      "_scproxy            encodings           parser              tempfile\n",
      "_sha1               ensurepip           parso               terminado\n",
      "_sha256             entrypoints         partd               termios\n",
      "_sha3               enum                past                test\n",
      "_sha512             erfa                path                test_data\n",
      "_signal             errno               pathlib             test_pycosat\n",
      "_sitebuiltins       et_xmlfile          pathlib2            testpath\n",
      "_socket             fastcache           pathspec            tests\n",
      "_sqlite3            faulthandler        patsy               text_unidecode\n",
      "_sre                fcntl               pdb                 textdistance\n",
      "_ssl                filecmp             pep8                textwrap\n",
      "_stat               fileinput           pexpect             this\n",
      "_statistics         filelock            pickle              threading\n",
      "_string             flake8              pickleshare         threadpoolctl\n",
      "_strptime           flask               pickletools         three_merge\n",
      "_struct             fnmatch             pip                 tifffile\n",
      "_symtable           fontTools           pipes               time\n",
      "_sysconfigdata__darwin_darwin formatter           pkg_resources       timeit\n",
      "_sysconfigdata_x86_64_apple_darwin13_4_0 fractions           pkginfo             tinycss\n",
      "_testbuffer         fsspec              pkgutil             tkinter\n",
      "_testcapi           ftplib              platform            tlz\n",
      "_testimportmultiple functools           plistlib            token\n",
      "_testinternalcapi   future              pluggy              tokenize\n",
      "_testmultiphase     gc                  ply                 toml\n",
      "_thread             genericpath         poplib              toolz\n",
      "_threading_local    getopt              posix               tornado\n",
      "_tkinter            getpass             posixpath           tqdm\n",
      "_tracemalloc        gettext             poyo                trace\n",
      "_uuid               gevent              pprint              traceback\n",
      "_warnings           git                 profile             tracemalloc\n",
      "_watchdog_fsevents  gitdb               prometheus_client   traitlets\n",
      "_weakref            glob                prompt_toolkit      tty\n",
      "_weakrefset         glob2               pstats              turtle\n",
      "_xxsubinterpreters  gmpy2               psutil              turtledemo\n",
      "_xxtestfuzz         graphlib            pty                 typed_ast\n",
      "_yaml               greenlet            ptyprocess          types\n",
      "_zoneinfo           grp                 pvectorc            typing\n",
      "abc                 gzip                pwd                 typing_extensions\n",
      "aem                 h5py                py                  tzdata\n",
      "aifc                hashlib             py_compile          tzlocal\n",
      "alabaster           heapdict            pyarrow             ujson\n",
      "altair              heapq               pyclbr              unicodecsv\n",
      "anaconda_navigator  hmac                pycodestyle         unicodedata\n",
      "anaconda_project    html                pycosat             unidecode\n",
      "antigravity         html5lib            pycparser           unittest\n",
      "anyio               http                pycurl              urllib\n",
      "appdirs             idlelib             pydeck              urllib3\n",
      "applaunchservices   idna                pydoc               uu\n",
      "appnope             imagecodecs         pydoc_data          uuid\n",
      "appscript           imageio             pydocstyle          validators\n",
      "argh                imagesize           pyexpat             venv\n",
      "argon2              imaplib             pyflakes            warnings\n",
      "argparse            imghdr              pygments            watchdog\n",
      "array               imp                 pylab               wave\n",
      "arrow               importlib           pylint              wcwidth\n",
      "asn1crypto          importlib_metadata  pyls_spyder         weakref\n",
      "ast                 inflection          pylsp               webbrowser\n",
      "astroid             iniconfig           pylsp_black         webencodings\n",
      "astropy             inspect             pylsp_jsonrpc       werkzeug\n",
      "async_generator     intervaltree        pympler             wheel\n",
      "asynchat            io                  pyodbc              whichcraft\n",
      "asyncio             ipaddress           pyparsing           widgetsnbextension\n",
      "asyncore            ipykernel           pyrsistent          wrapt\n",
      "atexit              ipykernel_launcher  pytest              wsgiref\n",
      "atomicwrites        ipython_genutils    pytz                wurlitzer\n",
      "attr                ipywidgets          pytz_deprecation_shim xdrlib\n",
      "audioop             isort               pywt                xlrd\n",
      "autopep8            isympy              pyximport           xlsxwriter\n",
      "autoreload          itertools           qdarkstyle          xlwings\n",
      "babel               itsdangerous        qstylizer           xlwt\n",
      "backcall            jdcal               qtawesome           xml\n",
      "backports           jedi                qtconsole           xmlrpc\n",
      "base64              jinja2              qtpy                xmltodict\n",
      "bdb                 jinja2_time         queue               xxlimited\n",
      "binaryornot         joblib              quopri              xxsubtype\n",
      "binascii            json                random              yaml\n",
      "binhex              json5               re                  yapf\n",
      "binstar_client      jsonschema          readline            yapftests\n",
      "bisect              jupyter             regex               zict\n",
      "bitarray            jupyter_client      repo_cli            zipapp\n",
      "bkcharts            jupyter_console     reprlib             zipfile\n",
      "black               jupyter_core        requests            zipimport\n",
      "blackd              jupyter_server      resource            zipp\n",
      "bleach              jupyterlab          rlcompleter         zlib\n",
      "blib2to3            jupyterlab_pygments rmagic              zmq\n",
      "blinker             jupyterlab_server   rope                zoneinfo\n",
      "bokeh               jupyterlab_widgets  rtree               zope\n",
      "boto                jwt                 ruamel_yaml         \n",
      "bottleneck          keyring             runpy               \n",
      "brotli              keyword             sched               \n",
      "\n",
      "Enter any module name to get more help.  Or, type \"modules spam\" to search\n",
      "for modules whose name or summary contain the string \"spam\".\n",
      "\n"
     ]
    },
    {
     "name": "stderr",
     "output_type": "stream",
     "text": [
      "/Users/shresthmurarka/opt/anaconda3/lib/python3.9/pkgutil.py:108: VisibleDeprecationWarning: zmq.eventloop.minitornado is deprecated in pyzmq 14.0 and will be removed.\n",
      "    Install tornado itself to use zmq with the tornado IOLoop.\n",
      "    \n",
      "  yield from walk_packages(path, info.name+'.', onerror)\n"
     ]
    }
   ],
   "source": [
    " help('modules')"
   ]
  },
  {
   "cell_type": "code",
   "execution_count": 2,
   "id": "c39527ba",
   "metadata": {},
   "outputs": [],
   "source": [
    "import math "
   ]
  },
  {
   "cell_type": "code",
   "execution_count": 3,
   "id": "8a543060",
   "metadata": {},
   "outputs": [
    {
     "data": {
      "text/plain": [
       "3.141592653589793"
      ]
     },
     "execution_count": 3,
     "metadata": {},
     "output_type": "execute_result"
    }
   ],
   "source": [
    "math.pi"
   ]
  },
  {
   "cell_type": "code",
   "execution_count": 4,
   "id": "22bb9030",
   "metadata": {},
   "outputs": [
    {
     "data": {
      "text/plain": [
       "2.718281828459045"
      ]
     },
     "execution_count": 4,
     "metadata": {},
     "output_type": "execute_result"
    }
   ],
   "source": [
    "math.e"
   ]
  },
  {
   "cell_type": "code",
   "execution_count": 5,
   "id": "71e2a9e0",
   "metadata": {},
   "outputs": [
    {
     "data": {
      "text/plain": [
       "120"
      ]
     },
     "execution_count": 5,
     "metadata": {},
     "output_type": "execute_result"
    }
   ],
   "source": [
    "math.factorial(5)"
   ]
  },
  {
   "cell_type": "code",
   "execution_count": 10,
   "id": "d65c4f3c",
   "metadata": {},
   "outputs": [
    {
     "data": {
      "text/plain": [
       "7"
      ]
     },
     "execution_count": 10,
     "metadata": {},
     "output_type": "execute_result"
    }
   ],
   "source": [
    "math.ceil(6.3)"
   ]
  },
  {
   "cell_type": "code",
   "execution_count": 12,
   "id": "9d8ff4c7",
   "metadata": {},
   "outputs": [],
   "source": [
    "import random"
   ]
  },
  {
   "cell_type": "code",
   "execution_count": 18,
   "id": "07526ad4",
   "metadata": {},
   "outputs": [
    {
     "data": {
      "text/plain": [
       "[3, 20, 8, 304, 7, 6, 4, 1]"
      ]
     },
     "execution_count": 18,
     "metadata": {},
     "output_type": "execute_result"
    }
   ],
   "source": [
    "a = [1,3,4,6,7,8,20,304]\n",
    "random.shuffle(a)\n",
    "a"
   ]
  },
  {
   "cell_type": "code",
   "execution_count": 19,
   "id": "1ce29f8c",
   "metadata": {},
   "outputs": [],
   "source": [
    "import time\n"
   ]
  },
  {
   "cell_type": "code",
   "execution_count": 22,
   "id": "f80acbab",
   "metadata": {},
   "outputs": [
    {
     "data": {
      "text/plain": [
       "1656054185.011913"
      ]
     },
     "execution_count": 22,
     "metadata": {},
     "output_type": "execute_result"
    }
   ],
   "source": [
    "time.time()"
   ]
  },
  {
   "cell_type": "code",
   "execution_count": 23,
   "id": "bacae032",
   "metadata": {},
   "outputs": [
    {
     "data": {
      "text/plain": [
       "'Fri Jun 24 12:34:14 2022'"
      ]
     },
     "execution_count": 23,
     "metadata": {},
     "output_type": "execute_result"
    }
   ],
   "source": [
    "time.ctime()"
   ]
  },
  {
   "cell_type": "code",
   "execution_count": 25,
   "id": "01a4b0fb",
   "metadata": {},
   "outputs": [
    {
     "name": "stdout",
     "output_type": "stream",
     "text": [
      "heelo\n",
      "world\n"
     ]
    }
   ],
   "source": [
    "print(\"heelo\")\n",
    "time.sleep(1)\n",
    "print(\"world\")"
   ]
  },
  {
   "cell_type": "code",
   "execution_count": 26,
   "id": "7af0b009",
   "metadata": {},
   "outputs": [],
   "source": [
    "import os\n"
   ]
  },
  {
   "cell_type": "code",
   "execution_count": 27,
   "id": "dc9062cc",
   "metadata": {},
   "outputs": [
    {
     "data": {
      "text/plain": [
       "'/Users/shresthmurarka/Desktop/Machine Learning/100 days of python/Untitled Folder'"
      ]
     },
     "execution_count": 27,
     "metadata": {},
     "output_type": "execute_result"
    }
   ],
   "source": [
    "os.getcwd()"
   ]
  },
  {
   "cell_type": "code",
   "execution_count": 28,
   "id": "25f3fb90",
   "metadata": {},
   "outputs": [
    {
     "data": {
      "text/plain": [
       "['build-in-function.ipynb', '.ipynb_checkpoints', 'build-in-modules.ipynb']"
      ]
     },
     "execution_count": 28,
     "metadata": {},
     "output_type": "execute_result"
    }
   ],
   "source": [
    "os.listdir()"
   ]
  },
  {
   "cell_type": "code",
   "execution_count": null,
   "id": "9426b91f",
   "metadata": {},
   "outputs": [],
   "source": []
  }
 ],
 "metadata": {
  "kernelspec": {
   "display_name": "Python 3 (ipykernel)",
   "language": "python",
   "name": "python3"
  },
  "language_info": {
   "codemirror_mode": {
    "name": "ipython",
    "version": 3
   },
   "file_extension": ".py",
   "mimetype": "text/x-python",
   "name": "python",
   "nbconvert_exporter": "python",
   "pygments_lexer": "ipython3",
   "version": "3.9.7"
  }
 },
 "nbformat": 4,
 "nbformat_minor": 5
}
