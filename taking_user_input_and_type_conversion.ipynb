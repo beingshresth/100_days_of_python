{
 "cells": [
  {
   "cell_type": "code",
   "execution_count": 1,
   "id": "19b713dd",
   "metadata": {},
   "outputs": [
    {
     "name": "stdout",
     "output_type": "stream",
     "text": [
      "56\n"
     ]
    },
    {
     "data": {
      "text/plain": [
       "'56'"
      ]
     },
     "execution_count": 1,
     "metadata": {},
     "output_type": "execute_result"
    }
   ],
   "source": [
    "input()\n"
   ]
  },
  {
   "cell_type": "code",
   "execution_count": 8,
   "id": "68ff41d6",
   "metadata": {},
   "outputs": [
    {
     "name": "stdout",
     "output_type": "stream",
     "text": [
      "apna naam bata Shresth Murarka\n"
     ]
    },
    {
     "data": {
      "text/plain": [
       "'Shresth Murarka'"
      ]
     },
     "execution_count": 8,
     "metadata": {},
     "output_type": "execute_result"
    }
   ],
   "source": [
    "input(\"apna naam bata \")"
   ]
  },
  {
   "cell_type": "code",
   "execution_count": 3,
   "id": "c9505fb3",
   "metadata": {},
   "outputs": [
    {
     "name": "stdout",
     "output_type": "stream",
     "text": [
      "enter 1st number = 56\n"
     ]
    }
   ],
   "source": [
    "first_num=input(\"enter 1st number = \")"
   ]
  },
  {
   "cell_type": "code",
   "execution_count": 4,
   "id": "58408cab",
   "metadata": {},
   "outputs": [
    {
     "name": "stdout",
     "output_type": "stream",
     "text": [
      "enter 2nd number = 90\n"
     ]
    }
   ],
   "source": [
    "second_num=input(\"enter 2nd number = \")"
   ]
  },
  {
   "cell_type": "code",
   "execution_count": 6,
   "id": "7b91d7a2",
   "metadata": {},
   "outputs": [
    {
     "name": "stdout",
     "output_type": "stream",
     "text": [
      "5690\n"
     ]
    }
   ],
   "source": [
    "result= first_num + second_num\n",
    "print(result)"
   ]
  },
  {
   "cell_type": "code",
   "execution_count": 7,
   "id": "66a7b467",
   "metadata": {},
   "outputs": [
    {
     "data": {
      "text/plain": [
       "str"
      ]
     },
     "execution_count": 7,
     "metadata": {},
     "output_type": "execute_result"
    }
   ],
   "source": [
    "type(first_num)"
   ]
  },
  {
   "cell_type": "markdown",
   "id": "3f52b752",
   "metadata": {},
   "source": [
    "### Type Conversion"
   ]
  },
  {
   "cell_type": "code",
   "execution_count": 14,
   "id": "83edcc31",
   "metadata": {},
   "outputs": [],
   "source": [
    "#implict"
   ]
  },
  {
   "cell_type": "code",
   "execution_count": 10,
   "id": "6c41625b",
   "metadata": {},
   "outputs": [
    {
     "data": {
      "text/plain": [
       "8.5"
      ]
     },
     "execution_count": 10,
     "metadata": {},
     "output_type": "execute_result"
    }
   ],
   "source": [
    "4+4.5"
   ]
  },
  {
   "cell_type": "code",
   "execution_count": 11,
   "id": "b1f3f8f7",
   "metadata": {},
   "outputs": [
    {
     "data": {
      "text/plain": [
       "(11+11j)"
      ]
     },
     "execution_count": 11,
     "metadata": {},
     "output_type": "execute_result"
    }
   ],
   "source": [
    "5+6+11j"
   ]
  },
  {
   "cell_type": "code",
   "execution_count": 13,
   "id": "dc225b23",
   "metadata": {},
   "outputs": [],
   "source": [
    "#explicit"
   ]
  },
  {
   "cell_type": "code",
   "execution_count": 15,
   "id": "648712b4",
   "metadata": {},
   "outputs": [
    {
     "data": {
      "text/plain": [
       "4"
      ]
     },
     "execution_count": 15,
     "metadata": {},
     "output_type": "execute_result"
    }
   ],
   "source": [
    "#int \n",
    "int(4.5)"
   ]
  },
  {
   "cell_type": "code",
   "execution_count": 16,
   "id": "a231d143",
   "metadata": {},
   "outputs": [
    {
     "data": {
      "text/plain": [
       "4.0"
      ]
     },
     "execution_count": 16,
     "metadata": {},
     "output_type": "execute_result"
    }
   ],
   "source": [
    "float(4)"
   ]
  },
  {
   "cell_type": "code",
   "execution_count": 17,
   "id": "826863e3",
   "metadata": {},
   "outputs": [
    {
     "data": {
      "text/plain": [
       "'5'"
      ]
     },
     "execution_count": 17,
     "metadata": {},
     "output_type": "execute_result"
    }
   ],
   "source": [
    "str(5)"
   ]
  },
  {
   "cell_type": "code",
   "execution_count": 18,
   "id": "2d7d0475",
   "metadata": {},
   "outputs": [
    {
     "data": {
      "text/plain": [
       "True"
      ]
     },
     "execution_count": 18,
     "metadata": {},
     "output_type": "execute_result"
    }
   ],
   "source": [
    "bool(1)"
   ]
  },
  {
   "cell_type": "code",
   "execution_count": 19,
   "id": "89791bdc",
   "metadata": {},
   "outputs": [
    {
     "data": {
      "text/plain": [
       "(9+0j)"
      ]
     },
     "execution_count": 19,
     "metadata": {},
     "output_type": "execute_result"
    }
   ],
   "source": [
    "complex(9)"
   ]
  },
  {
   "cell_type": "code",
   "execution_count": 20,
   "id": "4286a40c",
   "metadata": {},
   "outputs": [
    {
     "data": {
      "text/plain": [
       "['H', 'e', 'l', 'l', 'o']"
      ]
     },
     "execution_count": 20,
     "metadata": {},
     "output_type": "execute_result"
    }
   ],
   "source": [
    "list('Hello')"
   ]
  },
  {
   "cell_type": "code",
   "execution_count": 21,
   "id": "669e6f91",
   "metadata": {},
   "outputs": [],
   "source": [
    "#type conversion is not a permanent solution"
   ]
  },
  {
   "cell_type": "code",
   "execution_count": 22,
   "id": "294d6430",
   "metadata": {},
   "outputs": [
    {
     "name": "stdout",
     "output_type": "stream",
     "text": [
      "enter 1st number = 45\n",
      "enter 2nd number = 67\n",
      "112\n"
     ]
    }
   ],
   "source": [
    "first_num=input(\"enter 1st number = \")\n",
    "second_num=input(\"enter 2nd number = \")\n",
    "result= int(first_num) + int(second_num)\n",
    "print(result)"
   ]
  },
  {
   "cell_type": "code",
   "execution_count": 23,
   "id": "72aa80ae",
   "metadata": {},
   "outputs": [
    {
     "name": "stdout",
     "output_type": "stream",
     "text": [
      "enter 1st number = 56\n",
      "enter 2nd number = 67\n",
      "123\n"
     ]
    }
   ],
   "source": [
    "first_num=int(input(\"enter 1st number = \"))\n",
    "second_num=int(input(\"enter 2nd number = \"))\n",
    "result= first_num + second_num\n",
    "print(result)"
   ]
  },
  {
   "cell_type": "code",
   "execution_count": null,
   "id": "03997599",
   "metadata": {},
   "outputs": [],
   "source": []
  },
  {
   "cell_type": "code",
   "execution_count": null,
   "id": "760fe775",
   "metadata": {},
   "outputs": [],
   "source": []
  }
 ],
 "metadata": {
  "kernelspec": {
   "display_name": "Python 3 (ipykernel)",
   "language": "python",
   "name": "python3"
  },
  "language_info": {
   "codemirror_mode": {
    "name": "ipython",
    "version": 3
   },
   "file_extension": ".py",
   "mimetype": "text/x-python",
   "name": "python",
   "nbconvert_exporter": "python",
   "pygments_lexer": "ipython3",
   "version": "3.9.7"
  }
 },
 "nbformat": 4,
 "nbformat_minor": 5
}
