{
 "cells": [
  {
   "cell_type": "code",
   "execution_count": 2,
   "id": "68064c32",
   "metadata": {},
   "outputs": [],
   "source": [
    "try:\n",
    "    pass\n",
    "except Exception:\n",
    "    pass"
   ]
  },
  {
   "cell_type": "code",
   "execution_count": 20,
   "id": "1a70ee4b",
   "metadata": {},
   "outputs": [
    {
     "name": "stdout",
     "output_type": "stream",
     "text": [
      "sorry file doesnt exist\n"
     ]
    }
   ],
   "source": [
    "import os\n",
    "try:\n",
    "    f=open(\"demofile.txt\",\"x\")\n",
    "    f.close()\n",
    "except Exception:\n",
    "    print(\"sorry file doesnt exist\")\n"
   ]
  },
  {
   "cell_type": "code",
   "execution_count": 14,
   "id": "e072f88a",
   "metadata": {},
   "outputs": [
    {
     "data": {
      "text/plain": [
       "10"
      ]
     },
     "execution_count": 14,
     "metadata": {},
     "output_type": "execute_result"
    }
   ],
   "source": [
    "f=open(\"demofile.txt\",\"w\")\n",
    "f.write(\"i love you\")"
   ]
  },
  {
   "cell_type": "code",
   "execution_count": null,
   "id": "274f9330",
   "metadata": {},
   "outputs": [],
   "source": []
  }
 ],
 "metadata": {
  "kernelspec": {
   "display_name": "Python 3 (ipykernel)",
   "language": "python",
   "name": "python3"
  },
  "language_info": {
   "codemirror_mode": {
    "name": "ipython",
    "version": 3
   },
   "file_extension": ".py",
   "mimetype": "text/x-python",
   "name": "python",
   "nbconvert_exporter": "python",
   "pygments_lexer": "ipython3",
   "version": "3.9.7"
  }
 },
 "nbformat": 4,
 "nbformat_minor": 5
}
