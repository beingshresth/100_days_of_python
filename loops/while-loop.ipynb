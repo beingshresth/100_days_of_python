{
 "cells": [
  {
   "cell_type": "code",
   "execution_count": 2,
   "id": "714811e8",
   "metadata": {},
   "outputs": [],
   "source": [
    "#while\n",
    "#for "
   ]
  },
  {
   "cell_type": "code",
   "execution_count": null,
   "id": "4397e3be",
   "metadata": {},
   "outputs": [],
   "source": [
    "#code for other languages \n",
    "while (condition){\n",
    "    code\n",
    "}"
   ]
  },
  {
   "cell_type": "code",
   "execution_count": null,
   "id": "648dd457",
   "metadata": {},
   "outputs": [],
   "source": [
    "#code for python\n",
    "while condition :\n",
    "    code"
   ]
  },
  {
   "cell_type": "code",
   "execution_count": 6,
   "id": "b331445e",
   "metadata": {},
   "outputs": [
    {
     "name": "stdout",
     "output_type": "stream",
     "text": [
      "enter the number80\n",
      "80 * 1 = 80\n",
      "80 * 2 = 160\n",
      "80 * 3 = 240\n",
      "80 * 4 = 320\n",
      "80 * 5 = 400\n",
      "80 * 6 = 480\n",
      "80 * 7 = 560\n",
      "80 * 8 = 640\n",
      "80 * 9 = 720\n",
      "80 * 10 = 800\n"
     ]
    }
   ],
   "source": [
    "number=int(input(\"enter the number\"))\n",
    "i=1\n",
    "while i<11:\n",
    "    print(number , \"*\" , i , \"=\" , number*i)\n",
    "    i+=1"
   ]
  },
  {
   "cell_type": "code",
   "execution_count": null,
   "id": "5bd4481e",
   "metadata": {},
   "outputs": [],
   "source": []
  }
 ],
 "metadata": {
  "kernelspec": {
   "display_name": "Python 3 (ipykernel)",
   "language": "python",
   "name": "python3"
  },
  "language_info": {
   "codemirror_mode": {
    "name": "ipython",
    "version": 3
   },
   "file_extension": ".py",
   "mimetype": "text/x-python",
   "name": "python",
   "nbconvert_exporter": "python",
   "pygments_lexer": "ipython3",
   "version": "3.9.7"
  }
 },
 "nbformat": 4,
 "nbformat_minor": 5
}
