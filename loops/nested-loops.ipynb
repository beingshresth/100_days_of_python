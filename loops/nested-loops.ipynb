{
 "cells": [
  {
   "cell_type": "code",
   "execution_count": 1,
   "id": "4bf404d3",
   "metadata": {},
   "outputs": [],
   "source": [
    "#loop k ander loop"
   ]
  },
  {
   "cell_type": "code",
   "execution_count": 2,
   "id": "3f5b45b7",
   "metadata": {},
   "outputs": [],
   "source": [
    "#haar user k kitne transaction hue uske liye we use nested loop\n",
    "#ek loop users info k liye\n",
    "# and dusra loop unka transaction history k liy"
   ]
  },
  {
   "cell_type": "code",
   "execution_count": 4,
   "id": "7d34e96c",
   "metadata": {},
   "outputs": [],
   "source": [
    "# *\n",
    "# **\n",
    "# ***\n",
    "# ****\n",
    "# *****"
   ]
  },
  {
   "cell_type": "code",
   "execution_count": 5,
   "id": "b42847bb",
   "metadata": {},
   "outputs": [
    {
     "name": "stdout",
     "output_type": "stream",
     "text": [
      "enter numbers of rows9\n",
      "* \n",
      "* * \n",
      "* * * \n",
      "* * * * \n",
      "* * * * * \n",
      "* * * * * * \n",
      "* * * * * * * \n",
      "* * * * * * * * \n",
      "* * * * * * * * * \n"
     ]
    }
   ],
   "source": [
    "rows =int(input(\"enter numbers of rows\"))\n",
    "for i in range(1,rows + 1):\n",
    "    for j in range(0,i):\n",
    "        print(\"*\",end=\" \")\n",
    "        \n",
    "    print(\"\")"
   ]
  },
  {
   "cell_type": "code",
   "execution_count": null,
   "id": "fcb64c90",
   "metadata": {},
   "outputs": [],
   "source": []
  }
 ],
 "metadata": {
  "kernelspec": {
   "display_name": "Python 3 (ipykernel)",
   "language": "python",
   "name": "python3"
  },
  "language_info": {
   "codemirror_mode": {
    "name": "ipython",
    "version": 3
   },
   "file_extension": ".py",
   "mimetype": "text/x-python",
   "name": "python",
   "nbconvert_exporter": "python",
   "pygments_lexer": "ipython3",
   "version": "3.9.7"
  }
 },
 "nbformat": 4,
 "nbformat_minor": 5
}
