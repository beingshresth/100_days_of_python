{
 "cells": [
  {
   "cell_type": "code",
   "execution_count": 1,
   "id": "5154d289",
   "metadata": {},
   "outputs": [],
   "source": [
    "import random"
   ]
  },
  {
   "cell_type": "code",
   "execution_count": 4,
   "id": "7971fc91",
   "metadata": {},
   "outputs": [
    {
     "data": {
      "text/plain": [
       "34"
      ]
     },
     "execution_count": 4,
     "metadata": {},
     "output_type": "execute_result"
    }
   ],
   "source": [
    "random.randint(1,100)"
   ]
  },
  {
   "cell_type": "code",
   "execution_count": 6,
   "id": "2a99474e",
   "metadata": {},
   "outputs": [
    {
     "name": "stdout",
     "output_type": "stream",
     "text": [
      "chal guess kar80\n",
      "guess lower\n",
      "chal guess kar60\n",
      "guess lower\n",
      "chal guess kar20\n",
      "guess lower\n",
      "chal guess kar15\n",
      "guess higher\n",
      "chal guess kar16\n",
      "guess higher\n",
      "chal guess kar18\n",
      "sahi jawab bete\n",
      "you took 6 attempts\n"
     ]
    }
   ],
   "source": [
    "jackpot=random.randint(1,100)\n",
    "guess=int(input(\"chal guess kar\"))\n",
    "counter=1\n",
    "while guess != jackpot :\n",
    "    if guess < jackpot :\n",
    "        print(\"guess higher\")\n",
    "    else :\n",
    "        print(\"guess lower\")\n",
    "    guess=int(input(\"chal guess kar\"))\n",
    "    counter +=1\n",
    "    \n",
    "    \n",
    "    \n",
    "print(\"sahi jawab bete\")\n",
    "print(\"you took\",counter,\"attempts\")"
   ]
  },
  {
   "cell_type": "code",
   "execution_count": null,
   "id": "4444c584",
   "metadata": {},
   "outputs": [],
   "source": []
  }
 ],
 "metadata": {
  "kernelspec": {
   "display_name": "Python 3 (ipykernel)",
   "language": "python",
   "name": "python3"
  },
  "language_info": {
   "codemirror_mode": {
    "name": "ipython",
    "version": 3
   },
   "file_extension": ".py",
   "mimetype": "text/x-python",
   "name": "python",
   "nbconvert_exporter": "python",
   "pygments_lexer": "ipython3",
   "version": "3.9.7"
  }
 },
 "nbformat": 4,
 "nbformat_minor": 5
}
