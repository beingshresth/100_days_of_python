{
 "cells": [
  {
   "cell_type": "code",
   "execution_count": 1,
   "id": "f1014f89",
   "metadata": {},
   "outputs": [],
   "source": [
    " #comments   "
   ]
  },
  {
   "cell_type": "code",
   "execution_count": 2,
   "id": "cdd26292",
   "metadata": {},
   "outputs": [],
   "source": [
    "#this is a comment"
   ]
  },
  {
   "cell_type": "code",
   "execution_count": 1,
   "id": "ef6707a7",
   "metadata": {},
   "outputs": [],
   "source": [
    "#variable\n",
    "#c lang \n",
    "#int a = 5"
   ]
  },
  {
   "cell_type": "code",
   "execution_count": 2,
   "id": "3899b668",
   "metadata": {},
   "outputs": [],
   "source": [
    "#python\n",
    "name='shresth'"
   ]
  },
  {
   "cell_type": "code",
   "execution_count": 4,
   "id": "94bc1a75",
   "metadata": {},
   "outputs": [
    {
     "name": "stdout",
     "output_type": "stream",
     "text": [
      "shresth\n"
     ]
    }
   ],
   "source": [
    "print(name)"
   ]
  },
  {
   "cell_type": "code",
   "execution_count": 5,
   "id": "1b14caec",
   "metadata": {},
   "outputs": [
    {
     "name": "stdout",
     "output_type": "stream",
     "text": [
      "hello world\n"
     ]
    }
   ],
   "source": [
    "name='hello world'\n",
    "print(name)"
   ]
  },
  {
   "cell_type": "code",
   "execution_count": 6,
   "id": "46ec352f",
   "metadata": {},
   "outputs": [],
   "source": [
    "#no variable declaration"
   ]
  },
  {
   "cell_type": "code",
   "execution_count": 7,
   "id": "337e04ca",
   "metadata": {},
   "outputs": [],
   "source": [
    "#Dynamic Typing - no data type declaration "
   ]
  },
  {
   "cell_type": "code",
   "execution_count": 8,
   "id": "3fa95fdf",
   "metadata": {},
   "outputs": [
    {
     "name": "stdout",
     "output_type": "stream",
     "text": [
      "hello world\n"
     ]
    }
   ],
   "source": [
    "print(name)"
   ]
  },
  {
   "cell_type": "code",
   "execution_count": 9,
   "id": "d53dc165",
   "metadata": {},
   "outputs": [
    {
     "name": "stdout",
     "output_type": "stream",
     "text": [
      "4\n"
     ]
    }
   ],
   "source": [
    "name=4\n",
    "print(name)"
   ]
  },
  {
   "cell_type": "code",
   "execution_count": 10,
   "id": "5bc6dda3",
   "metadata": {},
   "outputs": [],
   "source": [
    "#dynamic binding - variable that can store multiple data type ."
   ]
  },
  {
   "cell_type": "code",
   "execution_count": 11,
   "id": "85863428",
   "metadata": {},
   "outputs": [
    {
     "name": "stdout",
     "output_type": "stream",
     "text": [
      "5\n",
      "6\n",
      "7\n"
     ]
    }
   ],
   "source": [
    "#special syntax \n",
    "a=5;b=6;c=7\n",
    "print(a)\n",
    "print(b)\n",
    "print(c)"
   ]
  },
  {
   "cell_type": "code",
   "execution_count": 12,
   "id": "7e87d7e8",
   "metadata": {},
   "outputs": [
    {
     "name": "stdout",
     "output_type": "stream",
     "text": [
      "4\n",
      "5\n",
      "6\n"
     ]
    }
   ],
   "source": [
    "a,b,c=4,5,6\n",
    "print(a)\n",
    "print(b)\n",
    "print(c)"
   ]
  },
  {
   "cell_type": "code",
   "execution_count": null,
   "id": "dd1a6e01",
   "metadata": {},
   "outputs": [],
   "source": []
  }
 ],
 "metadata": {
  "kernelspec": {
   "display_name": "Python 3 (ipykernel)",
   "language": "python",
   "name": "python3"
  },
  "language_info": {
   "codemirror_mode": {
    "name": "ipython",
    "version": 3
   },
   "file_extension": ".py",
   "mimetype": "text/x-python",
   "name": "python",
   "nbconvert_exporter": "python",
   "pygments_lexer": "ipython3",
   "version": "3.9.7"
  }
 },
 "nbformat": 4,
 "nbformat_minor": 5
}
