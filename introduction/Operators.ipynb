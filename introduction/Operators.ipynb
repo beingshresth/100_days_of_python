{
 "cells": [
  {
   "cell_type": "markdown",
   "id": "5da4aa44",
   "metadata": {},
   "source": [
    "# Operators\n"
   ]
  },
  {
   "cell_type": "raw",
   "id": "fcfa6bcf",
   "metadata": {},
   "source": [
    "Operators are used to perform operations on variables and values. Python has the following operators:\n",
    "\n",
    "1. Arithmetic operators\n",
    "2. Comparison operators\n",
    "3. Logical operators\n",
    "4. Bitwise operators\n",
    "5. Assignment operators\n",
    "6. Identity operators\n",
    "7. Membership operators"
   ]
  },
  {
   "cell_type": "code",
   "execution_count": 2,
   "id": "d3a20ce6",
   "metadata": {},
   "outputs": [
    {
     "name": "stdout",
     "output_type": "stream",
     "text": [
      "7\n"
     ]
    }
   ],
   "source": [
    "#Arthimatic operators\n",
    "x = 5\n",
    "y = 2\n",
    "print(x+y) #add"
   ]
  },
  {
   "cell_type": "code",
   "execution_count": 3,
   "id": "f1edc49a",
   "metadata": {},
   "outputs": [
    {
     "name": "stdout",
     "output_type": "stream",
     "text": [
      "3\n"
     ]
    }
   ],
   "source": [
    "print(x-y)#subtarct"
   ]
  },
  {
   "cell_type": "code",
   "execution_count": 4,
   "id": "42798a0a",
   "metadata": {},
   "outputs": [
    {
     "name": "stdout",
     "output_type": "stream",
     "text": [
      "10\n"
     ]
    }
   ],
   "source": [
    "print(x*y)#multiply\n"
   ]
  },
  {
   "cell_type": "code",
   "execution_count": 5,
   "id": "75d16209",
   "metadata": {},
   "outputs": [
    {
     "name": "stdout",
     "output_type": "stream",
     "text": [
      "2.5\n"
     ]
    }
   ],
   "source": [
    "print(x/y)#division"
   ]
  },
  {
   "cell_type": "code",
   "execution_count": 6,
   "id": "e58d9ec4",
   "metadata": {},
   "outputs": [
    {
     "name": "stdout",
     "output_type": "stream",
     "text": [
      "1\n"
     ]
    }
   ],
   "source": [
    "print(x%y)#modulas"
   ]
  },
  {
   "cell_type": "code",
   "execution_count": 7,
   "id": "4376a650",
   "metadata": {},
   "outputs": [
    {
     "name": "stdout",
     "output_type": "stream",
     "text": [
      "25\n"
     ]
    }
   ],
   "source": [
    "print(x ** y)#power"
   ]
  },
  {
   "cell_type": "code",
   "execution_count": 8,
   "id": "8e137353",
   "metadata": {},
   "outputs": [
    {
     "name": "stdout",
     "output_type": "stream",
     "text": [
      "2\n"
     ]
    }
   ],
   "source": [
    "print(x//y)#integer division"
   ]
  },
  {
   "cell_type": "code",
   "execution_count": 9,
   "id": "71bb57b7",
   "metadata": {},
   "outputs": [
    {
     "data": {
      "text/plain": [
       "True"
      ]
     },
     "execution_count": 9,
     "metadata": {},
     "output_type": "execute_result"
    }
   ],
   "source": [
    "#boolean operators\n",
    "x>y"
   ]
  },
  {
   "cell_type": "code",
   "execution_count": 10,
   "id": "d7808a66",
   "metadata": {},
   "outputs": [
    {
     "name": "stdout",
     "output_type": "stream",
     "text": [
      "False\n"
     ]
    }
   ],
   "source": [
    "print(x<y)"
   ]
  },
  {
   "cell_type": "code",
   "execution_count": 11,
   "id": "b001bade",
   "metadata": {},
   "outputs": [
    {
     "name": "stdout",
     "output_type": "stream",
     "text": [
      "False\n"
     ]
    }
   ],
   "source": [
    "print(x<=y)"
   ]
  },
  {
   "cell_type": "code",
   "execution_count": 12,
   "id": "186684e1",
   "metadata": {},
   "outputs": [
    {
     "name": "stdout",
     "output_type": "stream",
     "text": [
      "True\n"
     ]
    }
   ],
   "source": [
    "print(x>=y)"
   ]
  },
  {
   "cell_type": "code",
   "execution_count": 13,
   "id": "51cb135d",
   "metadata": {},
   "outputs": [
    {
     "name": "stdout",
     "output_type": "stream",
     "text": [
      "False\n"
     ]
    }
   ],
   "source": [
    "print(x==y)"
   ]
  },
  {
   "cell_type": "code",
   "execution_count": 15,
   "id": "4bfd5758",
   "metadata": {},
   "outputs": [
    {
     "name": "stdout",
     "output_type": "stream",
     "text": [
      "True\n"
     ]
    }
   ],
   "source": [
    "print(x!=y)"
   ]
  },
  {
   "cell_type": "code",
   "execution_count": 16,
   "id": "2526f33f",
   "metadata": {},
   "outputs": [
    {
     "name": "stdout",
     "output_type": "stream",
     "text": [
      "True\n"
     ]
    }
   ],
   "source": [
    "#logical operators\n",
    "x= True\n",
    "y= False\n",
    "print(x or y)"
   ]
  },
  {
   "cell_type": "code",
   "execution_count": 17,
   "id": "80a93ca5",
   "metadata": {},
   "outputs": [
    {
     "name": "stdout",
     "output_type": "stream",
     "text": [
      "False\n"
     ]
    }
   ],
   "source": [
    "print(x and y)"
   ]
  },
  {
   "cell_type": "code",
   "execution_count": 18,
   "id": "1bef83f3",
   "metadata": {},
   "outputs": [
    {
     "name": "stdout",
     "output_type": "stream",
     "text": [
      "False\n"
     ]
    }
   ],
   "source": [
    "print(not x)"
   ]
  },
  {
   "cell_type": "code",
   "execution_count": 19,
   "id": "cd2ca501",
   "metadata": {},
   "outputs": [
    {
     "name": "stdout",
     "output_type": "stream",
     "text": [
      "True\n"
     ]
    }
   ],
   "source": [
    "print(not y)"
   ]
  },
  {
   "cell_type": "code",
   "execution_count": 20,
   "id": "d1e5cb72",
   "metadata": {},
   "outputs": [],
   "source": [
    "#bitwise operators\n",
    "x=2\n",
    "y=3\n"
   ]
  },
  {
   "cell_type": "code",
   "execution_count": 21,
   "id": "38d429cd",
   "metadata": {},
   "outputs": [
    {
     "name": "stdout",
     "output_type": "stream",
     "text": [
      "2\n"
     ]
    }
   ],
   "source": [
    "print(x&y)"
   ]
  },
  {
   "cell_type": "raw",
   "id": "485b714a",
   "metadata": {},
   "source": [
    "010\n",
    "110\n",
    "----\n",
    "010"
   ]
  },
  {
   "cell_type": "code",
   "execution_count": 22,
   "id": "15c31287",
   "metadata": {},
   "outputs": [
    {
     "name": "stdout",
     "output_type": "stream",
     "text": [
      "3\n"
     ]
    }
   ],
   "source": [
    "print(x | y)"
   ]
  },
  {
   "cell_type": "raw",
   "id": "cd5db79e",
   "metadata": {},
   "source": [
    "010\n",
    "110\n",
    "---\n",
    "110"
   ]
  },
  {
   "cell_type": "code",
   "execution_count": 24,
   "id": "6d785270",
   "metadata": {},
   "outputs": [
    {
     "name": "stdout",
     "output_type": "stream",
     "text": [
      "0\n"
     ]
    }
   ],
   "source": [
    "print(x >> 2)"
   ]
  },
  {
   "cell_type": "code",
   "execution_count": 25,
   "id": "4bd21c8a",
   "metadata": {},
   "outputs": [
    {
     "name": "stdout",
     "output_type": "stream",
     "text": [
      "12\n"
     ]
    }
   ],
   "source": [
    "print(y << 2)"
   ]
  },
  {
   "cell_type": "code",
   "execution_count": 26,
   "id": "809b7c08",
   "metadata": {},
   "outputs": [
    {
     "name": "stdout",
     "output_type": "stream",
     "text": [
      "-3\n"
     ]
    }
   ],
   "source": [
    "print(~x)"
   ]
  },
  {
   "cell_type": "code",
   "execution_count": 27,
   "id": "c3b81c1f",
   "metadata": {},
   "outputs": [
    {
     "name": "stdout",
     "output_type": "stream",
     "text": [
      "3\n"
     ]
    }
   ],
   "source": [
    "#Assignment operator\n",
    "a=3\n",
    "print(a)"
   ]
  },
  {
   "cell_type": "code",
   "execution_count": 30,
   "id": "90fa88b8",
   "metadata": {},
   "outputs": [
    {
     "name": "stdout",
     "output_type": "stream",
     "text": [
      "12\n"
     ]
    }
   ],
   "source": [
    "a += 3\n",
    "print(a)"
   ]
  },
  {
   "cell_type": "code",
   "execution_count": 33,
   "id": "0c262511",
   "metadata": {},
   "outputs": [
    {
     "name": "stdout",
     "output_type": "stream",
     "text": [
      "3\n"
     ]
    }
   ],
   "source": [
    "a -= 3\n",
    "print(a)"
   ]
  },
  {
   "cell_type": "code",
   "execution_count": 34,
   "id": "b9cd6fb0",
   "metadata": {},
   "outputs": [],
   "source": [
    "a *= 3\n",
    "a&=3"
   ]
  },
  {
   "cell_type": "code",
   "execution_count": 35,
   "id": "4dc6b696",
   "metadata": {},
   "outputs": [],
   "source": [
    "a=a+3\n",
    "a+=3"
   ]
  },
  {
   "cell_type": "code",
   "execution_count": 36,
   "id": "b19061f2",
   "metadata": {},
   "outputs": [
    {
     "name": "stdout",
     "output_type": "stream",
     "text": [
      "True\n"
     ]
    }
   ],
   "source": [
    "#Identity operators\n",
    "a=3\n",
    "b=3\n",
    "print(a is b)"
   ]
  },
  {
   "cell_type": "code",
   "execution_count": 37,
   "id": "1a1f9b72",
   "metadata": {},
   "outputs": [
    {
     "name": "stdout",
     "output_type": "stream",
     "text": [
      "True\n"
     ]
    }
   ],
   "source": [
    "a=\"hello\"\n",
    "b=\"hello\"\n",
    "print(a is b)"
   ]
  },
  {
   "cell_type": "code",
   "execution_count": 38,
   "id": "2d5df826",
   "metadata": {},
   "outputs": [
    {
     "name": "stdout",
     "output_type": "stream",
     "text": [
      "False\n"
     ]
    }
   ],
   "source": [
    "a = [1,2,3]\n",
    "b = [1,2,3]\n",
    "print(a is b)"
   ]
  },
  {
   "cell_type": "code",
   "execution_count": 39,
   "id": "f0ab96f7",
   "metadata": {},
   "outputs": [
    {
     "name": "stdout",
     "output_type": "stream",
     "text": [
      "True\n"
     ]
    }
   ],
   "source": [
    "#membership operator\n",
    "x='Delhi'\n",
    "print(\"D\"in x)"
   ]
  },
  {
   "cell_type": "code",
   "execution_count": 40,
   "id": "c2fc33d1",
   "metadata": {},
   "outputs": [
    {
     "name": "stdout",
     "output_type": "stream",
     "text": [
      "False\n"
     ]
    }
   ],
   "source": [
    "x=[1,2,3]\n",
    "print(5 in x)"
   ]
  },
  {
   "cell_type": "code",
   "execution_count": null,
   "id": "29e4617b",
   "metadata": {},
   "outputs": [],
   "source": []
  }
 ],
 "metadata": {
  "kernelspec": {
   "display_name": "Python 3 (ipykernel)",
   "language": "python",
   "name": "python3"
  },
  "language_info": {
   "codemirror_mode": {
    "name": "ipython",
    "version": 3
   },
   "file_extension": ".py",
   "mimetype": "text/x-python",
   "name": "python",
   "nbconvert_exporter": "python",
   "pygments_lexer": "ipython3",
   "version": "3.9.7"
  }
 },
 "nbformat": 4,
 "nbformat_minor": 5
}
