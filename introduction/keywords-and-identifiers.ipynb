{
 "cells": [
  {
   "cell_type": "markdown",
   "id": "85e70c9f",
   "metadata": {},
   "source": [
    "# Keywords"
   ]
  },
  {
   "cell_type": "raw",
   "id": "d49a8aa5",
   "metadata": {},
   "source": [
    "~ python is a case sensitive programming language\n",
    "~In a programming a keyword is a word that is reserved by a program because the word the word word has a special meaning . \n",
    "keyword can be commands or parameters . \n",
    "~Every programming language has a set of keywords that cannot be used as variable names"
   ]
  },
  {
   "cell_type": "code",
   "execution_count": 2,
   "id": "3dbb3f35",
   "metadata": {},
   "outputs": [
    {
     "name": "stdout",
     "output_type": "stream",
     "text": [
      "['False', 'None', 'True', '__peg_parser__', 'and', 'as', 'assert', 'async', 'await', 'break', 'class', 'continue', 'def', 'del', 'elif', 'else', 'except', 'finally', 'for', 'from', 'global', 'if', 'import', 'in', 'is', 'lambda', 'nonlocal', 'not', 'or', 'pass', 'raise', 'return', 'try', 'while', 'with', 'yield']\n"
     ]
    }
   ],
   "source": [
    "#pyhton 33 keywords\n",
    "import keyword\n",
    "print(keyword.kwlist)"
   ]
  },
  {
   "cell_type": "markdown",
   "id": "4670c978",
   "metadata": {},
   "source": [
    "# Indentifiers\n"
   ]
  },
  {
   "cell_type": "markdown",
   "id": "7beb5eba",
   "metadata": {},
   "source": [
    "A python identifier is a name used to Identify a variable , function , class , module , or the other object"
   ]
  },
  {
   "cell_type": "raw",
   "id": "eb2fc53d",
   "metadata": {},
   "source": [
    "rules:\n",
    "    - can only start with alphabet or _\n",
    "    - followed by 0 or more letter,_and digits\n",
    "    -keywords cannot be used as a identifier"
   ]
  },
  {
   "cell_type": "code",
   "execution_count": 3,
   "id": "4ad4e7d7",
   "metadata": {},
   "outputs": [
    {
     "ename": "SyntaxError",
     "evalue": "cannot assign to False (1591562908.py, line 1)",
     "output_type": "error",
     "traceback": [
      "\u001b[0;36m  File \u001b[0;32m\"/var/folders/mx/xq__x0zd52x1vljklz22nsb40000gn/T/ipykernel_17200/1591562908.py\"\u001b[0;36m, line \u001b[0;32m1\u001b[0m\n\u001b[0;31m    False='shresth'\u001b[0m\n\u001b[0m    ^\u001b[0m\n\u001b[0;31mSyntaxError\u001b[0m\u001b[0;31m:\u001b[0m cannot assign to False\n"
     ]
    }
   ],
   "source": [
    "False='shresth'"
   ]
  },
  {
   "cell_type": "code",
   "execution_count": null,
   "id": "94c93fd5",
   "metadata": {},
   "outputs": [],
   "source": []
  }
 ],
 "metadata": {
  "kernelspec": {
   "display_name": "Python 3 (ipykernel)",
   "language": "python",
   "name": "python3"
  },
  "language_info": {
   "codemirror_mode": {
    "name": "ipython",
    "version": 3
   },
   "file_extension": ".py",
   "mimetype": "text/x-python",
   "name": "python",
   "nbconvert_exporter": "python",
   "pygments_lexer": "ipython3",
   "version": "3.9.7"
  }
 },
 "nbformat": 4,
 "nbformat_minor": 5
}
