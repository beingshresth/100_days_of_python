{
 "cells": [
  {
   "cell_type": "markdown",
   "id": "9ddc1663",
   "metadata": {},
   "source": [
    "## pyhton support 3 categories of data types"
   ]
  },
  {
   "cell_type": "markdown",
   "id": "c4cdc59f",
   "metadata": {},
   "source": [
    "    1.Basic types (integer , float , complex , boolean & string)\n",
    "    2.container types-(list , tuples ,sets & dictionary)\n",
    "    3.user defined types - class\n",
    "    "
   ]
  },
  {
   "cell_type": "code",
   "execution_count": 4,
   "id": "25847d04",
   "metadata": {},
   "outputs": [
    {
     "name": "stdout",
     "output_type": "stream",
     "text": [
      "40000000000000000\n",
      "1e+308\n",
      "inf\n"
     ]
    }
   ],
   "source": [
    "#integer\n",
    "print(40000000000000000)\n",
    "print(1e308)\n",
    "print(1e309)"
   ]
  },
  {
   "cell_type": "code",
   "execution_count": 7,
   "id": "38bd02da",
   "metadata": {},
   "outputs": [
    {
     "name": "stdout",
     "output_type": "stream",
     "text": [
      "4.5\n",
      "inf\n"
     ]
    }
   ],
   "source": [
    "#float\n",
    "print(4.5)\n",
    "print(1.7e309)"
   ]
  },
  {
   "cell_type": "code",
   "execution_count": 8,
   "id": "6cc8b0b8",
   "metadata": {},
   "outputs": [
    {
     "name": "stdout",
     "output_type": "stream",
     "text": [
      "False\n",
      "True\n"
     ]
    }
   ],
   "source": [
    "#boolean\n",
    "print(False)\n",
    "print(True)"
   ]
  },
  {
   "cell_type": "code",
   "execution_count": 9,
   "id": "20bac6f9",
   "metadata": {},
   "outputs": [
    {
     "name": "stdout",
     "output_type": "stream",
     "text": [
      "(4+5j)\n"
     ]
    }
   ],
   "source": [
    "#complex\n",
    "print(4+5j)"
   ]
  },
  {
   "cell_type": "code",
   "execution_count": 10,
   "id": "0e0f39ab",
   "metadata": {},
   "outputs": [
    {
     "name": "stdout",
     "output_type": "stream",
     "text": [
      "Ranchi\n",
      "Ranchi\n",
      "Ranchi\n"
     ]
    }
   ],
   "source": [
    "#string\n",
    "print('Ranchi')\n",
    "print(\"Ranchi\")\n",
    "print(\"\"\"Ranchi\"\"\")"
   ]
  },
  {
   "cell_type": "code",
   "execution_count": 11,
   "id": "db12a9ca",
   "metadata": {},
   "outputs": [
    {
     "name": "stdout",
     "output_type": "stream",
     "text": [
      "[1, 2, 3, 4, 5]\n"
     ]
    }
   ],
   "source": [
    "#list (square brackets [])---> just like array \n",
    "print([1,2,3,4,5])"
   ]
  },
  {
   "cell_type": "code",
   "execution_count": 12,
   "id": "4df6559b",
   "metadata": {},
   "outputs": [
    {
     "name": "stdout",
     "output_type": "stream",
     "text": [
      "(1, 23, 4, 5, 6)\n"
     ]
    }
   ],
   "source": [
    "#tuples(small brackets())\n",
    "print((1,23,4,5,6))"
   ]
  },
  {
   "cell_type": "code",
   "execution_count": 13,
   "id": "6642a4b8",
   "metadata": {},
   "outputs": [
    {
     "name": "stdout",
     "output_type": "stream",
     "text": [
      "{1, 4, 5, 6, 23}\n"
     ]
    }
   ],
   "source": [
    "#set (curly brackets {})\n",
    "print({1,23,4,5,6})"
   ]
  },
  {
   "cell_type": "code",
   "execution_count": 14,
   "id": "c706d877",
   "metadata": {},
   "outputs": [
    {
     "name": "stdout",
     "output_type": "stream",
     "text": [
      "{'name': 'shresth', 'age': '21', 'gender': 'male'}\n"
     ]
    }
   ],
   "source": [
    "#dict --> key value pair\n",
    "print({\"name\":\"shresth\",\"age\":\"21\",\"gender\":\"male\"})\n"
   ]
  },
  {
   "cell_type": "code",
   "execution_count": null,
   "id": "b22d569c",
   "metadata": {},
   "outputs": [],
   "source": []
  }
 ],
 "metadata": {
  "kernelspec": {
   "display_name": "Python 3 (ipykernel)",
   "language": "python",
   "name": "python3"
  },
  "language_info": {
   "codemirror_mode": {
    "name": "ipython",
    "version": 3
   },
   "file_extension": ".py",
   "mimetype": "text/x-python",
   "name": "python",
   "nbconvert_exporter": "python",
   "pygments_lexer": "ipython3",
   "version": "3.9.7"
  }
 },
 "nbformat": 4,
 "nbformat_minor": 5
}
