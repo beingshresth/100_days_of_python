{
 "cells": [
  {
   "cell_type": "markdown",
   "id": "bf7f2af3",
   "metadata": {},
   "source": [
    "# Literals"
   ]
  },
  {
   "cell_type": "raw",
   "id": "e394df58",
   "metadata": {},
   "source": [
    "literals is a raw data diven is a variable . In python there a various types of literals\n",
    "1.numeric literals\n",
    "2.string Literals\n",
    "3.Boolean literals\n",
    "4.special literals"
   ]
  },
  {
   "cell_type": "markdown",
   "id": "85407efd",
   "metadata": {},
   "source": [
    "### 1. Numeric Literals"
   ]
  },
  {
   "cell_type": "code",
   "execution_count": 2,
   "id": "5165b5b3",
   "metadata": {},
   "outputs": [
    {
     "name": "stdout",
     "output_type": "stream",
     "text": [
      "10 100 200 300\n"
     ]
    }
   ],
   "source": [
    "a=0b1010 #binary Literals\n",
    "b=100    #decimals\n",
    "c=0o310 #octal\n",
    "d=0x12c  #hexadecimal\n",
    " \n",
    "print(a,b,c,d)"
   ]
  },
  {
   "cell_type": "code",
   "execution_count": 3,
   "id": "32cf7d3f",
   "metadata": {},
   "outputs": [
    {
     "name": "stdout",
     "output_type": "stream",
     "text": [
      "10.5 150.0 0.0015\n"
     ]
    }
   ],
   "source": [
    "#float literals\n",
    "float_1=10.5\n",
    "float_2=1.5e2\n",
    "float_3=1.5e-3\n",
    "print(float_1 ,float_2,float_3)"
   ]
  },
  {
   "cell_type": "code",
   "execution_count": 4,
   "id": "b9f59fc0",
   "metadata": {},
   "outputs": [
    {
     "name": "stdout",
     "output_type": "stream",
     "text": [
      "3.14j 3.14 0.0\n"
     ]
    }
   ],
   "source": [
    "#complex literals\n",
    "x= 3.14j\n",
    "print(x,x.imag,x.real)"
   ]
  },
  {
   "cell_type": "markdown",
   "id": "71f38856",
   "metadata": {},
   "source": [
    "### 2.String Literals"
   ]
  },
  {
   "cell_type": "code",
   "execution_count": 5,
   "id": "250d60d1",
   "metadata": {},
   "outputs": [
    {
     "name": "stdout",
     "output_type": "stream",
     "text": [
      "This is Python\n",
      "This is Python\n",
      "C\n",
      "This is a multiline string with more than one line code.\n",
      "😉😆🤣\n",
      "raw \\n string\n"
     ]
    }
   ],
   "source": [
    "string = 'This is Python'\n",
    "strings = \"This is Python\"\n",
    "char = \"C\"\n",
    "multiline_str = \"\"\"This is a multiline string with more than one line code.\"\"\"\n",
    "unicode = u\"\\U0001f609\\U0001F606\\U0001F923\"\n",
    "raw_str = r\"raw \\n string\"\n",
    "\n",
    "print(string)\n",
    "print(strings)\n",
    "print(char)\n",
    "print(multiline_str)\n",
    "print(unicode)\n",
    "print(raw_str)"
   ]
  },
  {
   "cell_type": "markdown",
   "id": "d751a03b",
   "metadata": {},
   "source": [
    "### 3. Boolean Literal"
   ]
  },
  {
   "cell_type": "code",
   "execution_count": 6,
   "id": "4d93ef66",
   "metadata": {},
   "outputs": [
    {
     "name": "stdout",
     "output_type": "stream",
     "text": [
      "a: 5\n",
      "b: 10\n"
     ]
    }
   ],
   "source": [
    "a = True + 4\n",
    "b = False + 10\n",
    "\n",
    "print(\"a:\", a)\n",
    "print(\"b:\", b)"
   ]
  },
  {
   "cell_type": "markdown",
   "id": "4aabd785",
   "metadata": {},
   "source": [
    "### 4. Special Literal"
   ]
  },
  {
   "cell_type": "code",
   "execution_count": 7,
   "id": "1d2b8c30",
   "metadata": {},
   "outputs": [
    {
     "name": "stdout",
     "output_type": "stream",
     "text": [
      "None\n"
     ]
    }
   ],
   "source": [
    "a = None\n",
    "print(a)"
   ]
  },
  {
   "cell_type": "code",
   "execution_count": 8,
   "id": "5d6344d4",
   "metadata": {},
   "outputs": [],
   "source": [
    "#variable declaration\n",
    "k= None"
   ]
  },
  {
   "cell_type": "code",
   "execution_count": null,
   "id": "19610f8d",
   "metadata": {},
   "outputs": [],
   "source": []
  }
 ],
 "metadata": {
  "kernelspec": {
   "display_name": "Python 3 (ipykernel)",
   "language": "python",
   "name": "python3"
  },
  "language_info": {
   "codemirror_mode": {
    "name": "ipython",
    "version": 3
   },
   "file_extension": ".py",
   "mimetype": "text/x-python",
   "name": "python",
   "nbconvert_exporter": "python",
   "pygments_lexer": "ipython3",
   "version": "3.9.7"
  }
 },
 "nbformat": 4,
 "nbformat_minor": 5
}
