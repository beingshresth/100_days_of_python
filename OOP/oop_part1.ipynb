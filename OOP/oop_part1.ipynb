{
 "cells": [
  {
   "cell_type": "code",
   "execution_count": 1,
   "id": "0c9dde93",
   "metadata": {},
   "outputs": [],
   "source": [
    "a=2"
   ]
  },
  {
   "cell_type": "code",
   "execution_count": 2,
   "id": "53f50f3e",
   "metadata": {},
   "outputs": [
    {
     "data": {
      "text/plain": [
       "int"
      ]
     },
     "execution_count": 2,
     "metadata": {},
     "output_type": "execute_result"
    }
   ],
   "source": [
    "type(a)"
   ]
  },
  {
   "cell_type": "markdown",
   "id": "825f2c39",
   "metadata": {},
   "source": [
    "# CLASS"
   ]
  },
  {
   "cell_type": "code",
   "execution_count": 3,
   "id": "5087b4dc",
   "metadata": {},
   "outputs": [],
   "source": [
    "class Atm:\n",
    "    def __init__(self): #constructor\n",
    "        \n",
    "        self.__pin=\"\"  #__ isse data private ho jata ha \n",
    "        self.__balance=0\n",
    "        \n",
    "        self.menu()\n",
    "    def menu(self):\n",
    "        \n",
    "        user_input=input(\"\"\"\n",
    "                    Hello , how would you like to proceed ?\n",
    "                    1.Enter 1 to create pin\n",
    "                    2.Enter 2 to deposit\n",
    "                    3.Enter 3 to withdraw\n",
    "                    4.Enter 4 to checkbalance\n",
    "                    5.Enter 5 to exit\n",
    "        \"\"\")\n",
    "        if user_input=='1':\n",
    "            self.create_pin()\n",
    "            \n",
    "        elif user_input=='2':\n",
    "            self.deposit()\n",
    "        elif user_input=='3':\n",
    "            self.withdraw()\n",
    "        elif user_input=='4':\n",
    "            self.check_balance()\n",
    "        else :\n",
    "            print(\"bye\")\n",
    "    \n",
    "    def create_pin(self):\n",
    "        self.__pin=input(\"enter your pin\")\n",
    "        print(\"pin set successfull\")\n",
    "    def deposit(self):\n",
    "        temp = input(\"enter your pin\")\n",
    "        if temp==self.__pin:\n",
    "            amount=int(input(\"enter the amount\"))\n",
    "            self.__balance=self.__balance+amount\n",
    "            print(\"deposit successfull\")\n",
    "        else:\n",
    "            print(\"invalid pin\")\n",
    "    def withdraw(self):\n",
    "        temp = input(\"enter your pin\")\n",
    "        if temp==self.__pin:\n",
    "            amount=int(input(\"enter the amount\"))\n",
    "            if amount<self.__balance:\n",
    "                self.__balance=self.__balance-amount\n",
    "                print(\"operation successful\")\n",
    "            else:\n",
    "                print(\"insufficient funds\")\n",
    "                \n",
    "        else:\n",
    "            print(\"invalid pin\")\n",
    "        \n",
    "    def check_balance(self):\n",
    "        temp = input(\"enter your pin\")\n",
    "        if temp==self.__pin:\n",
    "             print(self.__balance)\n",
    "                \n",
    "        else:\n",
    "            print(\"invalid pin\")\n",
    "\n"
   ]
  },
  {
   "cell_type": "code",
   "execution_count": 6,
   "id": "ae8c89a9",
   "metadata": {},
   "outputs": [
    {
     "name": "stdout",
     "output_type": "stream",
     "text": [
      "\n",
      "                    Hello , how would you like to proceed ?\n",
      "                    1.Enter 1 to create pin\n",
      "                    2.Enter 2 to deposit\n",
      "                    3.Enter 3 to withdraw\n",
      "                    4.Enter 4 to checkbalance\n",
      "                    5.Enter 5 to exit\n",
      "        1\n",
      "enter your pin1234\n",
      "pin set successfull\n"
     ]
    }
   ],
   "source": [
    " sbi=Atm()"
   ]
  },
  {
   "cell_type": "code",
   "execution_count": 7,
   "id": "25acc99a",
   "metadata": {},
   "outputs": [
    {
     "name": "stdout",
     "output_type": "stream",
     "text": [
      "enter your pin1234\n",
      "enter the amount10000\n",
      "deposit successfull\n"
     ]
    }
   ],
   "source": [
    "sbi.deposit()"
   ]
  },
  {
   "cell_type": "code",
   "execution_count": 6,
   "id": "bb6c648a",
   "metadata": {},
   "outputs": [
    {
     "name": "stdout",
     "output_type": "stream",
     "text": [
      "enter your pin1234\n",
      "500000\n"
     ]
    }
   ],
   "source": [
    "sbi.check_balance()"
   ]
  },
  {
   "cell_type": "code",
   "execution_count": 7,
   "id": "9d12fe1d",
   "metadata": {},
   "outputs": [
    {
     "name": "stdout",
     "output_type": "stream",
     "text": [
      "enter your pin1234\n",
      "enter the amount20000\n",
      "operation successful\n"
     ]
    }
   ],
   "source": [
    "sbi.withdraw()"
   ]
  },
  {
   "cell_type": "code",
   "execution_count": 8,
   "id": "b0ecf61e",
   "metadata": {},
   "outputs": [
    {
     "name": "stdout",
     "output_type": "stream",
     "text": [
      "enter your pin1234\n",
      "480000\n"
     ]
    }
   ],
   "source": [
    "sbi.check_balance()"
   ]
  },
  {
   "cell_type": "code",
   "execution_count": 10,
   "id": "676e10b6",
   "metadata": {},
   "outputs": [
    {
     "name": "stdout",
     "output_type": "stream",
     "text": [
      "\n",
      "                    Hello , how would you like to proceed ?\n",
      "                    1.Enter 1 to create pin\n",
      "                    2.Enter 2 to deposit\n",
      "                    3.Enter 3 to withdraw\n",
      "                    4.Enter 4 to checkbalance\n",
      "                    5.Enter 5 to exit\n",
      "        1\n",
      "enter your pin9999\n",
      "pin set successfull\n"
     ]
    }
   ],
   "source": [
    "hdfc=Atm()"
   ]
  },
  {
   "cell_type": "code",
   "execution_count": 11,
   "id": "d1fa0b6a",
   "metadata": {},
   "outputs": [
    {
     "name": "stdout",
     "output_type": "stream",
     "text": [
      "enter your pin9999\n",
      "enter the amount100000\n",
      "deposit successfull\n"
     ]
    }
   ],
   "source": [
    "hdfc.deposit()"
   ]
  },
  {
   "cell_type": "code",
   "execution_count": 12,
   "id": "f6f12058",
   "metadata": {},
   "outputs": [
    {
     "name": "stdout",
     "output_type": "stream",
     "text": [
      "enter your pin9999\n",
      "enter the amount90000\n",
      "operation successful\n"
     ]
    }
   ],
   "source": [
    "hdfc.withdraw()"
   ]
  },
  {
   "cell_type": "code",
   "execution_count": 13,
   "id": "994fdd1e",
   "metadata": {},
   "outputs": [
    {
     "name": "stdout",
     "output_type": "stream",
     "text": [
      "enter your pin9999\n",
      "10000\n"
     ]
    }
   ],
   "source": [
    "hdfc.check_balance()"
   ]
  },
  {
   "cell_type": "code",
   "execution_count": 14,
   "id": "88b5a72d",
   "metadata": {},
   "outputs": [
    {
     "name": "stdout",
     "output_type": "stream",
     "text": [
      "enter your pin1234\n",
      "480000\n"
     ]
    }
   ],
   "source": [
    "sbi.check_balance()"
   ]
  },
  {
   "cell_type": "code",
   "execution_count": 15,
   "id": "ec8f4620",
   "metadata": {},
   "outputs": [
    {
     "data": {
      "text/plain": [
       "140479725944400"
      ]
     },
     "execution_count": 15,
     "metadata": {},
     "output_type": "execute_result"
    }
   ],
   "source": [
    "id(sbi)"
   ]
  },
  {
   "cell_type": "code",
   "execution_count": 16,
   "id": "b3bf2f8b",
   "metadata": {},
   "outputs": [
    {
     "data": {
      "text/plain": [
       "140479725943872"
      ]
     },
     "execution_count": 16,
     "metadata": {},
     "output_type": "execute_result"
    }
   ],
   "source": [
    "id(hdfc)"
   ]
  },
  {
   "cell_type": "code",
   "execution_count": 9,
   "id": "242bbfc9",
   "metadata": {},
   "outputs": [
    {
     "data": {
      "text/plain": [
       "'1234'"
      ]
     },
     "execution_count": 9,
     "metadata": {},
     "output_type": "execute_result"
    }
   ],
   "source": [
    "sbi._Atm__pin "
   ]
  },
  {
   "cell_type": "code",
   "execution_count": null,
   "id": "6e87c7ba",
   "metadata": {},
   "outputs": [],
   "source": []
  }
 ],
 "metadata": {
  "kernelspec": {
   "display_name": "Python 3 (ipykernel)",
   "language": "python",
   "name": "python3"
  },
  "language_info": {
   "codemirror_mode": {
    "name": "ipython",
    "version": 3
   },
   "file_extension": ".py",
   "mimetype": "text/x-python",
   "name": "python",
   "nbconvert_exporter": "python",
   "pygments_lexer": "ipython3",
   "version": "3.9.7"
  }
 },
 "nbformat": 4,
 "nbformat_minor": 5
}
