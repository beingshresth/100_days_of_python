{
 "cells": [
  {
   "cell_type": "markdown",
   "id": "d7416962",
   "metadata": {},
   "source": [
    "## common functions"
   ]
  },
  {
   "cell_type": "markdown",
   "id": "fdc724d9",
   "metadata": {},
   "source": [
    "1. len\n",
    "2. max\n",
    "3. min\n",
    "4. sorted "
   ]
  },
  {
   "cell_type": "code",
   "execution_count": 3,
   "id": "597710dc",
   "metadata": {},
   "outputs": [
    {
     "data": {
      "text/plain": [
       "7"
      ]
     },
     "execution_count": 3,
     "metadata": {},
     "output_type": "execute_result"
    }
   ],
   "source": [
    "c = \"kolkata\"\n",
    "len(c)"
   ]
  },
  {
   "cell_type": "code",
   "execution_count": 4,
   "id": "23b84adc",
   "metadata": {},
   "outputs": [
    {
     "data": {
      "text/plain": [
       "'t'"
      ]
     },
     "execution_count": 4,
     "metadata": {},
     "output_type": "execute_result"
    }
   ],
   "source": [
    "max(c) #max ASCI value "
   ]
  },
  {
   "cell_type": "code",
   "execution_count": 5,
   "id": "43d693ed",
   "metadata": {},
   "outputs": [
    {
     "data": {
      "text/plain": [
       "'a'"
      ]
     },
     "execution_count": 5,
     "metadata": {},
     "output_type": "execute_result"
    }
   ],
   "source": [
    "min(c) # min ASCI value"
   ]
  },
  {
   "cell_type": "code",
   "execution_count": 6,
   "id": "c328b718",
   "metadata": {},
   "outputs": [
    {
     "data": {
      "text/plain": [
       "['a', 'a', 'k', 'k', 'l', 'o', 't']"
      ]
     },
     "execution_count": 6,
     "metadata": {},
     "output_type": "execute_result"
    }
   ],
   "source": [
    "sorted(c)"
   ]
  },
  {
   "cell_type": "code",
   "execution_count": 7,
   "id": "a1cd52e9",
   "metadata": {},
   "outputs": [
    {
     "data": {
      "text/plain": [
       "['t', 'o', 'l', 'k', 'k', 'a', 'a']"
      ]
     },
     "execution_count": 7,
     "metadata": {},
     "output_type": "execute_result"
    }
   ],
   "source": [
    "sorted(c,reverse=True)"
   ]
  },
  {
   "cell_type": "markdown",
   "id": "66b0be9e",
   "metadata": {},
   "source": [
    "## 1. Capitailize/Title/lower/swapcase"
   ]
  },
  {
   "cell_type": "code",
   "execution_count": 9,
   "id": "118b389f",
   "metadata": {},
   "outputs": [
    {
     "data": {
      "text/plain": [
       "'Kolkata'"
      ]
     },
     "execution_count": 9,
     "metadata": {},
     "output_type": "execute_result"
    }
   ],
   "source": [
    "#capitalize\n",
    "c\n",
    "c.capitalize()"
   ]
  },
  {
   "cell_type": "code",
   "execution_count": 11,
   "id": "67674a25",
   "metadata": {},
   "outputs": [
    {
     "data": {
      "text/plain": [
       "'It Is Raining Outside'"
      ]
     },
     "execution_count": 11,
     "metadata": {},
     "output_type": "execute_result"
    }
   ],
   "source": [
    "#title\n",
    "\"it is raining outside\".title()"
   ]
  },
  {
   "cell_type": "code",
   "execution_count": 12,
   "id": "08ace6d8",
   "metadata": {},
   "outputs": [
    {
     "data": {
      "text/plain": [
       "'KOLKATA'"
      ]
     },
     "execution_count": 12,
     "metadata": {},
     "output_type": "execute_result"
    }
   ],
   "source": [
    "#uppercase\n",
    "c.upper()"
   ]
  },
  {
   "cell_type": "code",
   "execution_count": 13,
   "id": "8107a684",
   "metadata": {},
   "outputs": [
    {
     "data": {
      "text/plain": [
       "'kolkata'"
      ]
     },
     "execution_count": 13,
     "metadata": {},
     "output_type": "execute_result"
    }
   ],
   "source": [
    "#lower\n",
    "c.lower()"
   ]
  },
  {
   "cell_type": "code",
   "execution_count": 14,
   "id": "5bb9b4b0",
   "metadata": {},
   "outputs": [
    {
     "data": {
      "text/plain": [
       "'KoLkATa'"
      ]
     },
     "execution_count": 14,
     "metadata": {},
     "output_type": "execute_result"
    }
   ],
   "source": [
    "#swapcase\n",
    "\"kOlKatA\".swapcase()"
   ]
  },
  {
   "cell_type": "markdown",
   "id": "41c0c972",
   "metadata": {},
   "source": [
    "## 2.Count"
   ]
  },
  {
   "cell_type": "code",
   "execution_count": 15,
   "id": "6ea6b60f",
   "metadata": {},
   "outputs": [
    {
     "data": {
      "text/plain": [
       "1"
      ]
     },
     "execution_count": 15,
     "metadata": {},
     "output_type": "execute_result"
    }
   ],
   "source": [
    "\"it is raining outside\".count(\"is\")"
   ]
  },
  {
   "cell_type": "code",
   "execution_count": 16,
   "id": "cd987506",
   "metadata": {},
   "outputs": [
    {
     "data": {
      "text/plain": [
       "5"
      ]
     },
     "execution_count": 16,
     "metadata": {},
     "output_type": "execute_result"
    }
   ],
   "source": [
    "\"it is raining outside\".count(\"i\")"
   ]
  },
  {
   "cell_type": "code",
   "execution_count": 17,
   "id": "d1347f46",
   "metadata": {},
   "outputs": [
    {
     "data": {
      "text/plain": [
       "1"
      ]
     },
     "execution_count": 17,
     "metadata": {},
     "output_type": "execute_result"
    }
   ],
   "source": [
    "\"it is raining outside\".count(\"rain\")"
   ]
  },
  {
   "cell_type": "markdown",
   "id": "1316c20c",
   "metadata": {},
   "source": [
    "## 3.Find/Index"
   ]
  },
  {
   "cell_type": "code",
   "execution_count": 18,
   "id": "6a830a6d",
   "metadata": {},
   "outputs": [
    {
     "data": {
      "text/plain": [
       "3"
      ]
     },
     "execution_count": 18,
     "metadata": {},
     "output_type": "execute_result"
    }
   ],
   "source": [
    "\"it is raining outside\".find(\"is\")"
   ]
  },
  {
   "cell_type": "code",
   "execution_count": 19,
   "id": "5ab8df38",
   "metadata": {},
   "outputs": [
    {
     "data": {
      "text/plain": [
       "6"
      ]
     },
     "execution_count": 19,
     "metadata": {},
     "output_type": "execute_result"
    }
   ],
   "source": [
    "\"it is raining outside\".find(\"rain\")"
   ]
  },
  {
   "cell_type": "code",
   "execution_count": 20,
   "id": "36e43964",
   "metadata": {},
   "outputs": [
    {
     "data": {
      "text/plain": [
       "3"
      ]
     },
     "execution_count": 20,
     "metadata": {},
     "output_type": "execute_result"
    }
   ],
   "source": [
    "\"it is raining outside\".index(\"is\")"
   ]
  },
  {
   "cell_type": "code",
   "execution_count": 21,
   "id": "e3c152ef",
   "metadata": {},
   "outputs": [],
   "source": [
    "#find preferred "
   ]
  },
  {
   "cell_type": "markdown",
   "id": "fc2726ef",
   "metadata": {},
   "source": [
    "## endswith/startswith"
   ]
  },
  {
   "cell_type": "code",
   "execution_count": 23,
   "id": "395d6857",
   "metadata": {},
   "outputs": [
    {
     "data": {
      "text/plain": [
       "False"
      ]
     },
     "execution_count": 23,
     "metadata": {},
     "output_type": "execute_result"
    }
   ],
   "source": [
    "\"it is raining outside\".endswith(\"ing\")"
   ]
  },
  {
   "cell_type": "code",
   "execution_count": 27,
   "id": "75a4204a",
   "metadata": {},
   "outputs": [
    {
     "data": {
      "text/plain": [
       "True"
      ]
     },
     "execution_count": 27,
     "metadata": {},
     "output_type": "execute_result"
    }
   ],
   "source": [
    "\"it is raining outside\".startswith(\"it\")"
   ]
  },
  {
   "cell_type": "markdown",
   "id": "084a3e3d",
   "metadata": {},
   "source": [
    "## 5. format"
   ]
  },
  {
   "cell_type": "code",
   "execution_count": 28,
   "id": "94bb15d6",
   "metadata": {},
   "outputs": [
    {
     "data": {
      "text/plain": [
       "'hello my name is shresth and I am 21'"
      ]
     },
     "execution_count": 28,
     "metadata": {},
     "output_type": "execute_result"
    }
   ],
   "source": [
    "\"hello my name is {} and I am {}\".format(\"shresth\",21)"
   ]
  },
  {
   "cell_type": "code",
   "execution_count": 29,
   "id": "77007918",
   "metadata": {},
   "outputs": [
    {
     "data": {
      "text/plain": [
       "'hello my name is 21 and I am shresth'"
      ]
     },
     "execution_count": 29,
     "metadata": {},
     "output_type": "execute_result"
    }
   ],
   "source": [
    "\"hello my name is {1} and I am {0}\".format(\"shresth\",21)"
   ]
  },
  {
   "cell_type": "code",
   "execution_count": 30,
   "id": "cceca438",
   "metadata": {},
   "outputs": [
    {
     "data": {
      "text/plain": [
       "'hello my name is shresth and I am 21'"
      ]
     },
     "execution_count": 30,
     "metadata": {},
     "output_type": "execute_result"
    }
   ],
   "source": [
    "\"hello my name is {name} and I am {age}\".format(name=\"shresth\",age=21)"
   ]
  },
  {
   "cell_type": "markdown",
   "id": "075e8ed2",
   "metadata": {},
   "source": [
    "## 6.isalnum/isalpha/isdecimal/isdigit/isidentifier"
   ]
  },
  {
   "cell_type": "code",
   "execution_count": 31,
   "id": "ca66bff7",
   "metadata": {},
   "outputs": [
    {
     "data": {
      "text/plain": [
       "False"
      ]
     },
     "execution_count": 31,
     "metadata": {},
     "output_type": "execute_result"
    }
   ],
   "source": [
    "\"FLAT20%\".isalnum()"
   ]
  },
  {
   "cell_type": "code",
   "execution_count": 34,
   "id": "0424de3e",
   "metadata": {},
   "outputs": [
    {
     "data": {
      "text/plain": [
       "True"
      ]
     },
     "execution_count": 34,
     "metadata": {},
     "output_type": "execute_result"
    }
   ],
   "source": [
    "\"FLAT\".isalpha()"
   ]
  },
  {
   "cell_type": "code",
   "execution_count": 35,
   "id": "c6b239da",
   "metadata": {},
   "outputs": [
    {
     "data": {
      "text/plain": [
       "False"
      ]
     },
     "execution_count": 35,
     "metadata": {},
     "output_type": "execute_result"
    }
   ],
   "source": [
    "\"20A\".isdigit()"
   ]
  },
  {
   "cell_type": "code",
   "execution_count": 36,
   "id": "36e23bb4",
   "metadata": {},
   "outputs": [
    {
     "data": {
      "text/plain": [
       "True"
      ]
     },
     "execution_count": 36,
     "metadata": {},
     "output_type": "execute_result"
    }
   ],
   "source": [
    "\"hello_world\".isidentifier()"
   ]
  },
  {
   "cell_type": "markdown",
   "id": "174ea86a",
   "metadata": {},
   "source": [
    "## 7.Split "
   ]
  },
  {
   "cell_type": "code",
   "execution_count": 37,
   "id": "c2318b13",
   "metadata": {},
   "outputs": [
    {
     "data": {
      "text/plain": [
       "['who', 'is', 'the', 'prime', 'minister', 'of', 'india']"
      ]
     },
     "execution_count": 37,
     "metadata": {},
     "output_type": "execute_result"
    }
   ],
   "source": [
    "\"who is the prime minister of india\".split()"
   ]
  },
  {
   "cell_type": "code",
   "execution_count": 39,
   "id": "12bd19c1",
   "metadata": {},
   "outputs": [
    {
     "data": {
      "text/plain": [
       "['who is the ', ' minister of india']"
      ]
     },
     "execution_count": 39,
     "metadata": {},
     "output_type": "execute_result"
    }
   ],
   "source": [
    "\"who is the prime minister of india\".split(\"prime\")"
   ]
  },
  {
   "cell_type": "markdown",
   "id": "cfb024cb",
   "metadata": {},
   "source": [
    "## 8. Join"
   ]
  },
  {
   "cell_type": "code",
   "execution_count": 42,
   "id": "af8a6dcb",
   "metadata": {},
   "outputs": [
    {
     "data": {
      "text/plain": [
       "'who is the prime minister of india'"
      ]
     },
     "execution_count": 42,
     "metadata": {},
     "output_type": "execute_result"
    }
   ],
   "source": [
    "\" \".join(['who', 'is', 'the', 'prime', 'minister', 'of', 'india'])"
   ]
  },
  {
   "cell_type": "code",
   "execution_count": 43,
   "id": "6296e8ae",
   "metadata": {},
   "outputs": [
    {
     "data": {
      "text/plain": [
       "'who-is-the-prime-minister-of-india'"
      ]
     },
     "execution_count": 43,
     "metadata": {},
     "output_type": "execute_result"
    }
   ],
   "source": [
    "\"-\".join(['who', 'is', 'the', 'prime', 'minister', 'of', 'india'])"
   ]
  },
  {
   "cell_type": "markdown",
   "id": "d489f3a7",
   "metadata": {},
   "source": [
    "## 9. Replace"
   ]
  },
  {
   "cell_type": "code",
   "execution_count": 45,
   "id": "37313241",
   "metadata": {},
   "outputs": [
    {
     "data": {
      "text/plain": [
       "'Hi my name is kashish '"
      ]
     },
     "execution_count": 45,
     "metadata": {},
     "output_type": "execute_result"
    }
   ],
   "source": [
    "\"Hi my name is Shresth \".replace(\"Shresth\",\"kashish\")"
   ]
  },
  {
   "cell_type": "markdown",
   "id": "ac73406c",
   "metadata": {},
   "source": [
    "## 10. Strip"
   ]
  },
  {
   "cell_type": "code",
   "execution_count": 46,
   "id": "dba66d67",
   "metadata": {},
   "outputs": [
    {
     "data": {
      "text/plain": [
       "'        shresth.     '"
      ]
     },
     "execution_count": 46,
     "metadata": {},
     "output_type": "execute_result"
    }
   ],
   "source": [
    "name=\"        shresth.    \"\n"
   ]
  },
  {
   "cell_type": "code",
   "execution_count": 47,
   "id": "83297a55",
   "metadata": {},
   "outputs": [
    {
     "data": {
      "text/plain": [
       "'shresth.'"
      ]
     },
     "execution_count": 47,
     "metadata": {},
     "output_type": "execute_result"
    }
   ],
   "source": [
    "name.strip()"
   ]
  },
  {
   "cell_type": "code",
   "execution_count": null,
   "id": "18a831dd",
   "metadata": {},
   "outputs": [],
   "source": []
  }
 ],
 "metadata": {
  "kernelspec": {
   "display_name": "Python 3 (ipykernel)",
   "language": "python",
   "name": "python3"
  },
  "language_info": {
   "codemirror_mode": {
    "name": "ipython",
    "version": 3
   },
   "file_extension": ".py",
   "mimetype": "text/x-python",
   "name": "python",
   "nbconvert_exporter": "python",
   "pygments_lexer": "ipython3",
   "version": "3.9.7"
  }
 },
 "nbformat": 4,
 "nbformat_minor": 5
}
