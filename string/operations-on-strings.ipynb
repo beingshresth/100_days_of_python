{
 "cells": [
  {
   "cell_type": "markdown",
   "id": "81d4eb6e",
   "metadata": {},
   "source": [
    "### Operations is Strings"
   ]
  },
  {
   "cell_type": "raw",
   "id": "930a63fa",
   "metadata": {},
   "source": [
    "1. Arithmetic operations\n",
    "2. Relational operation\n",
    "3. Logical operations\n",
    "4. loops on strings\n",
    "5. membership operation"
   ]
  },
  {
   "cell_type": "markdown",
   "id": "9183e674",
   "metadata": {},
   "source": [
    "### Arithmetic "
   ]
  },
  {
   "cell_type": "code",
   "execution_count": 5,
   "id": "a05efa66",
   "metadata": {},
   "outputs": [
    {
     "data": {
      "text/plain": [
       "'hello-world'"
      ]
     },
     "execution_count": 5,
     "metadata": {},
     "output_type": "execute_result"
    }
   ],
   "source": [
    "#concatenation\n",
    "\"hello\"+\"-\"\"world\""
   ]
  },
  {
   "cell_type": "code",
   "execution_count": 3,
   "id": "bbeb3f3d",
   "metadata": {},
   "outputs": [
    {
     "name": "stdout",
     "output_type": "stream",
     "text": [
      "**************************************************\n"
     ]
    }
   ],
   "source": [
    "#string multiplication\n",
    "print(\"*\"*50)"
   ]
  },
  {
   "cell_type": "code",
   "execution_count": 4,
   "id": "d6b65cb8",
   "metadata": {},
   "outputs": [
    {
     "name": "stdout",
     "output_type": "stream",
     "text": [
      "hellohellohellohellohellohellohellohellohellohello\n"
     ]
    }
   ],
   "source": [
    "print(\"hello\"*10)"
   ]
  },
  {
   "cell_type": "markdown",
   "id": "7c53aa28",
   "metadata": {},
   "source": [
    "### Relational"
   ]
  },
  {
   "cell_type": "code",
   "execution_count": 6,
   "id": "792c6e7a",
   "metadata": {},
   "outputs": [
    {
     "data": {
      "text/plain": [
       "False"
      ]
     },
     "execution_count": 6,
     "metadata": {},
     "output_type": "execute_result"
    }
   ],
   "source": [
    "\"hello\"==\"world\""
   ]
  },
  {
   "cell_type": "code",
   "execution_count": 7,
   "id": "ff4132d4",
   "metadata": {},
   "outputs": [
    {
     "data": {
      "text/plain": [
       "True"
      ]
     },
     "execution_count": 7,
     "metadata": {},
     "output_type": "execute_result"
    }
   ],
   "source": [
    "\"hello\"!=\"world\""
   ]
  },
  {
   "cell_type": "code",
   "execution_count": 8,
   "id": "9c6d183e",
   "metadata": {},
   "outputs": [
    {
     "data": {
      "text/plain": [
       "False"
      ]
     },
     "execution_count": 8,
     "metadata": {},
     "output_type": "execute_result"
    }
   ],
   "source": [
    "\"mumbai\" > \"pune\"\n",
    "#lexiographically--> dictionary mein joh word pehle aayega woh chota hoga "
   ]
  },
  {
   "cell_type": "code",
   "execution_count": 11,
   "id": "f4621a7b",
   "metadata": {},
   "outputs": [
    {
     "data": {
      "text/plain": [
       "True"
      ]
     },
     "execution_count": 11,
     "metadata": {},
     "output_type": "execute_result"
    }
   ],
   "source": [
    "\"Goa\"<\"Kolkata\""
   ]
  },
  {
   "cell_type": "markdown",
   "id": "423a8361",
   "metadata": {},
   "source": [
    "### Logical "
   ]
  },
  {
   "cell_type": "code",
   "execution_count": 12,
   "id": "4dee92c8",
   "metadata": {},
   "outputs": [
    {
     "data": {
      "text/plain": [
       "'world'"
      ]
     },
     "execution_count": 12,
     "metadata": {},
     "output_type": "execute_result"
    }
   ],
   "source": [
    "\"hello\"and\"world\""
   ]
  },
  {
   "cell_type": "code",
   "execution_count": null,
   "id": "bc7fb9a8",
   "metadata": {},
   "outputs": [],
   "source": [
    "\"\" empty string--> False\n",
    "\"jhfjg\"--->true "
   ]
  },
  {
   "cell_type": "code",
   "execution_count": 13,
   "id": "67c7c62b",
   "metadata": {},
   "outputs": [
    {
     "data": {
      "text/plain": [
       "''"
      ]
     },
     "execution_count": 13,
     "metadata": {},
     "output_type": "execute_result"
    }
   ],
   "source": [
    "\"\" and \"hello\""
   ]
  },
  {
   "cell_type": "code",
   "execution_count": 14,
   "id": "54aa0453",
   "metadata": {},
   "outputs": [
    {
     "data": {
      "text/plain": [
       "'thre'"
      ]
     },
     "execution_count": 14,
     "metadata": {},
     "output_type": "execute_result"
    }
   ],
   "source": [
    "\"\" or \"thre\""
   ]
  },
  {
   "cell_type": "code",
   "execution_count": 15,
   "id": "1b5aaaf8",
   "metadata": {},
   "outputs": [
    {
     "data": {
      "text/plain": [
       "'hello'"
      ]
     },
     "execution_count": 15,
     "metadata": {},
     "output_type": "execute_result"
    }
   ],
   "source": [
    "\"hello\" or \"world\""
   ]
  },
  {
   "cell_type": "code",
   "execution_count": 16,
   "id": "431c568e",
   "metadata": {},
   "outputs": [
    {
     "data": {
      "text/plain": [
       "False"
      ]
     },
     "execution_count": 16,
     "metadata": {},
     "output_type": "execute_result"
    }
   ],
   "source": [
    "not \"hello\""
   ]
  },
  {
   "cell_type": "markdown",
   "id": "bb2783a7",
   "metadata": {},
   "source": [
    "### loop"
   ]
  },
  {
   "cell_type": "code",
   "execution_count": 23,
   "id": "db88f676",
   "metadata": {},
   "outputs": [
    {
     "name": "stdout",
     "output_type": "stream",
     "text": [
      "d\n",
      "l\n",
      "r\n",
      "o\n",
      "w\n",
      " \n",
      "o\n",
      "l\n",
      "l\n",
      "e\n",
      "h\n"
     ]
    }
   ],
   "source": [
    "c = \"hello world\"\n",
    "for i in c[::-1]:\n",
    "    print(i)"
   ]
  },
  {
   "cell_type": "markdown",
   "id": "2f91364a",
   "metadata": {},
   "source": [
    "### membership"
   ]
  },
  {
   "cell_type": "code",
   "execution_count": 24,
   "id": "355cbe04",
   "metadata": {},
   "outputs": [
    {
     "data": {
      "text/plain": [
       "True"
      ]
     },
     "execution_count": 24,
     "metadata": {},
     "output_type": "execute_result"
    }
   ],
   "source": [
    "'h' in c"
   ]
  },
  {
   "cell_type": "code",
   "execution_count": 25,
   "id": "ea38505d",
   "metadata": {},
   "outputs": [
    {
     "data": {
      "text/plain": [
       "False"
      ]
     },
     "execution_count": 25,
     "metadata": {},
     "output_type": "execute_result"
    }
   ],
   "source": [
    "'W' in c"
   ]
  },
  {
   "cell_type": "code",
   "execution_count": null,
   "id": "f68d4069",
   "metadata": {},
   "outputs": [],
   "source": []
  }
 ],
 "metadata": {
  "kernelspec": {
   "display_name": "Python 3 (ipykernel)",
   "language": "python",
   "name": "python3"
  },
  "language_info": {
   "codemirror_mode": {
    "name": "ipython",
    "version": 3
   },
   "file_extension": ".py",
   "mimetype": "text/x-python",
   "name": "python",
   "nbconvert_exporter": "python",
   "pygments_lexer": "ipython3",
   "version": "3.9.7"
  }
 },
 "nbformat": 4,
 "nbformat_minor": 5
}
