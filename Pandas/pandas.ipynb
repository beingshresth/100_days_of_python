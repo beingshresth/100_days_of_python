{
 "cells": [
  {
   "cell_type": "raw",
   "id": "42b37412",
   "metadata": {},
   "source": [
    "In computer programming pandas is a software library written for the python programming lamguage for data manipulation and analysis . in particular it offer data structure and operations for manipulating numerical tables and time series."
   ]
  },
  {
   "cell_type": "raw",
   "id": "867b0fbd",
   "metadata": {},
   "source": [
    "pandas main data structure \n",
    "1.Dataframes\n",
    "2.Series"
   ]
  },
  {
   "cell_type": "code",
   "execution_count": null,
   "id": "e5ecd9d9",
   "metadata": {},
   "outputs": [],
   "source": []
  }
 ],
 "metadata": {
  "kernelspec": {
   "display_name": "Python 3 (ipykernel)",
   "language": "python",
   "name": "python3"
  },
  "language_info": {
   "codemirror_mode": {
    "name": "ipython",
    "version": 3
   },
   "file_extension": ".py",
   "mimetype": "text/x-python",
   "name": "python",
   "nbconvert_exporter": "python",
   "pygments_lexer": "ipython3",
   "version": "3.9.7"
  }
 },
 "nbformat": 4,
 "nbformat_minor": 5
}
