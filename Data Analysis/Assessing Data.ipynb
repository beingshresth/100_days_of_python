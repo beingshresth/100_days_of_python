{
 "cells": [
  {
   "cell_type": "markdown",
   "id": "d3fa7f5d",
   "metadata": {},
   "source": [
    "### Accessing data"
   ]
  },
  {
   "cell_type": "markdown",
   "id": "c592bf1d",
   "metadata": {},
   "source": [
    "in this step , data is to be understood more deeply . before implementing methods to clean it. you will definitely need to have a better idea about what the data is about."
   ]
  },
  {
   "cell_type": "markdown",
   "id": "f2888558",
   "metadata": {},
   "source": [
    "### Type of Unclean Data"
   ]
  },
  {
   "cell_type": "raw",
   "id": "2b9d8d45",
   "metadata": {},
   "source": [
    "there are 2 kind of unclean data :\n",
    "    1.Dirty Data (data with quality issue):\n",
    "        also known as low quality data.Low quality data has content issue\n",
    "    2.Messy data(Data with Tidiness issue):\n",
    "        Messy data , also known as untidy data . it has structural issue\n",
    "    "
   ]
  },
  {
   "cell_type": "markdown",
   "id": "cf4d55e0",
   "metadata": {},
   "source": [
    "### 1.Dirty data\n",
    "-duplicated data\n",
    "-missing data\n",
    "-corrupt data\n",
    "-inaccurate data"
   ]
  },
  {
   "cell_type": "markdown",
   "id": "7a9fd6ac",
   "metadata": {},
   "source": [
    "### 2.Messy Data\n"
   ]
  },
  {
   "cell_type": "raw",
   "id": "aa4120b7",
   "metadata": {},
   "source": [
    "when the data has structural issue is it known as messy or untidy data.\n",
    "\n",
    "Tidy data has the following properties:\n",
    "    - each variable forms a column\n",
    "    - each observation forms a row\n",
    "    - each observation unit forms a table\n",
    "if a data violates any one of the above it is known as untidy data."
   ]
  },
  {
   "cell_type": "markdown",
   "id": "1096f325",
   "metadata": {},
   "source": [
    "## Type of Assessment"
   ]
  },
  {
   "cell_type": "raw",
   "id": "bb14622a",
   "metadata": {},
   "source": [
    "There are 2 types of Assessment types:\n",
    "\n",
    "1. Manual - looking through the data manually in google sheet\n",
    "2. Document - By using pandas functions such as info() , describe() or sample()"
   ]
  },
  {
   "cell_type": "raw",
   "id": "18ab3e8d",
   "metadata": {},
   "source": [
    "Steps in Assessment are:\n",
    "\n",
    "1.Discover\n",
    "2.Document"
   ]
  },
  {
   "cell_type": "raw",
   "id": "833568b8",
   "metadata": {},
   "source": [
    " Data Quality dimesion\n",
    "    1. completeness issue\n",
    "    2. Validity issue\n",
    "    3. Accuracy issue\n",
    "    4. Consistency issue"
   ]
  },
  {
   "cell_type": "code",
   "execution_count": null,
   "id": "345e70fc",
   "metadata": {},
   "outputs": [],
   "source": []
  }
 ],
 "metadata": {
  "kernelspec": {
   "display_name": "Python 3 (ipykernel)",
   "language": "python",
   "name": "python3"
  },
  "language_info": {
   "codemirror_mode": {
    "name": "ipython",
    "version": 3
   },
   "file_extension": ".py",
   "mimetype": "text/x-python",
   "name": "python",
   "nbconvert_exporter": "python",
   "pygments_lexer": "ipython3",
   "version": "3.9.7"
  }
 },
 "nbformat": 4,
 "nbformat_minor": 5
}
