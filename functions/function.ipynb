{
 "cells": [
  {
   "cell_type": "markdown",
   "id": "f710d2b8",
   "metadata": {},
   "source": [
    "# Functions"
   ]
  },
  {
   "cell_type": "code",
   "execution_count": null,
   "id": "5c0a1be2",
   "metadata": {},
   "outputs": [],
   "source": [
    "#functions make programming easier"
   ]
  },
  {
   "cell_type": "code",
   "execution_count": 1,
   "id": "cb2eff99",
   "metadata": {},
   "outputs": [],
   "source": [
    "#it is block of code jiska khud ka ek purpose hota h !"
   ]
  },
  {
   "cell_type": "code",
   "execution_count": 2,
   "id": "42d52d5a",
   "metadata": {},
   "outputs": [],
   "source": [
    "#two Principal of function \n",
    "#1. Abstraction \n",
    "#2. Decomposition "
   ]
  },
  {
   "cell_type": "raw",
   "id": "7f3e14e0",
   "metadata": {},
   "source": [
    "#components of functions\n",
    "1. def keyword\n",
    "ex: def is_even(i) : \n",
    "        #doc string .......\n",
    "        x=i%2==0\n",
    "        return x\n",
    "        \n",
    "#call function\n",
    "is_even(7)"
   ]
  },
  {
   "cell_type": "code",
   "execution_count": 3,
   "id": "ef89a9df",
   "metadata": {},
   "outputs": [],
   "source": [
    "def is_even(number):\n",
    "    \"\"\"\n",
    "    this function tells if a given number is even or odd\n",
    "    input: any valid integer\n",
    "    output: odd/even\n",
    "    created by ; shresth\n",
    "    last edited on 27 jun 2022\n",
    "    \"\"\"\n",
    "    if number %2==0:\n",
    "        return \"even\"\n",
    "    else:\n",
    "        return \"odd\""
   ]
  },
  {
   "cell_type": "code",
   "execution_count": 5,
   "id": "d025249f",
   "metadata": {},
   "outputs": [
    {
     "name": "stdout",
     "output_type": "stream",
     "text": [
      "odd\n",
      "even\n",
      "odd\n",
      "even\n",
      "odd\n",
      "even\n",
      "odd\n",
      "even\n",
      "odd\n",
      "even\n",
      "\n",
      "    this function tells if a given number is even or odd\n",
      "    input: any valid integer\n",
      "    output: odd/even\n",
      "    created by ; shresth\n",
      "    last edited on 27 jun 2022\n",
      "    \n"
     ]
    }
   ],
   "source": [
    "for i in range(1,11):\n",
    "    print(is_even(i))\n",
    "print(is_even.__doc__)"
   ]
  },
  {
   "cell_type": "code",
   "execution_count": 6,
   "id": "0e482b62",
   "metadata": {},
   "outputs": [
    {
     "data": {
      "text/plain": [
       "\"print(value, ..., sep=' ', end='\\\\n', file=sys.stdout, flush=False)\\n\\nPrints the values to a stream, or to sys.stdout by default.\\nOptional keyword arguments:\\nfile:  a file-like object (stream); defaults to the current sys.stdout.\\nsep:   string inserted between values, default a space.\\nend:   string appended after the last value, default a newline.\\nflush: whether to forcibly flush the stream.\""
      ]
     },
     "execution_count": 6,
     "metadata": {},
     "output_type": "execute_result"
    }
   ],
   "source": [
    "print.__doc__"
   ]
  },
  {
   "cell_type": "markdown",
   "id": "7fdc6564",
   "metadata": {},
   "source": [
    "## Parameter VS Argument "
   ]
  },
  {
   "cell_type": "raw",
   "id": "92c40664",
   "metadata": {},
   "source": [
    "1. Default Arguement\n",
    "2. Positional Arguement\n",
    "3. Keyword Arguement\n",
    "4. Arbitrary Arguement "
   ]
  },
  {
   "cell_type": "code",
   "execution_count": 7,
   "id": "9f2c825f",
   "metadata": {},
   "outputs": [
    {
     "data": {
      "text/plain": [
       "8"
      ]
     },
     "execution_count": 7,
     "metadata": {},
     "output_type": "execute_result"
    }
   ],
   "source": [
    "\n",
    "def power(a,b):\n",
    "    return a**b\n",
    "\n",
    "power(2,3)"
   ]
  },
  {
   "cell_type": "code",
   "execution_count": 8,
   "id": "2e0995c5",
   "metadata": {},
   "outputs": [
    {
     "ename": "TypeError",
     "evalue": "power() missing 1 required positional argument: 'b'",
     "output_type": "error",
     "traceback": [
      "\u001b[0;31m---------------------------------------------------------------------------\u001b[0m",
      "\u001b[0;31mTypeError\u001b[0m                                 Traceback (most recent call last)",
      "\u001b[0;32m/var/folders/mx/xq__x0zd52x1vljklz22nsb40000gn/T/ipykernel_22636/512475094.py\u001b[0m in \u001b[0;36m<module>\u001b[0;34m\u001b[0m\n\u001b[0;32m----> 1\u001b[0;31m \u001b[0mpower\u001b[0m\u001b[0;34m(\u001b[0m\u001b[0;36m3\u001b[0m\u001b[0;34m)\u001b[0m\u001b[0;34m\u001b[0m\u001b[0;34m\u001b[0m\u001b[0m\n\u001b[0m",
      "\u001b[0;31mTypeError\u001b[0m: power() missing 1 required positional argument: 'b'"
     ]
    }
   ],
   "source": [
    "power(3)"
   ]
  },
  {
   "cell_type": "code",
   "execution_count": 9,
   "id": "9e1e9103",
   "metadata": {},
   "outputs": [
    {
     "data": {
      "text/plain": [
       "2"
      ]
     },
     "execution_count": 9,
     "metadata": {},
     "output_type": "execute_result"
    }
   ],
   "source": [
    "#defualt arguement \n",
    "def power(a=1,b=1): #defualt value is one \n",
    "    return a**b\n",
    "power(2)"
   ]
  },
  {
   "cell_type": "code",
   "execution_count": 10,
   "id": "601b2fa1",
   "metadata": {},
   "outputs": [
    {
     "data": {
      "text/plain": [
       "8"
      ]
     },
     "execution_count": 10,
     "metadata": {},
     "output_type": "execute_result"
    }
   ],
   "source": [
    "#positional arguement\n",
    "power(2,3) #jis order mei app value bhj rhe uss order mein function mein jayega"
   ]
  },
  {
   "cell_type": "code",
   "execution_count": 11,
   "id": "03860ae7",
   "metadata": {},
   "outputs": [
    {
     "data": {
      "text/plain": [
       "9"
      ]
     },
     "execution_count": 11,
     "metadata": {},
     "output_type": "execute_result"
    }
   ],
   "source": [
    "#keyword arguement \n",
    "power(b=2,a=3) #explictily mentioned the key it override positional argyement"
   ]
  },
  {
   "cell_type": "code",
   "execution_count": 18,
   "id": "517f2c55",
   "metadata": {},
   "outputs": [],
   "source": [
    "#arbitrary arguement\n",
    "def flexi(*number): # * lgane se tuple bn gya \n",
    "    product = 1\n",
    "    print(number)\n",
    "    print(type(number))\n",
    "    for i in number :\n",
    "        product=product*i\n",
    "    print(product)"
   ]
  },
  {
   "cell_type": "code",
   "execution_count": 19,
   "id": "c4b55dea",
   "metadata": {},
   "outputs": [
    {
     "name": "stdout",
     "output_type": "stream",
     "text": [
      "(2,)\n",
      "<class 'tuple'>\n",
      "2\n"
     ]
    }
   ],
   "source": [
    "flexi(2)"
   ]
  },
  {
   "cell_type": "code",
   "execution_count": 20,
   "id": "346150c1",
   "metadata": {},
   "outputs": [
    {
     "name": "stdout",
     "output_type": "stream",
     "text": [
      "(2, 3)\n",
      "<class 'tuple'>\n",
      "6\n"
     ]
    }
   ],
   "source": [
    "flexi(2,3)"
   ]
  },
  {
   "cell_type": "code",
   "execution_count": 21,
   "id": "77f9f46a",
   "metadata": {},
   "outputs": [
    {
     "name": "stdout",
     "output_type": "stream",
     "text": [
      "(4, 5, 7)\n",
      "<class 'tuple'>\n",
      "140\n"
     ]
    }
   ],
   "source": [
    "flexi(4,5,7)"
   ]
  },
  {
   "cell_type": "code",
   "execution_count": null,
   "id": "fb3addb9",
   "metadata": {},
   "outputs": [],
   "source": []
  }
 ],
 "metadata": {
  "kernelspec": {
   "display_name": "Python 3 (ipykernel)",
   "language": "python",
   "name": "python3"
  },
  "language_info": {
   "codemirror_mode": {
    "name": "ipython",
    "version": 3
   },
   "file_extension": ".py",
   "mimetype": "text/x-python",
   "name": "python",
   "nbconvert_exporter": "python",
   "pygments_lexer": "ipython3",
   "version": "3.9.7"
  }
 },
 "nbformat": 4,
 "nbformat_minor": 5
}
